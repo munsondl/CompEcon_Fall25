{
 "cells": [
  {
   "cell_type": "markdown",
   "id": "4e47db59-2004-4c1b-9ee8-780ad21ba08c",
   "metadata": {},
   "source": [
    "# Visualizations with `plotly.express`\n",
    "### by [Jason DeBacker](http://jasondebacker.com), September 2025\n",
    "\n",
    "This Jupyter Notebook will walk you through examples of plots using [`plotly.express`](https://plotly.com/python/plotly-express/) in Python.  We'll cover the types of plots commonly used in economics applications: line and bar graphs, histograms, scatter plots, and whisker plots.  We'll also look at representing geospatial data on shaded maps.\n",
    "\n",
    "As an application, we'll look at Chetty, Friedman, and Hendren's (and others') [Opportunity Insights Project](https://opportunityinsights.org).  This project, from which there are a series of [papers](https://opportunityinsights.org/paper/) seeks to document and understand variation in economic, health, and other outcomes across geography and time in the United States.  To do this, the project contributors have utilized adiministrative data from a number of sources, along with survey data, to consider childhood exposure to various factors and link that to adult outcomes.\n",
    "\n",
    "There website that hosts this project has a number of different datasets available for other researchers.  We'll use data from [\"Where is the Land of Opportunity? The Geography of Intergenerational Mobility in the United States\"](https://eml.berkeley.edu/~saez/chetty-friedman-kline-saezQJE14mobility.pdf) by  Chetty, Hendren, Kline, and Saez (*Quarterly Journal of Economics*, 2014).  Specifically, we'll download the Excel workbook with the online data tables [here](https://opportunityinsights.org/data/).\n",
    "\n",
    "\n",
    "## Line Plots\n",
    "\n",
    "One of the major contributions of this project is a transition matrix that gives the nation-wide probability of a child moving to another point in the income distribution than her parents.  The transitions in this matrix are thus inter-generational.  They tell us the probability of a child born in 1980-82 moving from a household with parents at a certain percentile in the distribution of family income to another percentile as an adult (family income of the child is measured in 2011-2012, when the child is not approximately 30 years old).  \n",
    "\n",
    "One measure of mobility is what is called the \"immobility rate\" or \"staying probability\". This is simply the average of the diagonal elements of the transition matrix.  To see how mobility varies over the distribution of family income, let's plot the staying probabilities at each percentile in the distribution of family income."
   ]
  },
  {
   "cell_type": "code",
   "execution_count": 1,
   "id": "93fc2702-74ee-4f27-a7a9-652ee6414ec8",
   "metadata": {},
   "outputs": [],
   "source": [
    "# imports\n",
    "import numpy as np\n",
    "import pandas as pd\n",
    "import plotly.express as px\n",
    "import plotly.io as pio\n",
    "# pio.renderers.default = 'jupyterlab'\n",
    "pio.renderers.default = 'notebook'\n",
    "import matplotlib.pyplot as plt\n",
    "%matplotlib inline"
   ]
  },
  {
   "cell_type": "code",
   "execution_count": null,
   "id": "830354b1-1411-4599-9c7b-96a693d6e99f",
   "metadata": {},
   "outputs": [
    {
     "ename": "TypeError",
     "evalue": "Cannot convert numpy.ndarray to numpy.ndarray (sheet: Online Data Table 1)",
     "output_type": "error",
     "traceback": [
      "\u001b[0;31m---------------------------------------------------------------------------\u001b[0m",
      "\u001b[0;31mTypeError\u001b[0m                                 Traceback (most recent call last)",
      "Cell \u001b[0;32mIn[3], line 4\u001b[0m\n\u001b[1;32m      1\u001b[0m \u001b[38;5;66;03m# Read in data from Excel workbook directly from URL\u001b[39;00m\n\u001b[1;32m      2\u001b[0m \u001b[38;5;66;03m# transmat = pd.read_excel('http://www.equality-of-opportunity.org/data/descriptive/table1/online_data_tables.xls',\u001b[39;00m\n\u001b[1;32m      3\u001b[0m \u001b[38;5;66;03m#                          sheet_name=\"Online Data Table 1\", header=0, skiprows=8, index_col=0)\u001b[39;00m\n\u001b[0;32m----> 4\u001b[0m transmat \u001b[38;5;241m=\u001b[39m pd\u001b[38;5;241m.\u001b[39mread_excel(\u001b[38;5;124m'\u001b[39m\u001b[38;5;124mhttp://www.equality-of-opportunity.org/data/descriptive/table1/online_data_tables.xls\u001b[39m\u001b[38;5;124m'\u001b[39m,\n\u001b[1;32m      5\u001b[0m                          sheet_name\u001b[38;5;241m=\u001b[39m\u001b[38;5;124m\"\u001b[39m\u001b[38;5;124mOnline Data Table 1\u001b[39m\u001b[38;5;124m\"\u001b[39m, header\u001b[38;5;241m=\u001b[39m\u001b[38;5;241m0\u001b[39m, skiprows\u001b[38;5;241m=\u001b[39m\u001b[38;5;241m8\u001b[39m, index_col\u001b[38;5;241m=\u001b[39m\u001b[38;5;241m0\u001b[39m)\n",
      "File \u001b[0;32m~/anaconda3/lib/python3.11/site-packages/pandas/io/excel/_base.py:508\u001b[0m, in \u001b[0;36mread_excel\u001b[0;34m(io, sheet_name, header, names, index_col, usecols, dtype, engine, converters, true_values, false_values, skiprows, nrows, na_values, keep_default_na, na_filter, verbose, parse_dates, date_parser, date_format, thousands, decimal, comment, skipfooter, storage_options, dtype_backend, engine_kwargs)\u001b[0m\n\u001b[1;32m    502\u001b[0m     \u001b[38;5;28;01mraise\u001b[39;00m \u001b[38;5;167;01mValueError\u001b[39;00m(\n\u001b[1;32m    503\u001b[0m         \u001b[38;5;124m\"\u001b[39m\u001b[38;5;124mEngine should not be specified when passing \u001b[39m\u001b[38;5;124m\"\u001b[39m\n\u001b[1;32m    504\u001b[0m         \u001b[38;5;124m\"\u001b[39m\u001b[38;5;124man ExcelFile - ExcelFile already has the engine set\u001b[39m\u001b[38;5;124m\"\u001b[39m\n\u001b[1;32m    505\u001b[0m     )\n\u001b[1;32m    507\u001b[0m \u001b[38;5;28;01mtry\u001b[39;00m:\n\u001b[0;32m--> 508\u001b[0m     data \u001b[38;5;241m=\u001b[39m io\u001b[38;5;241m.\u001b[39mparse(\n\u001b[1;32m    509\u001b[0m         sheet_name\u001b[38;5;241m=\u001b[39msheet_name,\n\u001b[1;32m    510\u001b[0m         header\u001b[38;5;241m=\u001b[39mheader,\n\u001b[1;32m    511\u001b[0m         names\u001b[38;5;241m=\u001b[39mnames,\n\u001b[1;32m    512\u001b[0m         index_col\u001b[38;5;241m=\u001b[39mindex_col,\n\u001b[1;32m    513\u001b[0m         usecols\u001b[38;5;241m=\u001b[39musecols,\n\u001b[1;32m    514\u001b[0m         dtype\u001b[38;5;241m=\u001b[39mdtype,\n\u001b[1;32m    515\u001b[0m         converters\u001b[38;5;241m=\u001b[39mconverters,\n\u001b[1;32m    516\u001b[0m         true_values\u001b[38;5;241m=\u001b[39mtrue_values,\n\u001b[1;32m    517\u001b[0m         false_values\u001b[38;5;241m=\u001b[39mfalse_values,\n\u001b[1;32m    518\u001b[0m         skiprows\u001b[38;5;241m=\u001b[39mskiprows,\n\u001b[1;32m    519\u001b[0m         nrows\u001b[38;5;241m=\u001b[39mnrows,\n\u001b[1;32m    520\u001b[0m         na_values\u001b[38;5;241m=\u001b[39mna_values,\n\u001b[1;32m    521\u001b[0m         keep_default_na\u001b[38;5;241m=\u001b[39mkeep_default_na,\n\u001b[1;32m    522\u001b[0m         na_filter\u001b[38;5;241m=\u001b[39mna_filter,\n\u001b[1;32m    523\u001b[0m         verbose\u001b[38;5;241m=\u001b[39mverbose,\n\u001b[1;32m    524\u001b[0m         parse_dates\u001b[38;5;241m=\u001b[39mparse_dates,\n\u001b[1;32m    525\u001b[0m         date_parser\u001b[38;5;241m=\u001b[39mdate_parser,\n\u001b[1;32m    526\u001b[0m         date_format\u001b[38;5;241m=\u001b[39mdate_format,\n\u001b[1;32m    527\u001b[0m         thousands\u001b[38;5;241m=\u001b[39mthousands,\n\u001b[1;32m    528\u001b[0m         decimal\u001b[38;5;241m=\u001b[39mdecimal,\n\u001b[1;32m    529\u001b[0m         comment\u001b[38;5;241m=\u001b[39mcomment,\n\u001b[1;32m    530\u001b[0m         skipfooter\u001b[38;5;241m=\u001b[39mskipfooter,\n\u001b[1;32m    531\u001b[0m         dtype_backend\u001b[38;5;241m=\u001b[39mdtype_backend,\n\u001b[1;32m    532\u001b[0m     )\n\u001b[1;32m    533\u001b[0m \u001b[38;5;28;01mfinally\u001b[39;00m:\n\u001b[1;32m    534\u001b[0m     \u001b[38;5;66;03m# make sure to close opened file handles\u001b[39;00m\n\u001b[1;32m    535\u001b[0m     \u001b[38;5;28;01mif\u001b[39;00m should_close:\n",
      "File \u001b[0;32m~/anaconda3/lib/python3.11/site-packages/pandas/io/excel/_base.py:1616\u001b[0m, in \u001b[0;36mExcelFile.parse\u001b[0;34m(self, sheet_name, header, names, index_col, usecols, converters, true_values, false_values, skiprows, nrows, na_values, parse_dates, date_parser, date_format, thousands, comment, skipfooter, dtype_backend, **kwds)\u001b[0m\n\u001b[1;32m   1576\u001b[0m \u001b[38;5;28;01mdef\u001b[39;00m\u001b[38;5;250m \u001b[39m\u001b[38;5;21mparse\u001b[39m(\n\u001b[1;32m   1577\u001b[0m     \u001b[38;5;28mself\u001b[39m,\n\u001b[1;32m   1578\u001b[0m     sheet_name: \u001b[38;5;28mstr\u001b[39m \u001b[38;5;241m|\u001b[39m \u001b[38;5;28mint\u001b[39m \u001b[38;5;241m|\u001b[39m \u001b[38;5;28mlist\u001b[39m[\u001b[38;5;28mint\u001b[39m] \u001b[38;5;241m|\u001b[39m \u001b[38;5;28mlist\u001b[39m[\u001b[38;5;28mstr\u001b[39m] \u001b[38;5;241m|\u001b[39m \u001b[38;5;28;01mNone\u001b[39;00m \u001b[38;5;241m=\u001b[39m \u001b[38;5;241m0\u001b[39m,\n\u001b[0;32m   (...)\u001b[0m\n\u001b[1;32m   1596\u001b[0m     \u001b[38;5;241m*\u001b[39m\u001b[38;5;241m*\u001b[39mkwds,\n\u001b[1;32m   1597\u001b[0m ) \u001b[38;5;241m-\u001b[39m\u001b[38;5;241m>\u001b[39m DataFrame \u001b[38;5;241m|\u001b[39m \u001b[38;5;28mdict\u001b[39m[\u001b[38;5;28mstr\u001b[39m, DataFrame] \u001b[38;5;241m|\u001b[39m \u001b[38;5;28mdict\u001b[39m[\u001b[38;5;28mint\u001b[39m, DataFrame]:\n\u001b[1;32m   1598\u001b[0m \u001b[38;5;250m    \u001b[39m\u001b[38;5;124;03m\"\"\"\u001b[39;00m\n\u001b[1;32m   1599\u001b[0m \u001b[38;5;124;03m    Parse specified sheet(s) into a DataFrame.\u001b[39;00m\n\u001b[1;32m   1600\u001b[0m \n\u001b[0;32m   (...)\u001b[0m\n\u001b[1;32m   1614\u001b[0m \u001b[38;5;124;03m    >>> file.parse()  # doctest: +SKIP\u001b[39;00m\n\u001b[1;32m   1615\u001b[0m \u001b[38;5;124;03m    \"\"\"\u001b[39;00m\n\u001b[0;32m-> 1616\u001b[0m     \u001b[38;5;28;01mreturn\u001b[39;00m \u001b[38;5;28mself\u001b[39m\u001b[38;5;241m.\u001b[39m_reader\u001b[38;5;241m.\u001b[39mparse(\n\u001b[1;32m   1617\u001b[0m         sheet_name\u001b[38;5;241m=\u001b[39msheet_name,\n\u001b[1;32m   1618\u001b[0m         header\u001b[38;5;241m=\u001b[39mheader,\n\u001b[1;32m   1619\u001b[0m         names\u001b[38;5;241m=\u001b[39mnames,\n\u001b[1;32m   1620\u001b[0m         index_col\u001b[38;5;241m=\u001b[39mindex_col,\n\u001b[1;32m   1621\u001b[0m         usecols\u001b[38;5;241m=\u001b[39musecols,\n\u001b[1;32m   1622\u001b[0m         converters\u001b[38;5;241m=\u001b[39mconverters,\n\u001b[1;32m   1623\u001b[0m         true_values\u001b[38;5;241m=\u001b[39mtrue_values,\n\u001b[1;32m   1624\u001b[0m         false_values\u001b[38;5;241m=\u001b[39mfalse_values,\n\u001b[1;32m   1625\u001b[0m         skiprows\u001b[38;5;241m=\u001b[39mskiprows,\n\u001b[1;32m   1626\u001b[0m         nrows\u001b[38;5;241m=\u001b[39mnrows,\n\u001b[1;32m   1627\u001b[0m         na_values\u001b[38;5;241m=\u001b[39mna_values,\n\u001b[1;32m   1628\u001b[0m         parse_dates\u001b[38;5;241m=\u001b[39mparse_dates,\n\u001b[1;32m   1629\u001b[0m         date_parser\u001b[38;5;241m=\u001b[39mdate_parser,\n\u001b[1;32m   1630\u001b[0m         date_format\u001b[38;5;241m=\u001b[39mdate_format,\n\u001b[1;32m   1631\u001b[0m         thousands\u001b[38;5;241m=\u001b[39mthousands,\n\u001b[1;32m   1632\u001b[0m         comment\u001b[38;5;241m=\u001b[39mcomment,\n\u001b[1;32m   1633\u001b[0m         skipfooter\u001b[38;5;241m=\u001b[39mskipfooter,\n\u001b[1;32m   1634\u001b[0m         dtype_backend\u001b[38;5;241m=\u001b[39mdtype_backend,\n\u001b[1;32m   1635\u001b[0m         \u001b[38;5;241m*\u001b[39m\u001b[38;5;241m*\u001b[39mkwds,\n\u001b[1;32m   1636\u001b[0m     )\n",
      "File \u001b[0;32m~/anaconda3/lib/python3.11/site-packages/pandas/io/excel/_base.py:916\u001b[0m, in \u001b[0;36mBaseExcelReader.parse\u001b[0;34m(self, sheet_name, header, names, index_col, usecols, dtype, true_values, false_values, skiprows, nrows, na_values, verbose, parse_dates, date_parser, date_format, thousands, decimal, comment, skipfooter, dtype_backend, **kwds)\u001b[0m\n\u001b[1;32m    914\u001b[0m     \u001b[38;5;28;01mexcept\u001b[39;00m \u001b[38;5;167;01mException\u001b[39;00m \u001b[38;5;28;01mas\u001b[39;00m err:\n\u001b[1;32m    915\u001b[0m         err\u001b[38;5;241m.\u001b[39margs \u001b[38;5;241m=\u001b[39m (\u001b[38;5;124mf\u001b[39m\u001b[38;5;124m\"\u001b[39m\u001b[38;5;132;01m{\u001b[39;00merr\u001b[38;5;241m.\u001b[39margs[\u001b[38;5;241m0\u001b[39m]\u001b[38;5;132;01m}\u001b[39;00m\u001b[38;5;124m (sheet: \u001b[39m\u001b[38;5;132;01m{\u001b[39;00masheetname\u001b[38;5;132;01m}\u001b[39;00m\u001b[38;5;124m)\u001b[39m\u001b[38;5;124m\"\u001b[39m, \u001b[38;5;241m*\u001b[39merr\u001b[38;5;241m.\u001b[39margs[\u001b[38;5;241m1\u001b[39m:])\n\u001b[0;32m--> 916\u001b[0m         \u001b[38;5;28;01mraise\u001b[39;00m err\n\u001b[1;32m    918\u001b[0m \u001b[38;5;28;01mif\u001b[39;00m last_sheetname \u001b[38;5;129;01mis\u001b[39;00m \u001b[38;5;28;01mNone\u001b[39;00m:\n\u001b[1;32m    919\u001b[0m     \u001b[38;5;28;01mraise\u001b[39;00m \u001b[38;5;167;01mValueError\u001b[39;00m(\u001b[38;5;124m\"\u001b[39m\u001b[38;5;124mSheet name is an empty list\u001b[39m\u001b[38;5;124m\"\u001b[39m)\n",
      "File \u001b[0;32m~/anaconda3/lib/python3.11/site-packages/pandas/io/excel/_base.py:903\u001b[0m, in \u001b[0;36mBaseExcelReader.parse\u001b[0;34m(self, sheet_name, header, names, index_col, usecols, dtype, true_values, false_values, skiprows, nrows, na_values, verbose, parse_dates, date_parser, date_format, thousands, decimal, comment, skipfooter, dtype_backend, **kwds)\u001b[0m\n\u001b[1;32m    877\u001b[0m \u001b[38;5;28;01mtry\u001b[39;00m:\n\u001b[1;32m    878\u001b[0m     parser \u001b[38;5;241m=\u001b[39m TextParser(\n\u001b[1;32m    879\u001b[0m         data,\n\u001b[1;32m    880\u001b[0m         names\u001b[38;5;241m=\u001b[39mnames,\n\u001b[0;32m   (...)\u001b[0m\n\u001b[1;32m    900\u001b[0m         \u001b[38;5;241m*\u001b[39m\u001b[38;5;241m*\u001b[39mkwds,\n\u001b[1;32m    901\u001b[0m     )\n\u001b[0;32m--> 903\u001b[0m     output[asheetname] \u001b[38;5;241m=\u001b[39m parser\u001b[38;5;241m.\u001b[39mread(nrows\u001b[38;5;241m=\u001b[39mnrows)\n\u001b[1;32m    905\u001b[0m     \u001b[38;5;28;01mif\u001b[39;00m header_names:\n\u001b[1;32m    906\u001b[0m         output[asheetname]\u001b[38;5;241m.\u001b[39mcolumns \u001b[38;5;241m=\u001b[39m output[asheetname]\u001b[38;5;241m.\u001b[39mcolumns\u001b[38;5;241m.\u001b[39mset_names(\n\u001b[1;32m    907\u001b[0m             header_names\n\u001b[1;32m    908\u001b[0m         )\n",
      "File \u001b[0;32m~/anaconda3/lib/python3.11/site-packages/pandas/io/parsers/readers.py:1968\u001b[0m, in \u001b[0;36mTextFileReader.read\u001b[0;34m(self, nrows)\u001b[0m\n\u001b[1;32m   1965\u001b[0m     \u001b[38;5;28;01melse\u001b[39;00m:\n\u001b[1;32m   1966\u001b[0m         new_col_dict \u001b[38;5;241m=\u001b[39m col_dict\n\u001b[0;32m-> 1968\u001b[0m     df \u001b[38;5;241m=\u001b[39m DataFrame(\n\u001b[1;32m   1969\u001b[0m         new_col_dict,\n\u001b[1;32m   1970\u001b[0m         columns\u001b[38;5;241m=\u001b[39mcolumns,\n\u001b[1;32m   1971\u001b[0m         index\u001b[38;5;241m=\u001b[39mindex,\n\u001b[1;32m   1972\u001b[0m         copy\u001b[38;5;241m=\u001b[39m\u001b[38;5;129;01mnot\u001b[39;00m using_copy_on_write(),\n\u001b[1;32m   1973\u001b[0m     )\n\u001b[1;32m   1975\u001b[0m     \u001b[38;5;28mself\u001b[39m\u001b[38;5;241m.\u001b[39m_currow \u001b[38;5;241m+\u001b[39m\u001b[38;5;241m=\u001b[39m new_rows\n\u001b[1;32m   1976\u001b[0m \u001b[38;5;28;01mreturn\u001b[39;00m df\n",
      "File \u001b[0;32m~/anaconda3/lib/python3.11/site-packages/pandas/core/frame.py:778\u001b[0m, in \u001b[0;36mDataFrame.__init__\u001b[0;34m(self, data, index, columns, dtype, copy)\u001b[0m\n\u001b[1;32m    772\u001b[0m     mgr \u001b[38;5;241m=\u001b[39m \u001b[38;5;28mself\u001b[39m\u001b[38;5;241m.\u001b[39m_init_mgr(\n\u001b[1;32m    773\u001b[0m         data, axes\u001b[38;5;241m=\u001b[39m{\u001b[38;5;124m\"\u001b[39m\u001b[38;5;124mindex\u001b[39m\u001b[38;5;124m\"\u001b[39m: index, \u001b[38;5;124m\"\u001b[39m\u001b[38;5;124mcolumns\u001b[39m\u001b[38;5;124m\"\u001b[39m: columns}, dtype\u001b[38;5;241m=\u001b[39mdtype, copy\u001b[38;5;241m=\u001b[39mcopy\n\u001b[1;32m    774\u001b[0m     )\n\u001b[1;32m    776\u001b[0m \u001b[38;5;28;01melif\u001b[39;00m \u001b[38;5;28misinstance\u001b[39m(data, \u001b[38;5;28mdict\u001b[39m):\n\u001b[1;32m    777\u001b[0m     \u001b[38;5;66;03m# GH#38939 de facto copy defaults to False only in non-dict cases\u001b[39;00m\n\u001b[0;32m--> 778\u001b[0m     mgr \u001b[38;5;241m=\u001b[39m dict_to_mgr(data, index, columns, dtype\u001b[38;5;241m=\u001b[39mdtype, copy\u001b[38;5;241m=\u001b[39mcopy, typ\u001b[38;5;241m=\u001b[39mmanager)\n\u001b[1;32m    779\u001b[0m \u001b[38;5;28;01melif\u001b[39;00m \u001b[38;5;28misinstance\u001b[39m(data, ma\u001b[38;5;241m.\u001b[39mMaskedArray):\n\u001b[1;32m    780\u001b[0m     \u001b[38;5;28;01mfrom\u001b[39;00m\u001b[38;5;250m \u001b[39m\u001b[38;5;21;01mnumpy\u001b[39;00m\u001b[38;5;21;01m.\u001b[39;00m\u001b[38;5;21;01mma\u001b[39;00m\u001b[38;5;250m \u001b[39m\u001b[38;5;28;01mimport\u001b[39;00m mrecords\n",
      "File \u001b[0;32m~/anaconda3/lib/python3.11/site-packages/pandas/core/internals/construction.py:443\u001b[0m, in \u001b[0;36mdict_to_mgr\u001b[0;34m(data, index, columns, dtype, typ, copy)\u001b[0m\n\u001b[1;32m    440\u001b[0m \u001b[38;5;28;01mif\u001b[39;00m columns \u001b[38;5;129;01mis\u001b[39;00m \u001b[38;5;129;01mnot\u001b[39;00m \u001b[38;5;28;01mNone\u001b[39;00m:\n\u001b[1;32m    441\u001b[0m     \u001b[38;5;28;01mfrom\u001b[39;00m\u001b[38;5;250m \u001b[39m\u001b[38;5;21;01mpandas\u001b[39;00m\u001b[38;5;21;01m.\u001b[39;00m\u001b[38;5;21;01mcore\u001b[39;00m\u001b[38;5;21;01m.\u001b[39;00m\u001b[38;5;21;01mseries\u001b[39;00m\u001b[38;5;250m \u001b[39m\u001b[38;5;28;01mimport\u001b[39;00m Series\n\u001b[0;32m--> 443\u001b[0m     arrays \u001b[38;5;241m=\u001b[39m Series(data, index\u001b[38;5;241m=\u001b[39mcolumns, dtype\u001b[38;5;241m=\u001b[39m\u001b[38;5;28mobject\u001b[39m)\n\u001b[1;32m    444\u001b[0m     missing \u001b[38;5;241m=\u001b[39m arrays\u001b[38;5;241m.\u001b[39misna()\n\u001b[1;32m    445\u001b[0m     \u001b[38;5;28;01mif\u001b[39;00m index \u001b[38;5;129;01mis\u001b[39;00m \u001b[38;5;28;01mNone\u001b[39;00m:\n\u001b[1;32m    446\u001b[0m         \u001b[38;5;66;03m# GH10856\u001b[39;00m\n\u001b[1;32m    447\u001b[0m         \u001b[38;5;66;03m# raise ValueError if only scalars in dict\u001b[39;00m\n",
      "File \u001b[0;32m~/anaconda3/lib/python3.11/site-packages/pandas/core/series.py:490\u001b[0m, in \u001b[0;36mSeries.__init__\u001b[0;34m(self, data, index, dtype, name, copy, fastpath)\u001b[0m\n\u001b[1;32m    487\u001b[0m name \u001b[38;5;241m=\u001b[39m ibase\u001b[38;5;241m.\u001b[39mmaybe_extract_name(name, data, \u001b[38;5;28mtype\u001b[39m(\u001b[38;5;28mself\u001b[39m))\n\u001b[1;32m    489\u001b[0m \u001b[38;5;28;01mif\u001b[39;00m index \u001b[38;5;129;01mis\u001b[39;00m \u001b[38;5;129;01mnot\u001b[39;00m \u001b[38;5;28;01mNone\u001b[39;00m:\n\u001b[0;32m--> 490\u001b[0m     index \u001b[38;5;241m=\u001b[39m ensure_index(index)\n\u001b[1;32m    492\u001b[0m \u001b[38;5;28;01mif\u001b[39;00m dtype \u001b[38;5;129;01mis\u001b[39;00m \u001b[38;5;129;01mnot\u001b[39;00m \u001b[38;5;28;01mNone\u001b[39;00m:\n\u001b[1;32m    493\u001b[0m     dtype \u001b[38;5;241m=\u001b[39m \u001b[38;5;28mself\u001b[39m\u001b[38;5;241m.\u001b[39m_validate_dtype(dtype)\n",
      "File \u001b[0;32m~/anaconda3/lib/python3.11/site-packages/pandas/core/indexes/base.py:7713\u001b[0m, in \u001b[0;36mensure_index\u001b[0;34m(index_like, copy)\u001b[0m\n\u001b[1;32m   7711\u001b[0m         \u001b[38;5;28;01mreturn\u001b[39;00m MultiIndex\u001b[38;5;241m.\u001b[39mfrom_arrays(index_like)\n\u001b[1;32m   7712\u001b[0m     \u001b[38;5;28;01melse\u001b[39;00m:\n\u001b[0;32m-> 7713\u001b[0m         \u001b[38;5;28;01mreturn\u001b[39;00m Index(index_like, copy\u001b[38;5;241m=\u001b[39mcopy, tupleize_cols\u001b[38;5;241m=\u001b[39m\u001b[38;5;28;01mFalse\u001b[39;00m)\n\u001b[1;32m   7714\u001b[0m \u001b[38;5;28;01melse\u001b[39;00m:\n\u001b[1;32m   7715\u001b[0m     \u001b[38;5;28;01mreturn\u001b[39;00m Index(index_like, copy\u001b[38;5;241m=\u001b[39mcopy)\n",
      "File \u001b[0;32m~/anaconda3/lib/python3.11/site-packages/pandas/core/indexes/base.py:566\u001b[0m, in \u001b[0;36mIndex.__new__\u001b[0;34m(cls, data, dtype, copy, name, tupleize_cols)\u001b[0m\n\u001b[1;32m    563\u001b[0m         data \u001b[38;5;241m=\u001b[39m com\u001b[38;5;241m.\u001b[39masarray_tuplesafe(data, dtype\u001b[38;5;241m=\u001b[39m_dtype_obj)\n\u001b[1;32m    565\u001b[0m \u001b[38;5;28;01mtry\u001b[39;00m:\n\u001b[0;32m--> 566\u001b[0m     arr \u001b[38;5;241m=\u001b[39m sanitize_array(data, \u001b[38;5;28;01mNone\u001b[39;00m, dtype\u001b[38;5;241m=\u001b[39mdtype, copy\u001b[38;5;241m=\u001b[39mcopy)\n\u001b[1;32m    567\u001b[0m \u001b[38;5;28;01mexcept\u001b[39;00m \u001b[38;5;167;01mValueError\u001b[39;00m \u001b[38;5;28;01mas\u001b[39;00m err:\n\u001b[1;32m    568\u001b[0m     \u001b[38;5;28;01mif\u001b[39;00m \u001b[38;5;124m\"\u001b[39m\u001b[38;5;124mindex must be specified when data is not list-like\u001b[39m\u001b[38;5;124m\"\u001b[39m \u001b[38;5;129;01min\u001b[39;00m \u001b[38;5;28mstr\u001b[39m(err):\n",
      "File \u001b[0;32m~/anaconda3/lib/python3.11/site-packages/pandas/core/construction.py:651\u001b[0m, in \u001b[0;36msanitize_array\u001b[0;34m(data, index, dtype, copy, allow_2d)\u001b[0m\n\u001b[1;32m    648\u001b[0m     subarr \u001b[38;5;241m=\u001b[39m _try_cast(data, dtype, copy)\n\u001b[1;32m    650\u001b[0m \u001b[38;5;28;01melse\u001b[39;00m:\n\u001b[0;32m--> 651\u001b[0m     subarr \u001b[38;5;241m=\u001b[39m maybe_convert_platform(data)\n\u001b[1;32m    652\u001b[0m     \u001b[38;5;28;01mif\u001b[39;00m subarr\u001b[38;5;241m.\u001b[39mdtype \u001b[38;5;241m==\u001b[39m \u001b[38;5;28mobject\u001b[39m:\n\u001b[1;32m    653\u001b[0m         subarr \u001b[38;5;241m=\u001b[39m cast(np\u001b[38;5;241m.\u001b[39mndarray, subarr)\n",
      "File \u001b[0;32m~/anaconda3/lib/python3.11/site-packages/pandas/core/dtypes/cast.py:138\u001b[0m, in \u001b[0;36mmaybe_convert_platform\u001b[0;34m(values)\u001b[0m\n\u001b[1;32m    136\u001b[0m \u001b[38;5;28;01mif\u001b[39;00m arr\u001b[38;5;241m.\u001b[39mdtype \u001b[38;5;241m==\u001b[39m _dtype_obj:\n\u001b[1;32m    137\u001b[0m     arr \u001b[38;5;241m=\u001b[39m cast(np\u001b[38;5;241m.\u001b[39mndarray, arr)\n\u001b[0;32m--> 138\u001b[0m     arr \u001b[38;5;241m=\u001b[39m lib\u001b[38;5;241m.\u001b[39mmaybe_convert_objects(arr)\n\u001b[1;32m    140\u001b[0m \u001b[38;5;28;01mreturn\u001b[39;00m arr\n",
      "File \u001b[0;32mpandas/_libs/lib.pyx:2555\u001b[0m, in \u001b[0;36mpandas._libs.lib.maybe_convert_objects\u001b[0;34m()\u001b[0m\n",
      "\u001b[0;31mTypeError\u001b[0m: Cannot convert numpy.ndarray to numpy.ndarray (sheet: Online Data Table 1)"
     ]
    }
   ],
   "source": [
    "# Read in data from Excel workbook directly from URL\n",
    "transmat = pd.read_excel('http://www.equality-of-opportunity.org/data/descriptive/table1/online_data_tables.xls',\n",
    "                         sheet_name=\"Online Data Table 1\", header=0, skiprows=8, index_col=0)\n",
    "# Note how select from certain work sheet\n",
    "# Note how skip header rows"
   ]
  },
  {
   "cell_type": "code",
   "execution_count": null,
   "id": "d9adcd05-8f32-4adc-8177-01e1e1faad29",
   "metadata": {},
   "outputs": [],
   "source": [
    "# Line plot by centile\n",
    "# select diagonal - the probability stay in same percentile\n",
    "# first, drop columns that don't have corresponding row\n",
    "# transmat.drop([2, 3, 5, 6], axis=1, inplace=True)\n",
    "staying_probs = np.diag(transmat)\n",
    "# range 1 to 100 for centile\n",
    "x = range(1, len(staying_probs) + 1)\n",
    "# plotly express will want things in dataframe, so put back x and transmat in df\n",
    "df = pd.DataFrame({\"staying_probs\": staying_probs, \"centile\": x})\n",
    "# simple plot\n",
    "px.line(df, x='centile', y='staying_probs')"
   ]
  },
  {
   "cell_type": "code",
   "execution_count": null,
   "id": "de302048-2c87-4a09-8752-72e342b18e5a",
   "metadata": {},
   "outputs": [],
   "source": [
    "# Formatting options\n",
    "fig = px.line(df, x='centile', y='staying_probs',\n",
    "        title='Mobility by Percentile of Family Income', # add title\n",
    "        labels={'staying_probs': 'Staying Probabilities',\n",
    "               'centile': 'Percentile of Family Income'}, #change labels\n",
    "        template=\"simple_white\", # set a template/theme\n",
    "        color_discrete_sequence=['red'])  # change color of line\n",
    "fig.update_xaxes(range=[3, 97]) # set axis range"
   ]
  },
  {
   "cell_type": "code",
   "execution_count": null,
   "id": "ea3e97e4-b7e2-430d-8f46-2da495e0a150",
   "metadata": {},
   "outputs": [],
   "source": [
    "# adding a vertical line and annotation to plot\n",
    "fig = px.line(df, x='centile', y='staying_probs',\n",
    "        title='Mobility by Percentile of Family Income', # add title\n",
    "        labels={'staying_probs': 'Staying Probabilities',\n",
    "               'centile': 'Percentile of Family Income'}, #change labels\n",
    "        template=\"simple_white\", # set a template/theme\n",
    "        color_discrete_sequence=['red'])  # change color of line\n",
    "fig.add_vline(x=3, line_width=2, line_dash=\"dash\", line_color=\"green\",\n",
    "              annotation_text=\"This line denotes where family\\n income is positive\",\n",
    "              annotation_position=\"top right\")"
   ]
  },
  {
   "cell_type": "markdown",
   "id": "a79c99fb-1f00-4720-a390-4e82f96b87f5",
   "metadata": {},
   "source": [
    "## Bar plots\n",
    "\n",
    "We can represent these data as a bar plot as well."
   ]
  },
  {
   "cell_type": "code",
   "execution_count": null,
   "id": "b0e3f1d9-eeb3-480e-bcb1-258ab383f084",
   "metadata": {},
   "outputs": [],
   "source": [
    "# Bar plot by group (here, percentile)\n",
    "px.bar(df, x='centile', y='staying_probs',\n",
    "       title='Mobility',\n",
    "       labels={'staying_probs': 'Staying Probabilities', })"
   ]
  },
  {
   "cell_type": "markdown",
   "id": "bcca95e9-c28b-4cb0-b24e-808fde9cda5d",
   "metadata": {},
   "source": [
    "But bar graphs are more interesting with data by category.  Let's look at measures of mobility by state."
   ]
  },
  {
   "cell_type": "code",
   "execution_count": null,
   "id": "603b1c54-3e46-4d51-946f-df713a212f2a",
   "metadata": {},
   "outputs": [],
   "source": [
    "# Read in data by county\n",
    "county_df = pd.read_excel('http://www.equality-of-opportunity.org/data/descriptive/table1/online_data_tables.xls',\n",
    "                         sheet_name=\"Online Data Table 3\", header=0, skiprows=list(range(0, 29)) + [30], index_col=0)\n",
    "\n",
    "# replace missing values with zeros\n",
    "county_df.fillna(value=0, inplace=True)\n",
    "\n",
    "# create dataframe with state level data\n",
    "# compute state level values using weighed avg of counties\n",
    "state_df = pd.DataFrame({'Absolute Upward Mobility' : county_df.groupby('State').\n",
    "                         apply(lambda x: np.average(x['Absolute Upward Mobility'],\n",
    "                                                    weights=x['Number of Children in Core Sample'])),\n",
    "                         'Gini' : county_df.groupby('State').\n",
    "                         apply(lambda x: np.average(x['Gini'],\n",
    "                                                    weights=x['Number of Children in Core Sample']))})\n",
    "\n",
    "state_df.head(n=10)"
   ]
  },
  {
   "cell_type": "code",
   "execution_count": null,
   "id": "f7405b78-4c81-475c-b0ff-4ff3c2057840",
   "metadata": {},
   "outputs": [],
   "source": [
    "# Bar by with mobility by state\n",
    "px.bar(state_df, y=\"Absolute Upward Mobility\",\n",
    "       title=\"Mobility by State\")"
   ]
  },
  {
   "cell_type": "code",
   "execution_count": null,
   "id": "8b8f7be4-f7c4-4d64-891e-b69f9a52876f",
   "metadata": {},
   "outputs": [],
   "source": [
    "# Sorting the bar plot\n",
    "# just sort dataframe first\n",
    "state_df.sort_values(by='Absolute Upward Mobility', inplace=True)\n",
    "px.bar(state_df, y=\"Absolute Upward Mobility\",\n",
    "       title = \"Mobility by State\")"
   ]
  },
  {
   "cell_type": "markdown",
   "id": "70fa75e5-2313-4180-bb27-19c77fc7d721",
   "metadata": {},
   "source": [
    "# Maps\n",
    "\n",
    "The bar graph above gives us a good sense of the variation across states in terms of upwards mobility.  We can see that there is a range of mobility outcomes - relatively low mobility in Washington D.C. and relatively high mobility in Wyoming and North Dakota.  By rank ordering the mobility outcomes we can generally see that states in thte southeastern U.S. tend to have low upward mobility and states in the upper midwest seem to have the highest mobility.\n",
    "\n",
    "But to really visualize the geographic variation, we might want to see these mobility outcomes represented on a map."
   ]
  },
  {
   "cell_type": "code",
   "execution_count": null,
   "id": "7782b872-17bf-47f8-8c76-0fa8d9ef6a39",
   "metadata": {},
   "outputs": [],
   "source": [
    "from urllib.request import urlopen\n",
    "import json\n",
    "# read in a geojson file with information on the borders of states\n",
    "with urlopen('https://eric.clst.org/assets/wiki/uploads/Stuff/gz_2010_us_040_00_500k.json') as response:\n",
    "    state_map_data = json.load(response)\n",
    "# in state data, make state a column, not index\n",
    "state_df.reset_index(inplace=True)\n",
    "# create the map with px\n",
    "fig = px.choropleth_mapbox(state_df, geojson=state_map_data,\n",
    "                           locations=\"State\",  # name of location in the dataframe\n",
    "                           featureidkey=\"properties.NAME\",   # name of the location in the geojson\n",
    "                           color='Absolute Upward Mobility',\n",
    "                           color_continuous_scale=\"Viridis\",\n",
    "                           mapbox_style=\"carto-positron\",\n",
    "                           zoom=2, center = {\"lat\": 37.0902, \"lon\": -95.7129},\n",
    "                           opacity=0.5,\n",
    "                           title='Absolute Upward Mobility Across States'\n",
    "                          )\n",
    "fig.show()"
   ]
  },
  {
   "cell_type": "markdown",
   "id": "35147d8f-942e-4960-82ae-b6528ed81f8e",
   "metadata": {},
   "source": [
    "# Histograms\n",
    "\n",
    "Another way to see how mobility varies would be to look at the distribution across states through a histogram."
   ]
  },
  {
   "cell_type": "code",
   "execution_count": null,
   "id": "45c31a79-9180-43f5-b430-20a4a8968ad0",
   "metadata": {},
   "outputs": [],
   "source": [
    "px.histogram(county_df[county_df['Absolute Upward Mobility'] > 0]['Absolute Upward Mobility'],\n",
    "             title='Distribution of Upward Mobility Across Counties',\n",
    "             opacity=0.5)"
   ]
  },
  {
   "cell_type": "markdown",
   "id": "e68ceaac-2c6f-4d1f-aa5e-f661860ea47d",
   "metadata": {},
   "source": [
    "# Scatter Plots\n",
    "\n",
    "\n",
    "To visualize correlations between variables, scatter plots can be quite useful.  \n",
    "\n",
    "Let's use a scatter plot to explore the correlation between mobility and teenage child birth.  [Kearney and Levine (*JHR*, 2014)](http://jhr.uwpress.org/content/49/1/1.refs) find that increases in inequality drive increases in teenage child bearning.  But their story largely relies on mobility - that teenages from areas of high inequality view their prospect of economic mobility as low and so do not postpone pregnancy.  Of course, causation can go in the other direction - pregnancy may make mobility difficult - and this something Kearnery and Levine grapple with.\n",
    "\n",
    "In any case, let's see if there is a relationship in the data by looking at a scatter plot."
   ]
  },
  {
   "cell_type": "code",
   "execution_count": null,
   "id": "f90b5303-2a4d-409e-9cd2-dd0b464b6a34",
   "metadata": {},
   "outputs": [],
   "source": [
    "county_df['99/25 Ratio'] = county_df['Parent Income P99'] / county_df['Parent Income P25']\n",
    "plot_data = county_df[county_df['Absolute Upward Mobility'] > 0]\n",
    "px.scatter(plot_data, x='Teenage Birth Rate', y='Absolute Upward Mobility',\n",
    "           title=\"Mobility and Teenage Births\",\n",
    "           opacity=0.5)"
   ]
  },
  {
   "cell_type": "code",
   "execution_count": null,
   "id": "cb34b5eb-6717-46a2-afa7-193819891536",
   "metadata": {},
   "outputs": [],
   "source": [
    "# add a line of best fit with the 'trendline' keyword\n",
    "px.scatter(plot_data, x='Teenage Birth Rate', y='Absolute Upward Mobility',\n",
    "           title=\"Mobility and Teenage Births\", color='Gini', color_continuous_scale=\"Viridis\",\n",
    "           opacity=0.5, trendline=\"ols\")"
   ]
  },
  {
   "cell_type": "markdown",
   "id": "2c42d3d7-4ae7-4064-83ff-e3ca500d6567",
   "metadata": {},
   "source": [
    "# 3D plots\n",
    "\n",
    "Sometimes it's useful to see your data in more than two-dimensions.  `plotly.express` allows for some nice 3D plotting.  A typical application is to look at a 3D meshgrid of a surface.  But one can plot historgrams or scatter plots in 3D as well.\n",
    "\n",
    "Since we have the data loaded, let's just look at a 3D scatter plot to illustrate these capabilities.  We considered the relationship between mobility and teen pregnancy above.  No lets add another covariate, parents' income."
   ]
  },
  {
   "cell_type": "code",
   "execution_count": null,
   "id": "a341447b-b497-4e56-ac4c-d6dc63b74623",
   "metadata": {},
   "outputs": [],
   "source": [
    "# 3D plot\n",
    "plot_data2 = plot_data[plot_data['Mean Parent Income'] < 100000]\n",
    "fig_3d = px.scatter_3d(plot_data2, x='Teenage Birth Rate', y='Mean Parent Income',\n",
    "           z='Absolute Upward Mobility', opacity=0.1)\n",
    "fig_3d.show()"
   ]
  },
  {
   "cell_type": "markdown",
   "id": "90be7982-587c-4ea3-81e4-267b947ee15b",
   "metadata": {},
   "source": [
    "# Saving plotly figures\n",
    "\n",
    "`plotly` figures are dynamic by default.  You can save a dynamic/interactive version (e.g., as html to load in a browser) or you can save a static image (e.g., a a png file to put in a paper). The later will require an additional installation.\n",
    "\n",
    "To save static images from `plotly`, you'll need to install [Kaleido](https://github.com/plotly/Kaleido).  Install with:\n",
    "```\n",
    "conda install -c conda-forge python-kaleido\n",
    "```\n",
    "\n",
    "or \n",
    "\n",
    "```\n",
    "pip install -U kaleido\n",
    "```"
   ]
  },
  {
   "cell_type": "code",
   "execution_count": null,
   "id": "44f892ab-bd7e-4e1f-8aa7-2ac013b6c1b7",
   "metadata": {},
   "outputs": [],
   "source": [
    "#1, save a dynamic plot that you can open in web browser\n",
    "fig_3d.write_html(\"../Python/scatter_3d_plot.html\")"
   ]
  },
  {
   "cell_type": "code",
   "execution_count": null,
   "id": "fbf08cee-0794-4798-8e51-6b3866e09278",
   "metadata": {},
   "outputs": [],
   "source": [
    "# 2, save a static image\n",
    "fig_3d.write_image(\"scatter_3d_plot.png\")"
   ]
  }
 ],
 "metadata": {
  "kernelspec": {
   "display_name": "base",
   "language": "python",
   "name": "python3"
  },
  "language_info": {
   "codemirror_mode": {
    "name": "ipython",
    "version": 3
   },
   "file_extension": ".py",
   "mimetype": "text/x-python",
   "name": "python",
   "nbconvert_exporter": "python",
   "pygments_lexer": "ipython3",
   "version": "3.11.5"
  }
 },
 "nbformat": 4,
 "nbformat_minor": 5
}
