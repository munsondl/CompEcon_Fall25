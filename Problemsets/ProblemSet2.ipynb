{
 "cells": [
  {
   "cell_type": "markdown",
   "id": "b3a40f63",
   "metadata": {},
   "source": [
    "# Standard Library Chapter\n",
    "\n",
    "Problem 1. \n",
    "\n",
    "Write a function that accepts a list L and returns the minimum, maximum, and average of the entries of L (in that order).  Can you implement this function in a single line?"
   ]
  },
  {
   "cell_type": "code",
   "execution_count": 80,
   "id": "3cac5307",
   "metadata": {},
   "outputs": [
    {
     "name": "stdout",
     "output_type": "stream",
     "text": [
      "(2, 9, 5.0)\n"
     ]
    }
   ],
   "source": [
    "# Problem 1\n",
    "\n",
    "L = [3, 7, 2, 9, 4]\n",
    "def stats(L): return (min(L), max(L), sum(L)/len(L))\n",
    "print(stats(L))"
   ]
  },
  {
   "cell_type": "markdown",
   "id": "d7051a93",
   "metadata": {},
   "source": [
    "Problem 2. \n",
    "\n",
    "Determine which of Python’s object types are mutable and which are immutable\n",
    "by repeating the following experiment for an int, str, list, tuple, and set.\n",
    "1. Create an object of the given type and assign a name to it.\n",
    "2. Assign a new name to the first name.\n",
    "3. Alter the object via only one of the names (for tuples, use my_tuple += (1,)).\n",
    "4. Check to see if the two names are equal. If they are, then since changing one name\n",
    "changed the other, the names refer to the same object and the object type is mutable.\n",
    "Otherwise, the names refer to different objects—meaning a copy was made in step 2—and\n",
    "therefore the object type is immutable.\n",
    "For example, the following experiment shows that dict is a mutable type.\n",
    ">>> dict_1 = {1: 'x', 2: 'b'} # Create a dictionary.\n",
    ">>> dict_2 = dict_1 # Assign it a new name.\n",
    ">>> dict_2[1] = 'a' # Change the 'new' dictionary.\n",
    ">>> dict_1 == dict_2 # Compare the two names.\n",
    "True # Both names changed!\n",
    "Print a statement of your conclusions that clearly indicates which object types are mutable and\n",
    "which are immutable."
   ]
  },
  {
   "cell_type": "code",
   "execution_count": 81,
   "id": "6f72880a",
   "metadata": {},
   "outputs": [
    {
     "data": {
      "text/plain": [
       "False"
      ]
     },
     "execution_count": 81,
     "metadata": {},
     "output_type": "execute_result"
    }
   ],
   "source": [
    "# Problem 2\n",
    "\n",
    "int_1 = 1\n",
    "int_2 = int_1\n",
    "int_2 = 2\n",
    "int_1 == int_2\n",
    "# False - Integers are immutable\n"
   ]
  },
  {
   "cell_type": "code",
   "execution_count": 82,
   "id": "1afc65e8",
   "metadata": {},
   "outputs": [
    {
     "data": {
      "text/plain": [
       "False"
      ]
     },
     "execution_count": 82,
     "metadata": {},
     "output_type": "execute_result"
    }
   ],
   "source": [
    "str_1 = \"Is String Immutable?\"\n",
    "str_2 = str_1\n",
    "str_2 = \"No, it is not\"\n",
    "str_1 == str_2\n",
    "# False - Strings are immutable"
   ]
  },
  {
   "cell_type": "code",
   "execution_count": 83,
   "id": "b77e76ce",
   "metadata": {},
   "outputs": [
    {
     "data": {
      "text/plain": [
       "True"
      ]
     },
     "execution_count": 83,
     "metadata": {},
     "output_type": "execute_result"
    }
   ],
   "source": [
    "list_1 = [1, 2, 3]\n",
    "list_2 = list_1\n",
    "list_2[0] = 4\n",
    "list_1 == list_2\n",
    "# True - Lists are mutable"
   ]
  },
  {
   "cell_type": "code",
   "execution_count": 84,
   "id": "8f3b8582",
   "metadata": {},
   "outputs": [
    {
     "data": {
      "text/plain": [
       "False"
      ]
     },
     "execution_count": 84,
     "metadata": {},
     "output_type": "execute_result"
    }
   ],
   "source": [
    "tuple_1 = (1, 2, 3)\n",
    "tuple_2 = tuple_1\n",
    "tuple_2 = (4, 5, 6)\n",
    "tuple_1 == tuple_2\n",
    "# False - Tuples are immutable"
   ]
  },
  {
   "cell_type": "code",
   "execution_count": 85,
   "id": "834b7c50",
   "metadata": {},
   "outputs": [
    {
     "data": {
      "text/plain": [
       "True"
      ]
     },
     "execution_count": 85,
     "metadata": {},
     "output_type": "execute_result"
    }
   ],
   "source": [
    "set_1 = {1, 2, 3}\n",
    "set_2 = set_1\n",
    "set_2.add(4)\n",
    "set_1 == set_2\n",
    "# True - Sets are mutable"
   ]
  },
  {
   "cell_type": "markdown",
   "id": "be77a3d8",
   "metadata": {},
   "source": [
    "Problem 3. \n",
    "\n",
    "Create a module called calculator.py. Write a function that returns the sum\n",
    "of two arguments and a function that returns the product of two arguments. Also use import\n",
    "to add the sqrt() function from the math module to the namespace. When this file is either\n",
    "run or imported, nothing should be executed.\n",
    "In your solutions file, import your new custom module. Write a function that accepts two\n",
    "numbers representing the lengths of the sides of a right triangle. Using only the functions from\n",
    "calculator.py, calculate and return the length of the hypotenuse of the triangle."
   ]
  },
  {
   "cell_type": "code",
   "execution_count": 86,
   "id": "f49ed9e3",
   "metadata": {},
   "outputs": [],
   "source": [
    "# Problm 3.\n",
    "\n",
    "import types, sys  \n",
    "from math import sqrt\n",
    "\n",
    "calculator = types.ModuleType(\"calculator\")\n",
    "\n",
    "def add(a, b):\n",
    "    return a + b\n",
    "\n",
    "def multiply(a, b):\n",
    "    return a * b\n",
    "\n",
    "calculator.add = add\n",
    "calculator.multiply = multiply\n",
    "calculator.sqrt = sqrt\n",
    "\n",
    "sys.modules[\"calculator\"] = calculator"
   ]
  },
  {
   "cell_type": "code",
   "execution_count": 87,
   "id": "87b3ff4d",
   "metadata": {},
   "outputs": [
    {
     "name": "stdout",
     "output_type": "stream",
     "text": [
      "5.0\n"
     ]
    }
   ],
   "source": [
    "import calculator\n",
    "\n",
    "def hypotenuse(a, b):\n",
    "    return calculator.sqrt(\n",
    "        calculator.add(\n",
    "            calculator.multiply(a, a),\n",
    "            calculator.multiply(b, b)\n",
    "        )\n",
    "    )\n",
    "print(hypotenuse(3, 4))"
   ]
  },
  {
   "cell_type": "markdown",
   "id": "b33fc5bc",
   "metadata": {},
   "source": [
    "# Numpy Intro Chapter\n",
    "\n",
    "Problem 1. \n",
    "\n",
    "There are two main ways to perform matrix multiplication in NumPy: with\n",
    "NumPy’s dot() function (np.dot(A, B)), or with the @ operator (A @ B). Write a function\n",
    "that defines the following matrices as NumPy arrays.\n",
    "Return the matrix product AB."
   ]
  },
  {
   "cell_type": "code",
   "execution_count": 88,
   "id": "1129fb2c",
   "metadata": {},
   "outputs": [
    {
     "name": "stdout",
     "output_type": "stream",
     "text": [
      "[[ 37  14 -32 -10]\n",
      " [-54  -7  58  65]]\n"
     ]
    }
   ],
   "source": [
    "# Problem 1.\n",
    "\n",
    "import numpy as np\n",
    "\n",
    "A = np.array([[3, -1, 4], \n",
    "              [1, 5, -9]])\n",
    "\n",
    "B = np.array([[2, 6, -5, 3], \n",
    "              [5, -8, 9, 7], \n",
    "              [9, -3, -2, -3]])\n",
    "\n",
    "print(np.dot(A, B))"
   ]
  },
  {
   "cell_type": "markdown",
   "id": "d0be5cc9",
   "metadata": {},
   "source": [
    "Problem 2.\n",
    "\n",
    "Write a function that defines the following matrix as a NumPy array.  Return the matrix −A3 + 9A2 − 15A."
   ]
  },
  {
   "cell_type": "code",
   "execution_count": 89,
   "id": "83e518a5",
   "metadata": {},
   "outputs": [
    {
     "name": "stdout",
     "output_type": "stream",
     "text": [
      "[[0 0 0]\n",
      " [0 0 0]\n",
      " [0 0 0]]\n"
     ]
    }
   ],
   "source": [
    "import numpy as np\n",
    "\n",
    "A = np.array([[3, 1, 4],\n",
    "                  [1, 5, 9],\n",
    "                  [-5, 3, 1]])\n",
    "print(-A @ A @ A + 9*(A @ A) - 15*A)"
   ]
  },
  {
   "cell_type": "markdown",
   "id": "d60e5ddc",
   "metadata": {},
   "source": [
    "Problem 5.\n",
    "\n",
    "Write a function that defines the following matrices as NumPy arrays.  Use NumPy’s stacking functions to create and return the block matrix: where I is the 3 × 3 identity matrix and each 0 is a matrix of all zeros of appropriate size.\n",
    "A block matrix of this form is used in the Interior Point method for linear optimization."
   ]
  },
  {
   "cell_type": "code",
   "execution_count": 90,
   "id": "8f8003dc",
   "metadata": {},
   "outputs": [
    {
     "name": "stdout",
     "output_type": "stream",
     "text": [
      "[[ 0  0  0  0  1  1  0  0]\n",
      " [ 0  0  0  2  3  0  1  0]\n",
      " [ 0  0  0  4  5  0  0  1]\n",
      " [ 0  2  4  0  0  0  0  0]\n",
      " [ 1  3  5  0  0  0  0  0]\n",
      " [ 3  0  0  0  0 -2  0  0]\n",
      " [ 3  3  0  0  0  0 -2  0]\n",
      " [ 3  3  3  0  0  0  0 -2]]\n",
      "shape: (8, 8)\n"
     ]
    }
   ],
   "source": [
    "import numpy as np\n",
    "\n",
    "def problem5():\n",
    "    A = np.array([[0, 2, 4],\n",
    "                  [1, 3, 5]])\n",
    "    B = np.array([[3, 0, 0],\n",
    "                  [3, 3, 0],\n",
    "                  [3, 3, 3]])\n",
    "    C = -2 * np.eye(3, dtype=int)\n",
    "    I = np.eye(3, dtype=int)\n",
    "\n",
    "    # zeros of the needed sizes\n",
    "    Z33 = np.zeros((3,3), dtype=int)\n",
    "    Z22 = np.zeros((2,2), dtype=int)\n",
    "    Z23 = np.zeros((2,3), dtype=int)\n",
    "    Z32 = np.zeros((3,2), dtype=int)\n",
    "\n",
    "    # Block matrix:\n",
    "    # [ 0   A^T  I\n",
    "    #   A    0   0\n",
    "    #   B    0   C ]\n",
    "    M = np.block([\n",
    "        [Z33, A.T, I],\n",
    "        [A,   Z22, Z23],\n",
    "        [B,   Z32, C]\n",
    "    ])\n",
    "    return M\n",
    "\n",
    "# Example: print result\n",
    "M = problem5()\n",
    "print(M)\n",
    "print(\"shape:\", M.shape)   # (8, 8)"
   ]
  },
  {
   "cell_type": "markdown",
   "id": "b53bf456",
   "metadata": {},
   "source": [
    "# Object Oriented Chapter\n",
    "\n",
    "Problem 1. \n",
    "\n",
    "Expand the Backpack class to match the following specifications.\n",
    "1. Modify the constructor so that it accepts three total arguments: name, color, and\n",
    "max_size (in that order). Make max_size a keyword argument that defaults to 5. Store\n",
    "each input as an attribute.\n",
    "2. Modify the put() method to check that the backpack does not go over capacity. If there\n",
    "are already max_size items or more, print “No Room!” and do not add the item to the\n",
    "contents list.\n",
    "3. Write a new method called dump() that resets the contents of the backpack to an empty\n",
    "list. This method should not receive any arguments (except self).\n",
    "4. Documentation is especially important in classes so that the user knows what an ob-\n",
    "ject’s attributes represent and how to use methods appropriately. Update (or write) the\n",
    "docstrings for the __init__(), put(), and dump() methods, as well as the actual class\n",
    "docstring (under class but before __init__()) to reflect the changes from parts 1-3 of\n",
    "this problem.\n",
    "To ensure that your class works properly, write a test function outside outside of the\n",
    "Backpack class that instantiates and analyzes a Backpack object."
   ]
  },
  {
   "cell_type": "code",
   "execution_count": 79,
   "id": "45f3c4ee",
   "metadata": {},
   "outputs": [
    {
     "name": "stdout",
     "output_type": "stream",
     "text": [
      "Contents: ['pencil', 'pen', 'paper', 'computer']\n",
      "After taking pen: ['pencil', 'paper', 'computer']\n",
      "After dump: []\n"
     ]
    }
   ],
   "source": [
    "class Backpack:\n",
    "\n",
    "    def __init__(self, name, color, max_size=5):\n",
    "        \"\"\"Constructor: make a backpack with a name, color, and max size.\"\"\"\n",
    "        self.name = name\n",
    "        self.color = color\n",
    "        self.max_size = max_size\n",
    "        self.contents = []\n",
    "\n",
    "    def put(self, item):\n",
    "        \"\"\"Put an item in the backpack if there is room.\"\"\"\n",
    "        if len(self.contents) >= self.max_size:\n",
    "            print(\"No Room!\")\n",
    "        else:\n",
    "            self.contents.append(item)\n",
    "\n",
    "    def take(self, item):\n",
    "        \"\"\"Take an item out of the backpack if it is there.\"\"\"\n",
    "        if item in self.contents:\n",
    "            self.contents.remove(item)\n",
    "\n",
    "    def dump(self):\n",
    "        \"\"\"Empty everything out of the backpack.\"\"\"\n",
    "        self.contents = []\n",
    "\n",
    "def test_backpack():\n",
    "    testpack = Backpack(\"Barry\", \"black\")\n",
    "\n",
    "    if testpack.name != \"Barry\":\n",
    "        print(\"Backpack.name assigned incorrectly\")\n",
    "\n",
    "    for item in [\"pencil\", \"pen\", \"paper\", \"computer\"]:\n",
    "        testpack.put(item)\n",
    "\n",
    "    print(\"Contents:\", testpack.contents)\n",
    "\n",
    "    testpack.take(\"pen\")\n",
    "    print(\"After taking pen:\", testpack.contents)\n",
    "\n",
    "    testpack.dump()\n",
    "    print(\"After dump:\", testpack.contents)\n",
    "\n",
    "test_backpack()"
   ]
  },
  {
   "cell_type": "markdown",
   "id": "97f834d7",
   "metadata": {},
   "source": [
    "Problem 2.\n",
    "\n",
    "Write a Jetpack class that inherits from the Backpack class.\n",
    "1. Override the constructor so that in addition to a name, color, and maximum size, it also\n",
    "accepts an amount of fuel. Change the default value of max_size to 2, and set the default\n",
    "value of fuel to 10. Store the fuel as an attribute.\n",
    "2. Add a fly() method that accepts an amount of fuel to be burned and decrements the\n",
    "fuel attribute by that amount. If the user tries to burn more fuel than remains, print “Not\n",
    "enough fuel!” and do not decrement the fuel.\n",
    "3. Override the dump() method so that both the contents and the fuel tank are emptied.\n",
    "4. Write clear, detailed docstrings for the class and each of its methods"
   ]
  },
  {
   "cell_type": "code",
   "execution_count": 91,
   "id": "8b1045f2",
   "metadata": {},
   "outputs": [],
   "source": [
    "class Jetpack(Backpack):\n",
    "    # Define the Jetpack class here.  Subnclass of Backpack\n",
    "    def __init__(self, name, color, max_size=2, fuel=10):\n",
    "        super().__init__(name, color, max_size)\n",
    "        self.fuel = fuel\n",
    "    # Define the fly and dump methods here + fuel limits\n",
    "    def fly(self, burn):\n",
    "        if burn > self.fuel:\n",
    "            print(\"Not enough fuel!\")\n",
    "        else:\n",
    "            self.fuel -= burn\n",
    "\n",
    "    def dump(self):\n",
    "        super().dump()\n",
    "        self.fuel = 0"
   ]
  }
 ],
 "metadata": {
  "kernelspec": {
   "display_name": "base",
   "language": "python",
   "name": "python3"
  },
  "language_info": {
   "codemirror_mode": {
    "name": "ipython",
    "version": 3
   },
   "file_extension": ".py",
   "mimetype": "text/x-python",
   "name": "python",
   "nbconvert_exporter": "python",
   "pygments_lexer": "ipython3",
   "version": "3.13.5"
  }
 },
 "nbformat": 4,
 "nbformat_minor": 5
}
