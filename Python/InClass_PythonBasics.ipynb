{
 "cells": [
  {
   "cell_type": "markdown",
   "id": "78f37a83",
   "metadata": {},
   "source": [
    "# Introduction to Python\n",
    "\n",
    "Basics of the Python standard library and Numpy.\n",
    "\n",
    "## Standard Library data types:\n",
    "* Single values:\n",
    "  * Numeric (integers, floating point numbers)\n",
    "  * Boolean\n",
    "* Iterable objects:\n",
    "  * Strings\n",
    "  * Lists\n",
    "  * Sets\n",
    "  * Tuples\n",
    "  * Dictionaries\n",
    "  * Ranges\n",
    "\n",
    "### Numeric data types\n",
    "\n",
    "Numeric values can take on integer (int) or floating point (float) types.  Python will infer the specific type based on the value assigned. For example:"
   ]
  },
  {
   "cell_type": "code",
   "execution_count": null,
   "id": "5d12f47f",
   "metadata": {},
   "outputs": [],
   "source": [
    "#  Create a numeric object\n",
    "three = 3\n",
    "print(\"The type of three is: \", type(three))"
   ]
  },
  {
   "cell_type": "code",
   "execution_count": null,
   "id": "4dae7097",
   "metadata": {},
   "outputs": [
    {
     "data": {
      "text/plain": [
       "6"
      ]
     },
     "execution_count": 4,
     "metadata": {},
     "output_type": "execute_result"
    }
   ],
   "source": [
    "# Basic math operations are part of the standard library\n",
    "two = 2\n",
    "three * two"
   ]
  },
  {
   "cell_type": "markdown",
   "id": "ad1027b8",
   "metadata": {},
   "source": [
    "### Booleans\n",
    "\n",
    "Booleans are True/False values.  They are often used in conditional statements and loops.  You can do math with boolean values, with `True` being treated as `1` and `False` as `0`. For example:"
   ]
  },
  {
   "cell_type": "code",
   "execution_count": 65,
   "id": "2558d2c7",
   "metadata": {},
   "outputs": [
    {
     "name": "stdout",
     "output_type": "stream",
     "text": [
      "The object `is_true` is of type:  <class 'bool'>\n",
      "The object `is_false` is of type:  <class 'bool'>\n"
     ]
    }
   ],
   "source": [
    "# Booleans\n",
    "is_true = True\n",
    "is_false = False\n",
    "print(\"The object `is_true` is of type: \", type(is_true))\n",
    "print(\"The object `is_false` is of type: \", type(is_false))"
   ]
  },
  {
   "cell_type": "code",
   "execution_count": 8,
   "id": "d3eb694a",
   "metadata": {},
   "outputs": [
    {
     "data": {
      "text/plain": [
       "0"
      ]
     },
     "execution_count": 8,
     "metadata": {},
     "output_type": "execute_result"
    }
   ],
   "source": [
    "# math with booleans\n",
    "2 * is_false"
   ]
  },
  {
   "cell_type": "markdown",
   "id": "519872cf",
   "metadata": {},
   "source": [
    "## \"Iterables\"\n",
    "\n",
    "Iterables are Python objects with multiple values, you can iterate over the elements in an iterable (hence the name).  You can also usually reference a specific value in the iterable.\n",
    "\n",
    "### Strings\n",
    "\n",
    "Strings are sequences of characters, you can iterate over each character in a string."
   ]
  },
  {
   "cell_type": "code",
   "execution_count": 66,
   "id": "cd18ae12",
   "metadata": {},
   "outputs": [
    {
     "name": "stdout",
     "output_type": "stream",
     "text": [
      "The type of name is:  <class 'str'>\n",
      "The first letter of name is:  J\n"
     ]
    }
   ],
   "source": [
    "# Example of a name\n",
    "name = \"John\"\n",
    "print(\"The type of name is: \", type(name))\n",
    "print(\"The first letter of name is: \", name[0])"
   ]
  },
  {
   "cell_type": "code",
   "execution_count": null,
   "id": "9a05ad13",
   "metadata": {},
   "outputs": [
    {
     "name": "stdout",
     "output_type": "stream",
     "text": [
      "J\n",
      "the type of the object is  <class 'str'>\n",
      "o\n",
      "the type of the object is  <class 'str'>\n",
      "h\n",
      "the type of the object is  <class 'str'>\n",
      "n\n",
      "the type of the object is  <class 'str'>\n"
     ]
    }
   ],
   "source": [
    "# the for/in syntax can be used to iterate over the elements in an iterable\n",
    "for letter in name:\n",
    "    print(letter)\n",
    "# Note that the print command below is only printed once,\n",
    "# since it's not indented under the for loop (try indenting and see what happens)\n",
    "print(\"the type of the object is \", type(name))"
   ]
  },
  {
   "cell_type": "markdown",
   "id": "af2e32ba",
   "metadata": {},
   "source": [
    "### Lists\n",
    "\n",
    "Lists are containers of objects.  The objects can be of mixed types.  Lists are \"mutable\" (i.e., they can be altered after created). Lists are defined with square brackets `[]`."
   ]
  },
  {
   "cell_type": "code",
   "execution_count": null,
   "id": "b206f066",
   "metadata": {},
   "outputs": [
    {
     "name": "stdout",
     "output_type": "stream",
     "text": [
      "['Ayse', 3, True, ['Hello', 'Goodbye']]\n"
     ]
    }
   ],
   "source": [
    "our_list = [\"Ayse\", 3, True, list((\"Hello\", \"Goodbye\"))]\n",
    "print(\"The type of our_list is: \", type(our_list))\n",
    "print(our_list)"
   ]
  },
  {
   "cell_type": "code",
   "execution_count": null,
   "id": "ee31ee2f",
   "metadata": {},
   "outputs": [
    {
     "data": {
      "text/plain": [
       "True"
      ]
     },
     "execution_count": 21,
     "metadata": {},
     "output_type": "execute_result"
    }
   ],
   "source": [
    "# Values in a list can be referenced by their index\n",
    "# REMEMBER: Python uses 0-indexing, so the first value is at index 0\n",
    "our_list[2] # 3rd value"
   ]
  },
  {
   "cell_type": "code",
   "execution_count": null,
   "id": "713e110e",
   "metadata": {},
   "outputs": [
    {
     "name": "stdout",
     "output_type": "stream",
     "text": [
      "['Ayse', 3, False, ['Hello', 'Goodbye']]\n"
     ]
    }
   ],
   "source": [
    "# Lists are mutable, meaning we can modify an element in a list\n",
    "# Here we change the 3rd element (index 2) from True to False\n",
    "our_list[2] = False\n",
    "print(our_list)"
   ]
  },
  {
   "cell_type": "markdown",
   "id": "c4151dac",
   "metadata": {},
   "source": [
    "### Sets\n",
    "\n",
    "Sets are unordered collections of unique elements. They are useful when you want to store multiple items without duplicates.  Sets are defined using curly braces `{}`."
   ]
  },
  {
   "cell_type": "code",
   "execution_count": null,
   "id": "ac698483",
   "metadata": {},
   "outputs": [
    {
     "name": "stdout",
     "output_type": "stream",
     "text": [
      "What type is our_set?  <class 'set'>\n",
      "{'one', '1', 2.2, 1}\n"
     ]
    }
   ],
   "source": [
    "our_set = {\"1\", 1, \"one\", 1, 2.2}\n",
    "print(\"What type is our_set? \", type(our_set))\n",
    "print(our_set)  # Note how the duplicate 1 (integer)is not included"
   ]
  },
  {
   "cell_type": "code",
   "execution_count": null,
   "id": "39b0a9fc",
   "metadata": {},
   "outputs": [
    {
     "name": "stdout",
     "output_type": "stream",
     "text": [
      "one\n",
      "1\n",
      "2.2\n",
      "1\n"
     ]
    }
   ],
   "source": [
    "# We can iterate over a set\n",
    "for item in our_set:\n",
    "    print(item)"
   ]
  },
  {
   "cell_type": "code",
   "execution_count": 69,
   "id": "dd75b0ad",
   "metadata": {},
   "outputs": [
    {
     "ename": "TypeError",
     "evalue": "'set' object is not subscriptable",
     "output_type": "error",
     "traceback": [
      "\u001b[0;31m---------------------------------------------------------------------------\u001b[0m",
      "\u001b[0;31mTypeError\u001b[0m                                 Traceback (most recent call last)",
      "Cell \u001b[0;32mIn[69], line 2\u001b[0m\n\u001b[1;32m      1\u001b[0m \u001b[38;5;66;03m# We cannot reference an element of a set by index\u001b[39;00m\n\u001b[0;32m----> 2\u001b[0m our_set[\u001b[38;5;241m0\u001b[39m]\n",
      "\u001b[0;31mTypeError\u001b[0m: 'set' object is not subscriptable"
     ]
    }
   ],
   "source": [
    "# We cannot reference an element of a set by index\n",
    "our_set[0]  # This will give an error"
   ]
  },
  {
   "cell_type": "markdown",
   "id": "a16012e5",
   "metadata": {},
   "source": [
    "### Tuples\n",
    "\n",
    "Tuples are similar to lists, but they are immutable (i.e., they cannot be changed after creation). Tuples are defined using parentheses.\n"
   ]
  },
  {
   "cell_type": "code",
   "execution_count": 70,
   "id": "4dc9b4fa",
   "metadata": {},
   "outputs": [
    {
     "name": "stdout",
     "output_type": "stream",
     "text": [
      "What type is our_tuple?  <class 'tuple'>\n",
      "('Ayse', 3, True, ['Hello', 'Goodbye'])\n"
     ]
    }
   ],
   "source": [
    "our_tuple = (\"Ayse\", 3, True, list((\"Hello\", \"Goodbye\")))\n",
    "print(\"What type is our_tuple? \", type(our_tuple))\n",
    "print(our_tuple)"
   ]
  },
  {
   "cell_type": "code",
   "execution_count": 71,
   "id": "7af6b060",
   "metadata": {},
   "outputs": [
    {
     "ename": "TypeError",
     "evalue": "'tuple' object does not support item assignment",
     "output_type": "error",
     "traceback": [
      "\u001b[0;31m---------------------------------------------------------------------------\u001b[0m",
      "\u001b[0;31mTypeError\u001b[0m                                 Traceback (most recent call last)",
      "Cell \u001b[0;32mIn[71], line 2\u001b[0m\n\u001b[1;32m      1\u001b[0m \u001b[38;5;66;03m# Since they are immutable, we can't change an element of a tuple\u001b[39;00m\n\u001b[0;32m----> 2\u001b[0m our_tuple[\u001b[38;5;241m2\u001b[39m] \u001b[38;5;241m=\u001b[39m \u001b[38;5;28;01mFalse\u001b[39;00m  \u001b[38;5;66;03m# This will give an error\u001b[39;00m\n\u001b[1;32m      3\u001b[0m \u001b[38;5;28mprint\u001b[39m(our_tuple)\n",
      "\u001b[0;31mTypeError\u001b[0m: 'tuple' object does not support item assignment"
     ]
    }
   ],
   "source": [
    "# Since they are immutable, we can't change an element of a tuple\n",
    "our_tuple[2] = False  # This will give an error\n",
    "print(our_tuple)"
   ]
  },
  {
   "cell_type": "markdown",
   "id": "1b6b06fb",
   "metadata": {},
   "source": [
    "### Dictionary\n",
    "\n",
    "Python dictionaries are mutable, unordered collections of key-value pairs. They are defined using curly braces, with keys and values separated by colons.\n",
    "\n",
    "Dictionaries are my favorite data structure because they allow for fast lookups and can be easily modified and can store highly complex data structures."
   ]
  },
  {
   "cell_type": "code",
   "execution_count": 72,
   "id": "89f011dd",
   "metadata": {},
   "outputs": [
    {
     "name": "stdout",
     "output_type": "stream",
     "text": [
      "What type is USC_football?  <class 'dict'>\n",
      "{'year': [2022, 2023, 2024], 'wins': [8, 5, 9]}\n"
     ]
    }
   ],
   "source": [
    "USC_football = {\n",
    "    \"year\": [2022, 2023, 2024],\n",
    "    \"wins\": [8, 5, 9]\n",
    "}\n",
    "print(\"What type is USC_football? \", type(USC_football))\n",
    "print(USC_football)"
   ]
  },
  {
   "cell_type": "code",
   "execution_count": 73,
   "id": "39fe6b02",
   "metadata": {},
   "outputs": [
    {
     "data": {
      "text/plain": [
       "5"
      ]
     },
     "execution_count": 73,
     "metadata": {},
     "output_type": "execute_result"
    }
   ],
   "source": [
    "# We can reference an element of a dictionary with its keyword\n",
    "# Here we will reference the list of wins and pull the 2nd element\n",
    "USC_football[\"wins\"][1]  # Wins in 2023"
   ]
  },
  {
   "cell_type": "markdown",
   "id": "9a3fec4e",
   "metadata": {},
   "source": [
    "# Range\n",
    "\n",
    "A range object is a series of numbers that can be used in for loops or to create lists. It is defined using the `range()` function."
   ]
  },
  {
   "cell_type": "code",
   "execution_count": 42,
   "id": "ab4446c1",
   "metadata": {},
   "outputs": [
    {
     "name": "stdout",
     "output_type": "stream",
     "text": [
      "What type is a_range?  <class 'range'>\n",
      "range(0, 5)\n"
     ]
    }
   ],
   "source": [
    "a_range = range(5)\n",
    "print(\"What type is a_range? \", type(a_range))\n",
    "print(a_range)"
   ]
  },
  {
   "cell_type": "markdown",
   "id": "3504e53e",
   "metadata": {},
   "source": [
    "### Math with iterables\n",
    "\n",
    "You can do math with the standard library objects, but you don't always get what you expect."
   ]
  },
  {
   "cell_type": "code",
   "execution_count": null,
   "id": "26c4ca6b",
   "metadata": {},
   "outputs": [
    {
     "data": {
      "text/plain": [
       "'JohnJohn'"
      ]
     },
     "execution_count": 45,
     "metadata": {},
     "output_type": "execute_result"
    }
   ],
   "source": [
    "# \"Multiplying\" a string repeats it\n",
    "name * 2"
   ]
  },
  {
   "cell_type": "code",
   "execution_count": 74,
   "id": "d52257ad",
   "metadata": {},
   "outputs": [
    {
     "data": {
      "text/plain": [
       "[1, 2, 3, 1, 2, 3]"
      ]
     },
     "execution_count": 74,
     "metadata": {},
     "output_type": "execute_result"
    }
   ],
   "source": [
    "# The same is true of lists -- even if of all numbers\n",
    "numeric_list = [1, 2, 3]\n",
    "numeric_list * 2"
   ]
  },
  {
   "cell_type": "markdown",
   "id": "f6820637",
   "metadata": {},
   "source": [
    "If we want to do math on numeric_list, we need to use a loop or a list comprehension.\n",
    "e.g., :\n",
    "```python\n",
    "doubled_list = [x * 2 for x in numeric_list]\n",
    "```\n",
    "But we might also want to just use put the list into an object that more easily accomodates math operations, such as a NumPy array."
   ]
  },
  {
   "cell_type": "markdown",
   "id": "4df0f702",
   "metadata": {},
   "source": [
    "# The Numpy Library\n",
    "\n",
    "This is a powerful library for numerical computing in Python. It provides support for arrays, matrices, and a wide range of mathematical functions."
   ]
  },
  {
   "cell_type": "code",
   "execution_count": null,
   "id": "15874774",
   "metadata": {},
   "outputs": [],
   "source": [
    "# import the Numpy package and give it\n",
    "# the alias `np`\n",
    "import numpy as np"
   ]
  },
  {
   "cell_type": "code",
   "execution_count": null,
   "id": "ad3fa4ca",
   "metadata": {},
   "outputs": [
    {
     "name": "stdout",
     "output_type": "stream",
     "text": [
      "What type is our_array?  <class 'numpy.ndarray'>\n",
      "What is the shape of our_array?  (5,)\n",
      "[1 2 3 4 5]\n"
     ]
    }
   ],
   "source": [
    "# Create a numpy array with the np.array() function\n",
    "our_array = np.array([1, 2, 3, 4, 5])\n",
    "print(\"What type is our_array? \", type(our_array))\n",
    "print(\"What is the shape of our_array? \", our_array.shape)\n",
    "print(our_array)"
   ]
  },
  {
   "cell_type": "code",
   "execution_count": 75,
   "id": "4f44ee52",
   "metadata": {},
   "outputs": [
    {
     "data": {
      "text/plain": [
       "array([ 2,  4,  6,  8, 10])"
      ]
     },
     "execution_count": 75,
     "metadata": {},
     "output_type": "execute_result"
    }
   ],
   "source": [
    "# Basic operations on our_array\n",
    "our_array * 2"
   ]
  },
  {
   "cell_type": "code",
   "execution_count": 76,
   "id": "b7883e9f",
   "metadata": {},
   "outputs": [
    {
     "name": "stdout",
     "output_type": "stream",
     "text": [
      "Product of the arrays:  [ 1  4  9 16 25]\n",
      "Sum of the arrays:  [ 2  4  6  8 10]\n"
     ]
    }
   ],
   "source": [
    "# numpy arrays use element by element operations by default\n",
    "print(\"Product of the arrays: \", our_array * our_array)\n",
    "print(\"Sum of the arrays: \", our_array + our_array)"
   ]
  },
  {
   "cell_type": "code",
   "execution_count": 79,
   "id": "01f466f5",
   "metadata": {},
   "outputs": [
    {
     "ename": "ValueError",
     "evalue": "operands could not be broadcast together with shapes (5,) (6,) ",
     "output_type": "error",
     "traceback": [
      "\u001b[0;31m---------------------------------------------------------------------------\u001b[0m",
      "\u001b[0;31mValueError\u001b[0m                                Traceback (most recent call last)",
      "Cell \u001b[0;32mIn[79], line 2\u001b[0m\n\u001b[1;32m      1\u001b[0m our_other_array \u001b[38;5;241m=\u001b[39m np\u001b[38;5;241m.\u001b[39marray([\u001b[38;5;241m6\u001b[39m, \u001b[38;5;241m7\u001b[39m, \u001b[38;5;241m8\u001b[39m, \u001b[38;5;241m9\u001b[39m, \u001b[38;5;241m10\u001b[39m, \u001b[38;5;241m11\u001b[39m])\n\u001b[0;32m----> 2\u001b[0m our_array \u001b[38;5;241m*\u001b[39m our_other_array\n",
      "\u001b[0;31mValueError\u001b[0m: operands could not be broadcast together with shapes (5,) (6,) "
     ]
    }
   ],
   "source": [
    "our_other_array = np.array([6, 7, 8, 9, 10, 11])\n",
    "our_array * our_other_array  # This will give an error because the\n",
    "# shapes are different (a \"broadcasting\" error, which means the arrays\n",
    "#don't conform\")"
   ]
  },
  {
   "cell_type": "code",
   "execution_count": 80,
   "id": "020e94e4",
   "metadata": {},
   "outputs": [
    {
     "data": {
      "text/plain": [
       "55"
      ]
     },
     "execution_count": 80,
     "metadata": {},
     "output_type": "execute_result"
    }
   ],
   "source": [
    "# Numpy has functions for vectorized operations\n",
    "# We can do the vector product of our_array with itself as\n",
    "np.dot(our_array, our_array)  # Dot product"
   ]
  },
  {
   "cell_type": "code",
   "execution_count": 55,
   "id": "d5d3da1b",
   "metadata": {},
   "outputs": [
    {
     "name": "stdout",
     "output_type": "stream",
     "text": [
      "What is the shape of d3_array?  (2, 2, 3)\n",
      "[[[ 1  2  3]\n",
      "  [ 4  5  6]]\n",
      "\n",
      " [[ 7  8  9]\n",
      "  [10 11 12]]]\n"
     ]
    }
   ],
   "source": [
    "# N-dimensional arrays are possible\n",
    "# e.g., 3 dims\n",
    "d3_array = np.array([[[ 1, 2, 3],\n",
    "                       [ 4, 5, 6]],\n",
    "                      [[ 7, 8, 9],\n",
    "                       [10, 11, 12]]])\n",
    "print(\"What is the shape of d3_array? \", d3_array.shape)\n",
    "print(d3_array)"
   ]
  },
  {
   "cell_type": "code",
   "execution_count": 82,
   "id": "95f6834c",
   "metadata": {},
   "outputs": [
    {
     "data": {
      "text/plain": [
       "array([[ 7,  8,  9],\n",
       "       [10, 11, 12]])"
      ]
     },
     "execution_count": 82,
     "metadata": {},
     "output_type": "execute_result"
    }
   ],
   "source": [
    "# Array \"slicing\"\n",
    "# slice arrays with the \":\"\n",
    "d3_array[1, :, :]"
   ]
  },
  {
   "cell_type": "code",
   "execution_count": null,
   "id": "4b175fdc",
   "metadata": {},
   "outputs": [
    {
     "data": {
      "text/plain": [
       "array([[7, 8, 9]])"
      ]
     },
     "execution_count": 81,
     "metadata": {},
     "output_type": "execute_result"
    }
   ],
   "source": [
    "# Array \"slicing\"\n",
    "# a number before the colon means start at that element\n",
    "# a number after the colon means end at that element (not including that element)\n",
    "d3_array[1, 0:1, :]  # here we are selecting the first \"slice\" of the second dimension"
   ]
  },
  {
   "cell_type": "code",
   "execution_count": 2,
   "id": "67c805cc",
   "metadata": {},
   "outputs": [
    {
     "name": "stdout",
     "output_type": "stream",
     "text": [
      "[[0. 0. 0. 0.]\n",
      " [0. 0. 0. 0.]\n",
      " [0. 0. 0. 0.]]\n"
     ]
    }
   ],
   "source": [
    "# Special arrays\n",
    "import numpy as np\n",
    "a = np.zeros((3, 4))  # 3 rows, 4 columns\n",
    "print(a)\n"
   ]
  },
  {
   "cell_type": "code",
   "execution_count": 4,
   "id": "f958630b",
   "metadata": {},
   "outputs": [
    {
     "name": "stdout",
     "output_type": "stream",
     "text": [
      "[[1. 1. 1.]\n",
      " [1. 1. 1.]]\n"
     ]
    }
   ],
   "source": [
    "b = np.ones((2, 3))  # 2 rows, 3 columns\n",
    "print(b)"
   ]
  },
  {
   "cell_type": "code",
   "execution_count": 5,
   "id": "0cd19c6f",
   "metadata": {},
   "outputs": [
    {
     "name": "stdout",
     "output_type": "stream",
     "text": [
      "[[1. 0. 0.]\n",
      " [0. 1. 0.]\n",
      " [0. 0. 1.]]\n"
     ]
    }
   ],
   "source": [
    "I = np.eye(3)  # 3x3 identity matrix\n",
    "print(I)\n"
   ]
  },
  {
   "cell_type": "code",
   "execution_count": 6,
   "id": "af70bd98",
   "metadata": {},
   "outputs": [
    {
     "name": "stdout",
     "output_type": "stream",
     "text": [
      "[[0. 0. 0. 0.]\n",
      " [0. 0. 0. 0.]\n",
      " [0. 0. 0. 0.]]\n"
     ]
    }
   ],
   "source": [
    "c = np.empty_like(a)\n",
    "print(c)\n"
   ]
  },
  {
   "cell_type": "code",
   "execution_count": 7,
   "id": "da61980b",
   "metadata": {},
   "outputs": [
    {
     "name": "stdout",
     "output_type": "stream",
     "text": [
      "[[1. 1. 1. 1.]\n",
      " [1. 1. 1. 1.]\n",
      " [1. 1. 1. 1.]]\n"
     ]
    }
   ],
   "source": [
    "d = np.ones_like(a)\n",
    "print(d)"
   ]
  },
  {
   "cell_type": "markdown",
   "id": "e82208f6",
   "metadata": {},
   "source": [
    "# Pandas\n",
    "\n",
    "Pandas is the main library for data manipulation and analysis in Python.  The main object in Pandas is the DataFrame, which is a 2-dimensional labeled data structure with columns of potentially different types."
   ]
  },
  {
   "cell_type": "code",
   "execution_count": 8,
   "id": "b9c2dfba",
   "metadata": {},
   "outputs": [],
   "source": [
    "import pandas as pd"
   ]
  },
  {
   "cell_type": "code",
   "execution_count": 9,
   "id": "738507f4",
   "metadata": {},
   "outputs": [],
   "source": [
    "football_dict = {\n",
    "    \"Year\": [2022, 2023, 2024],\n",
    "    \"USC\": [8, 5, 9],\n",
    "    \"Texas\": [8, 12, 13],\n",
    "    \"UGA\": [15, 13, 11]\n",
    "}"
   ]
  },
  {
   "cell_type": "code",
   "execution_count": 10,
   "id": "51c7e21f",
   "metadata": {},
   "outputs": [
    {
     "name": "stdout",
     "output_type": "stream",
     "text": [
      "What type is df?  <class 'pandas.core.frame.DataFrame'>\n"
     ]
    }
   ],
   "source": [
    "df = pd.DataFrame(football_dict)\n",
    "print(\"What type is df? \", type(df))"
   ]
  },
  {
   "cell_type": "code",
   "execution_count": 11,
   "id": "61ff10ae",
   "metadata": {},
   "outputs": [
    {
     "data": {
      "text/html": [
       "<div>\n",
       "<style scoped>\n",
       "    .dataframe tbody tr th:only-of-type {\n",
       "        vertical-align: middle;\n",
       "    }\n",
       "\n",
       "    .dataframe tbody tr th {\n",
       "        vertical-align: top;\n",
       "    }\n",
       "\n",
       "    .dataframe thead th {\n",
       "        text-align: right;\n",
       "    }\n",
       "</style>\n",
       "<table border=\"1\" class=\"dataframe\">\n",
       "  <thead>\n",
       "    <tr style=\"text-align: right;\">\n",
       "      <th></th>\n",
       "      <th>Year</th>\n",
       "      <th>USC</th>\n",
       "      <th>Texas</th>\n",
       "      <th>UGA</th>\n",
       "    </tr>\n",
       "  </thead>\n",
       "  <tbody>\n",
       "    <tr>\n",
       "      <th>0</th>\n",
       "      <td>2022</td>\n",
       "      <td>8</td>\n",
       "      <td>8</td>\n",
       "      <td>15</td>\n",
       "    </tr>\n",
       "    <tr>\n",
       "      <th>1</th>\n",
       "      <td>2023</td>\n",
       "      <td>5</td>\n",
       "      <td>12</td>\n",
       "      <td>13</td>\n",
       "    </tr>\n",
       "    <tr>\n",
       "      <th>2</th>\n",
       "      <td>2024</td>\n",
       "      <td>9</td>\n",
       "      <td>13</td>\n",
       "      <td>11</td>\n",
       "    </tr>\n",
       "  </tbody>\n",
       "</table>\n",
       "</div>"
      ],
      "text/plain": [
       "   Year  USC  Texas  UGA\n",
       "0  2022    8      8   15\n",
       "1  2023    5     12   13\n",
       "2  2024    9     13   11"
      ]
     },
     "execution_count": 11,
     "metadata": {},
     "output_type": "execute_result"
    }
   ],
   "source": [
    "df"
   ]
  },
  {
   "cell_type": "code",
   "execution_count": 12,
   "id": "4827444c",
   "metadata": {},
   "outputs": [
    {
     "data": {
      "text/html": [
       "<div>\n",
       "<style scoped>\n",
       "    .dataframe tbody tr th:only-of-type {\n",
       "        vertical-align: middle;\n",
       "    }\n",
       "\n",
       "    .dataframe tbody tr th {\n",
       "        vertical-align: top;\n",
       "    }\n",
       "\n",
       "    .dataframe thead th {\n",
       "        text-align: right;\n",
       "    }\n",
       "</style>\n",
       "<table border=\"1\" class=\"dataframe\">\n",
       "  <thead>\n",
       "    <tr style=\"text-align: right;\">\n",
       "      <th></th>\n",
       "      <th>Year</th>\n",
       "      <th>USC</th>\n",
       "      <th>Texas</th>\n",
       "      <th>UGA</th>\n",
       "    </tr>\n",
       "  </thead>\n",
       "  <tbody>\n",
       "    <tr>\n",
       "      <th>count</th>\n",
       "      <td>3.0</td>\n",
       "      <td>3.000000</td>\n",
       "      <td>3.000000</td>\n",
       "      <td>3.0</td>\n",
       "    </tr>\n",
       "    <tr>\n",
       "      <th>mean</th>\n",
       "      <td>2023.0</td>\n",
       "      <td>7.333333</td>\n",
       "      <td>11.000000</td>\n",
       "      <td>13.0</td>\n",
       "    </tr>\n",
       "    <tr>\n",
       "      <th>std</th>\n",
       "      <td>1.0</td>\n",
       "      <td>2.081666</td>\n",
       "      <td>2.645751</td>\n",
       "      <td>2.0</td>\n",
       "    </tr>\n",
       "    <tr>\n",
       "      <th>min</th>\n",
       "      <td>2022.0</td>\n",
       "      <td>5.000000</td>\n",
       "      <td>8.000000</td>\n",
       "      <td>11.0</td>\n",
       "    </tr>\n",
       "    <tr>\n",
       "      <th>25%</th>\n",
       "      <td>2022.5</td>\n",
       "      <td>6.500000</td>\n",
       "      <td>10.000000</td>\n",
       "      <td>12.0</td>\n",
       "    </tr>\n",
       "    <tr>\n",
       "      <th>50%</th>\n",
       "      <td>2023.0</td>\n",
       "      <td>8.000000</td>\n",
       "      <td>12.000000</td>\n",
       "      <td>13.0</td>\n",
       "    </tr>\n",
       "    <tr>\n",
       "      <th>75%</th>\n",
       "      <td>2023.5</td>\n",
       "      <td>8.500000</td>\n",
       "      <td>12.500000</td>\n",
       "      <td>14.0</td>\n",
       "    </tr>\n",
       "    <tr>\n",
       "      <th>max</th>\n",
       "      <td>2024.0</td>\n",
       "      <td>9.000000</td>\n",
       "      <td>13.000000</td>\n",
       "      <td>15.0</td>\n",
       "    </tr>\n",
       "  </tbody>\n",
       "</table>\n",
       "</div>"
      ],
      "text/plain": [
       "         Year       USC      Texas   UGA\n",
       "count     3.0  3.000000   3.000000   3.0\n",
       "mean   2023.0  7.333333  11.000000  13.0\n",
       "std       1.0  2.081666   2.645751   2.0\n",
       "min    2022.0  5.000000   8.000000  11.0\n",
       "25%    2022.5  6.500000  10.000000  12.0\n",
       "50%    2023.0  8.000000  12.000000  13.0\n",
       "75%    2023.5  8.500000  12.500000  14.0\n",
       "max    2024.0  9.000000  13.000000  15.0"
      ]
     },
     "execution_count": 12,
     "metadata": {},
     "output_type": "execute_result"
    }
   ],
   "source": [
    "df.describe()"
   ]
  },
  {
   "cell_type": "code",
   "execution_count": 13,
   "id": "6aee071e",
   "metadata": {},
   "outputs": [
    {
     "data": {
      "text/plain": [
       "0    8\n",
       "1    5\n",
       "2    9\n",
       "Name: USC, dtype: int64"
      ]
     },
     "execution_count": 13,
     "metadata": {},
     "output_type": "execute_result"
    }
   ],
   "source": [
    "df[\"USC\"]"
   ]
  },
  {
   "cell_type": "code",
   "execution_count": 15,
   "id": "8db982d4",
   "metadata": {},
   "outputs": [
    {
     "data": {
      "text/plain": [
       "7.333333333333333"
      ]
     },
     "execution_count": 15,
     "metadata": {},
     "output_type": "execute_result"
    }
   ],
   "source": [
    "df[\"USC\"].mean()"
   ]
  },
  {
   "cell_type": "code",
   "execution_count": 16,
   "id": "a6986db3",
   "metadata": {},
   "outputs": [
    {
     "name": "stdout",
     "output_type": "stream",
     "text": [
      "ACME_NumpyIntro.pdf             PS2.fdb_latexmk\n",
      "ACME_ObjectOriented.pdf         PS2.fls\n",
      "ACME_Pandas1.pdf                PS2.log\n",
      "ACME_Pandas2.pdf                PS2.out\n",
      "ACME_Pandas3.pdf                PS2.pdf\n",
      "ACME_Pandas4.pdf                PS2.synctex.gz\n",
      "ACME_StandardLibrary.pdf        PS2.tex\n",
      "BuiltinTypes.ipynb              PythonBasics.ipynb\n",
      "\u001b[34mDataFiles\u001b[m\u001b[m                       PythonDescribe.ipynb\n",
      "DataFunctions.ipynb             PythonFuncs.ipynb\n",
      "InClassExample.ipynb            PythonNumpyPandas.ipynb\n",
      "InClass_BasicLibraryNumpy.ipynb PythonReadIn.ipynb\n",
      "InClass_Functions.ipynb         PythonReshape.ipynb\n",
      "InClass_Pandas.ipynb            README.md\n",
      "InClass_PythonBasics.ipynb      Untitled.ipynb\n",
      "Notes.aux                       Untitled1.ipynb\n",
      "Notes.fdb_latexmk               \u001b[34m__pycache__\u001b[m\u001b[m\n",
      "Notes.fls                       fibo.py\n",
      "Notes.log                       kisa_2015.csv\n",
      "Notes.out                       kisa_df.pkl\n",
      "Notes.pdf                       my_func.py\n",
      "Notes.synctex.gz                scatter_3d_plot.html\n",
      "Notes.tex                       simple_math.py\n",
      "PS2.aux\n"
     ]
    }
   ],
   "source": [
    "!ls"
   ]
  },
  {
   "cell_type": "code",
   "execution_count": 17,
   "id": "41780231",
   "metadata": {},
   "outputs": [],
   "source": [
    "kisa_df = pd.read_csv(\"kisa_2015.csv\")"
   ]
  },
  {
   "cell_type": "code",
   "execution_count": 18,
   "id": "12b21a79",
   "metadata": {},
   "outputs": [
    {
     "data": {
      "text/html": [
       "<div>\n",
       "<style scoped>\n",
       "    .dataframe tbody tr th:only-of-type {\n",
       "        vertical-align: middle;\n",
       "    }\n",
       "\n",
       "    .dataframe tbody tr th {\n",
       "        vertical-align: top;\n",
       "    }\n",
       "\n",
       "    .dataframe thead th {\n",
       "        text-align: right;\n",
       "    }\n",
       "</style>\n",
       "<table border=\"1\" class=\"dataframe\">\n",
       "  <thead>\n",
       "    <tr style=\"text-align: right;\">\n",
       "      <th></th>\n",
       "      <th>month</th>\n",
       "      <th>grdatn</th>\n",
       "      <th>marstat</th>\n",
       "      <th>age</th>\n",
       "      <th>class</th>\n",
       "      <th>region</th>\n",
       "      <th>state</th>\n",
       "      <th>hours</th>\n",
       "      <th>mlr</th>\n",
       "      <th>natvty</th>\n",
       "      <th>...</th>\n",
       "      <th>homeown</th>\n",
       "      <th>hoursu1b</th>\n",
       "      <th>hoursu1b_t1</th>\n",
       "      <th>se15u</th>\n",
       "      <th>se15u_t1</th>\n",
       "      <th>ent015u</th>\n",
       "      <th>ent015ua</th>\n",
       "      <th>vet</th>\n",
       "      <th>wgtat</th>\n",
       "      <th>wgtat1</th>\n",
       "    </tr>\n",
       "  </thead>\n",
       "  <tbody>\n",
       "    <tr>\n",
       "      <th>0</th>\n",
       "      <td>12</td>\n",
       "      <td>42</td>\n",
       "      <td>5</td>\n",
       "      <td>57</td>\n",
       "      <td>4</td>\n",
       "      <td>1</td>\n",
       "      <td>14</td>\n",
       "      <td>40</td>\n",
       "      <td>1</td>\n",
       "      <td>57</td>\n",
       "      <td>...</td>\n",
       "      <td>NaN</td>\n",
       "      <td>40</td>\n",
       "      <td>40</td>\n",
       "      <td>0</td>\n",
       "      <td>0</td>\n",
       "      <td>0.0</td>\n",
       "      <td>0.0</td>\n",
       "      <td>0</td>\n",
       "      <td>269.172442</td>\n",
       "      <td>270.433824</td>\n",
       "    </tr>\n",
       "    <tr>\n",
       "      <th>1</th>\n",
       "      <td>12</td>\n",
       "      <td>39</td>\n",
       "      <td>7</td>\n",
       "      <td>26</td>\n",
       "      <td>4</td>\n",
       "      <td>1</td>\n",
       "      <td>14</td>\n",
       "      <td>40</td>\n",
       "      <td>1</td>\n",
       "      <td>57</td>\n",
       "      <td>...</td>\n",
       "      <td>NaN</td>\n",
       "      <td>40</td>\n",
       "      <td>40</td>\n",
       "      <td>0</td>\n",
       "      <td>0</td>\n",
       "      <td>0.0</td>\n",
       "      <td>0.0</td>\n",
       "      <td>0</td>\n",
       "      <td>403.023478</td>\n",
       "      <td>404.912105</td>\n",
       "    </tr>\n",
       "    <tr>\n",
       "      <th>2</th>\n",
       "      <td>12</td>\n",
       "      <td>41</td>\n",
       "      <td>1</td>\n",
       "      <td>43</td>\n",
       "      <td>4</td>\n",
       "      <td>2</td>\n",
       "      <td>41</td>\n",
       "      <td>46</td>\n",
       "      <td>1</td>\n",
       "      <td>110</td>\n",
       "      <td>...</td>\n",
       "      <td>NaN</td>\n",
       "      <td>46</td>\n",
       "      <td>40</td>\n",
       "      <td>0</td>\n",
       "      <td>0</td>\n",
       "      <td>0.0</td>\n",
       "      <td>0.0</td>\n",
       "      <td>0</td>\n",
       "      <td>402.790075</td>\n",
       "      <td>404.677609</td>\n",
       "    </tr>\n",
       "    <tr>\n",
       "      <th>3</th>\n",
       "      <td>12</td>\n",
       "      <td>39</td>\n",
       "      <td>1</td>\n",
       "      <td>38</td>\n",
       "      <td>4</td>\n",
       "      <td>2</td>\n",
       "      <td>41</td>\n",
       "      <td>40</td>\n",
       "      <td>1</td>\n",
       "      <td>57</td>\n",
       "      <td>...</td>\n",
       "      <td>NaN</td>\n",
       "      <td>40</td>\n",
       "      <td>30</td>\n",
       "      <td>0</td>\n",
       "      <td>0</td>\n",
       "      <td>0.0</td>\n",
       "      <td>0.0</td>\n",
       "      <td>0</td>\n",
       "      <td>342.934489</td>\n",
       "      <td>344.541531</td>\n",
       "    </tr>\n",
       "    <tr>\n",
       "      <th>4</th>\n",
       "      <td>12</td>\n",
       "      <td>42</td>\n",
       "      <td>1</td>\n",
       "      <td>51</td>\n",
       "      <td>-1</td>\n",
       "      <td>3</td>\n",
       "      <td>58</td>\n",
       "      <td>-1</td>\n",
       "      <td>6</td>\n",
       "      <td>57</td>\n",
       "      <td>...</td>\n",
       "      <td>NaN</td>\n",
       "      <td>-1</td>\n",
       "      <td>-1</td>\n",
       "      <td>0</td>\n",
       "      <td>0</td>\n",
       "      <td>0.0</td>\n",
       "      <td>0.0</td>\n",
       "      <td>0</td>\n",
       "      <td>560.224448</td>\n",
       "      <td>562.849743</td>\n",
       "    </tr>\n",
       "  </tbody>\n",
       "</table>\n",
       "<p>5 rows × 37 columns</p>\n",
       "</div>"
      ],
      "text/plain": [
       "   month  grdatn  marstat  age  class  region  state  hours  mlr  natvty  ...  \\\n",
       "0     12      42        5   57      4       1     14     40    1      57  ...   \n",
       "1     12      39        7   26      4       1     14     40    1      57  ...   \n",
       "2     12      41        1   43      4       2     41     46    1     110  ...   \n",
       "3     12      39        1   38      4       2     41     40    1      57  ...   \n",
       "4     12      42        1   51     -1       3     58     -1    6      57  ...   \n",
       "\n",
       "   homeown  hoursu1b  hoursu1b_t1  se15u  se15u_t1  ent015u  ent015ua  vet  \\\n",
       "0      NaN        40           40      0         0      0.0       0.0    0   \n",
       "1      NaN        40           40      0         0      0.0       0.0    0   \n",
       "2      NaN        46           40      0         0      0.0       0.0    0   \n",
       "3      NaN        40           30      0         0      0.0       0.0    0   \n",
       "4      NaN        -1           -1      0         0      0.0       0.0    0   \n",
       "\n",
       "        wgtat      wgtat1  \n",
       "0  269.172442  270.433824  \n",
       "1  403.023478  404.912105  \n",
       "2  402.790075  404.677609  \n",
       "3  342.934489  344.541531  \n",
       "4  560.224448  562.849743  \n",
       "\n",
       "[5 rows x 37 columns]"
      ]
     },
     "execution_count": 18,
     "metadata": {},
     "output_type": "execute_result"
    }
   ],
   "source": [
    "kisa_df.head()  # show the first 5 rows of the dataframe"
   ]
  },
  {
   "cell_type": "code",
   "execution_count": 26,
   "id": "3cd2078d",
   "metadata": {},
   "outputs": [
    {
     "data": {
      "text/html": [
       "<div>\n",
       "<style scoped>\n",
       "    .dataframe tbody tr th:only-of-type {\n",
       "        vertical-align: middle;\n",
       "    }\n",
       "\n",
       "    .dataframe tbody tr th {\n",
       "        vertical-align: top;\n",
       "    }\n",
       "\n",
       "    .dataframe thead th {\n",
       "        text-align: right;\n",
       "    }\n",
       "</style>\n",
       "<table border=\"1\" class=\"dataframe\">\n",
       "  <thead>\n",
       "    <tr style=\"text-align: right;\">\n",
       "      <th></th>\n",
       "      <th>age</th>\n",
       "      <th>hours</th>\n",
       "    </tr>\n",
       "  </thead>\n",
       "  <tbody>\n",
       "    <tr>\n",
       "      <th>0</th>\n",
       "      <td>20</td>\n",
       "      <td>40.000000</td>\n",
       "    </tr>\n",
       "    <tr>\n",
       "      <th>1</th>\n",
       "      <td>21</td>\n",
       "      <td>38.000000</td>\n",
       "    </tr>\n",
       "    <tr>\n",
       "      <th>2</th>\n",
       "      <td>22</td>\n",
       "      <td>34.666667</td>\n",
       "    </tr>\n",
       "    <tr>\n",
       "      <th>3</th>\n",
       "      <td>23</td>\n",
       "      <td>17.500000</td>\n",
       "    </tr>\n",
       "    <tr>\n",
       "      <th>4</th>\n",
       "      <td>24</td>\n",
       "      <td>-1.000000</td>\n",
       "    </tr>\n",
       "    <tr>\n",
       "      <th>5</th>\n",
       "      <td>26</td>\n",
       "      <td>40.000000</td>\n",
       "    </tr>\n",
       "    <tr>\n",
       "      <th>6</th>\n",
       "      <td>28</td>\n",
       "      <td>19.400000</td>\n",
       "    </tr>\n",
       "    <tr>\n",
       "      <th>7</th>\n",
       "      <td>29</td>\n",
       "      <td>16.000000</td>\n",
       "    </tr>\n",
       "    <tr>\n",
       "      <th>8</th>\n",
       "      <td>30</td>\n",
       "      <td>39.000000</td>\n",
       "    </tr>\n",
       "    <tr>\n",
       "      <th>9</th>\n",
       "      <td>32</td>\n",
       "      <td>19.500000</td>\n",
       "    </tr>\n",
       "    <tr>\n",
       "      <th>10</th>\n",
       "      <td>33</td>\n",
       "      <td>19.500000</td>\n",
       "    </tr>\n",
       "    <tr>\n",
       "      <th>11</th>\n",
       "      <td>34</td>\n",
       "      <td>40.000000</td>\n",
       "    </tr>\n",
       "    <tr>\n",
       "      <th>12</th>\n",
       "      <td>35</td>\n",
       "      <td>-1.000000</td>\n",
       "    </tr>\n",
       "    <tr>\n",
       "      <th>13</th>\n",
       "      <td>36</td>\n",
       "      <td>29.500000</td>\n",
       "    </tr>\n",
       "    <tr>\n",
       "      <th>14</th>\n",
       "      <td>38</td>\n",
       "      <td>40.000000</td>\n",
       "    </tr>\n",
       "    <tr>\n",
       "      <th>15</th>\n",
       "      <td>39</td>\n",
       "      <td>22.000000</td>\n",
       "    </tr>\n",
       "    <tr>\n",
       "      <th>16</th>\n",
       "      <td>40</td>\n",
       "      <td>32.250000</td>\n",
       "    </tr>\n",
       "    <tr>\n",
       "      <th>17</th>\n",
       "      <td>41</td>\n",
       "      <td>35.000000</td>\n",
       "    </tr>\n",
       "    <tr>\n",
       "      <th>18</th>\n",
       "      <td>42</td>\n",
       "      <td>19.000000</td>\n",
       "    </tr>\n",
       "    <tr>\n",
       "      <th>19</th>\n",
       "      <td>43</td>\n",
       "      <td>29.857143</td>\n",
       "    </tr>\n",
       "    <tr>\n",
       "      <th>20</th>\n",
       "      <td>44</td>\n",
       "      <td>44.000000</td>\n",
       "    </tr>\n",
       "    <tr>\n",
       "      <th>21</th>\n",
       "      <td>45</td>\n",
       "      <td>32.000000</td>\n",
       "    </tr>\n",
       "    <tr>\n",
       "      <th>22</th>\n",
       "      <td>46</td>\n",
       "      <td>23.200000</td>\n",
       "    </tr>\n",
       "    <tr>\n",
       "      <th>23</th>\n",
       "      <td>47</td>\n",
       "      <td>40.000000</td>\n",
       "    </tr>\n",
       "    <tr>\n",
       "      <th>24</th>\n",
       "      <td>48</td>\n",
       "      <td>50.500000</td>\n",
       "    </tr>\n",
       "    <tr>\n",
       "      <th>25</th>\n",
       "      <td>49</td>\n",
       "      <td>48.000000</td>\n",
       "    </tr>\n",
       "    <tr>\n",
       "      <th>26</th>\n",
       "      <td>50</td>\n",
       "      <td>35.200000</td>\n",
       "    </tr>\n",
       "    <tr>\n",
       "      <th>27</th>\n",
       "      <td>51</td>\n",
       "      <td>19.500000</td>\n",
       "    </tr>\n",
       "    <tr>\n",
       "      <th>28</th>\n",
       "      <td>52</td>\n",
       "      <td>24.000000</td>\n",
       "    </tr>\n",
       "    <tr>\n",
       "      <th>29</th>\n",
       "      <td>53</td>\n",
       "      <td>54.000000</td>\n",
       "    </tr>\n",
       "    <tr>\n",
       "      <th>30</th>\n",
       "      <td>54</td>\n",
       "      <td>31.400000</td>\n",
       "    </tr>\n",
       "    <tr>\n",
       "      <th>31</th>\n",
       "      <td>55</td>\n",
       "      <td>-1.000000</td>\n",
       "    </tr>\n",
       "    <tr>\n",
       "      <th>32</th>\n",
       "      <td>56</td>\n",
       "      <td>20.000000</td>\n",
       "    </tr>\n",
       "    <tr>\n",
       "      <th>33</th>\n",
       "      <td>57</td>\n",
       "      <td>28.000000</td>\n",
       "    </tr>\n",
       "    <tr>\n",
       "      <th>34</th>\n",
       "      <td>58</td>\n",
       "      <td>19.500000</td>\n",
       "    </tr>\n",
       "    <tr>\n",
       "      <th>35</th>\n",
       "      <td>60</td>\n",
       "      <td>40.000000</td>\n",
       "    </tr>\n",
       "    <tr>\n",
       "      <th>36</th>\n",
       "      <td>61</td>\n",
       "      <td>-1.000000</td>\n",
       "    </tr>\n",
       "    <tr>\n",
       "      <th>37</th>\n",
       "      <td>62</td>\n",
       "      <td>40.000000</td>\n",
       "    </tr>\n",
       "    <tr>\n",
       "      <th>38</th>\n",
       "      <td>63</td>\n",
       "      <td>24.500000</td>\n",
       "    </tr>\n",
       "    <tr>\n",
       "      <th>39</th>\n",
       "      <td>64</td>\n",
       "      <td>19.500000</td>\n",
       "    </tr>\n",
       "  </tbody>\n",
       "</table>\n",
       "</div>"
      ],
      "text/plain": [
       "    age      hours\n",
       "0    20  40.000000\n",
       "1    21  38.000000\n",
       "2    22  34.666667\n",
       "3    23  17.500000\n",
       "4    24  -1.000000\n",
       "5    26  40.000000\n",
       "6    28  19.400000\n",
       "7    29  16.000000\n",
       "8    30  39.000000\n",
       "9    32  19.500000\n",
       "10   33  19.500000\n",
       "11   34  40.000000\n",
       "12   35  -1.000000\n",
       "13   36  29.500000\n",
       "14   38  40.000000\n",
       "15   39  22.000000\n",
       "16   40  32.250000\n",
       "17   41  35.000000\n",
       "18   42  19.000000\n",
       "19   43  29.857143\n",
       "20   44  44.000000\n",
       "21   45  32.000000\n",
       "22   46  23.200000\n",
       "23   47  40.000000\n",
       "24   48  50.500000\n",
       "25   49  48.000000\n",
       "26   50  35.200000\n",
       "27   51  19.500000\n",
       "28   52  24.000000\n",
       "29   53  54.000000\n",
       "30   54  31.400000\n",
       "31   55  -1.000000\n",
       "32   56  20.000000\n",
       "33   57  28.000000\n",
       "34   58  19.500000\n",
       "35   60  40.000000\n",
       "36   61  -1.000000\n",
       "37   62  40.000000\n",
       "38   63  24.500000\n",
       "39   64  19.500000"
      ]
     },
     "execution_count": 26,
     "metadata": {},
     "output_type": "execute_result"
    }
   ],
   "source": [
    "# group by age and report mean hours - and put in a dataframe\n",
    "df2 = kisa_df.groupby(\"age\")[\"hours\"].mean().reset_index()\n",
    "df2"
   ]
  }
 ],
 "metadata": {
  "kernelspec": {
   "display_name": "base",
   "language": "python",
   "name": "python3"
  },
  "language_info": {
   "codemirror_mode": {
    "name": "ipython",
    "version": 3
   },
   "file_extension": ".py",
   "mimetype": "text/x-python",
   "name": "python",
   "nbconvert_exporter": "python",
   "pygments_lexer": "ipython3",
   "version": "3.11.5"
  }
 },
 "nbformat": 4,
 "nbformat_minor": 5
}
