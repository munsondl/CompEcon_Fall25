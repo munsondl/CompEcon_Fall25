{
 "cells": [
  {
   "cell_type": "markdown",
   "metadata": {
    "collapsed": true
   },
   "source": [
    "# Reading and Writing Data in R\n",
    "### by [Jason DeBacker](http://jasondebacker.com), September 2025\n",
    "\n",
    "This notebook illustrates how to read and write data in R.\n",
    "\n",
    "## Reading Data\n",
    "\n",
    "### CSV Files"
   ]
  },
  {
   "cell_type": "code",
   "execution_count": null,
   "metadata": {
    "vscode": {
     "languageId": "r"
    }
   },
   "outputs": [],
   "source": [
    "# get current directory\n",
    "current_dir <- getwd()\n",
    "# read in Kauffman data we looked at in the Python tutorial\n",
    "# Read in csv file and put in data frame named kisa\n",
    "# column names are set from the header of the read file if\n",
    "# header = TRUE\n",
    "kisa <- read.table(file.path(current_dir, \"..\", \"Python\", \"kisa_2015.csv\"),\n",
    "                 header = TRUE,\n",
    "                 sep = \",\", fill = TRUE)\n",
    "kisa[1:5,] # show the first 5 rows\n",
    "str(kisa)"
   ]
  },
  {
   "cell_type": "code",
   "execution_count": null,
   "metadata": {
    "vscode": {
     "languageId": "r"
    }
   },
   "outputs": [],
   "source": [
    "# the read.table() function above can also read in tab delimited text\n",
    "# there is a function specifically for csv (essentially the same,\n",
    "# just has sep default set to \",\" and fill default to TRUE)\n",
    "kisa <- read.csv(file.path(current_dir, \"..\", \"Python\", \"kisa_2015.csv\"),\n",
    "                 header = TRUE)\n",
    "kisa2[1:5,] # show the first 5 rows"
   ]
  },
  {
   "cell_type": "markdown",
   "metadata": {},
   "source": [
    "### Reading data from Excel"
   ]
  },
  {
   "cell_type": "code",
   "execution_count": null,
   "metadata": {
    "vscode": {
     "languageId": "r"
    }
   },
   "outputs": [],
   "source": [
    "# import readxl package  -- need to make sure installed\n",
    "install.packages(\"readxl\") # install package (only need to do if don't have already)\n",
    "library(readxl)\n",
    "\n",
    "# read in data used for PS #4\n",
    "df <- read_excel(file.path(current_dir, \"data\", \"radio_merger_data.xlsx\"),\n",
    "                  sheet = 1)\n",
    "df[1:5,]"
   ]
  },
  {
   "cell_type": "markdown",
   "metadata": {},
   "source": [
    "### Reading Stata data files"
   ]
  },
  {
   "cell_type": "code",
   "execution_count": null,
   "metadata": {
    "vscode": {
     "languageId": "r"
    }
   },
   "outputs": [],
   "source": [
    "# Activate the `haven` library\n",
    "install.packages(\"haven\") # if not already installed\n",
    "library(haven)\n",
    "\n",
    "# Read Stata data file used for PS #3\n",
    "ps3_data <- read_dta(file.path(current_dir, \"..\", \"Optimization\", \"PSID_data.dta\"))\n",
    "ps3_data[1:5,]"
   ]
  },
  {
   "cell_type": "markdown",
   "metadata": {},
   "source": [
    "Be sure to read more about these functions in there documentation.  They are quite flexible in terms of skipping lines and reformating data that you put into your R data frame.  They can also ready data from URLs (as we did in Python) with some modification.  Additionally, there are functions to read in data in many other formats.  DataCamp provides a good overview of these [here](https://www.datacamp.com/community/tutorials/r-data-import-tutorial#stata)."
   ]
  },
  {
   "cell_type": "markdown",
   "metadata": {},
   "source": [
    "## Writing data\n",
    "\n",
    "As with reading in data, there is the ability to write data into multiple formats from R.\n",
    "\n",
    "###  To CSV"
   ]
  },
  {
   "cell_type": "code",
   "execution_count": null,
   "metadata": {
    "vscode": {
     "languageId": "r"
    }
   },
   "outputs": [],
   "source": [
    "# write the radio mergers data to csv (df was the\n",
    "# name of the data frame from above)\n",
    "write.csv(file='test_write.csv', x=df)"
   ]
  },
  {
   "cell_type": "markdown",
   "metadata": {},
   "source": [
    "### To Excel"
   ]
  },
  {
   "cell_type": "code",
   "execution_count": null,
   "metadata": {
    "vscode": {
     "languageId": "r"
    }
   },
   "outputs": [],
   "source": [
    "install.packages(\"openxlsx\") # if not already installed\n",
    "library(openxlsx)\n",
    "\n",
    "# for writing a data.frame or list of data.frames to an xlsx file\n",
    "write.xlsx(df, \"test_write.xlsx\")"
   ]
  },
  {
   "cell_type": "markdown",
   "metadata": {},
   "source": [
    "### To Stata"
   ]
  },
  {
   "cell_type": "code",
   "execution_count": null,
   "metadata": {
    "vscode": {
     "languageId": "r"
    }
   },
   "outputs": [],
   "source": [
    "# Uses the haven package we imported above\n",
    "write_dta(df, 'test_write.dta', version = 14) # note, haven only supports to Stata 14"
   ]
  },
  {
   "cell_type": "markdown",
   "metadata": {},
   "source": [
    "Again, be sure to read the documentation about these functions to see the available keyword arguments that will allow you to adjust how the data are saved.\n",
    "\n",
    "## Saving R-Objects to Disk\n",
    "\n",
    "Sometimes you want to save R-objects in a way that will preserve all their properties when they are read back in.  E.g., a plot or R-object that represents output from an econometric model.  To do this, you can use the `save()` function and save your objects to .RData or .rda files. \n",
    "\n",
    "Note that files saved in this way can only be read in R."
   ]
  },
  {
   "cell_type": "code",
   "execution_count": null,
   "metadata": {
    "vscode": {
     "languageId": "r"
    }
   },
   "outputs": [],
   "source": [
    "# Saving on object in RData format\n",
    "save(df, file = \"df_out.RData\")\n",
    "# Save multiple objects\n",
    "save(ps3_data, df, file = \"2df_out.RData\")\n",
    "# To load the data again\n",
    "load(\"2df_out.RData\")"
   ]
  },
  {
   "cell_type": "code",
   "execution_count": null,
   "metadata": {
    "vscode": {
     "languageId": "r"
    }
   },
   "outputs": [],
   "source": [
    "ps3_data[1:5,]"
   ]
  },
  {
   "cell_type": "code",
   "execution_count": null,
   "metadata": {
    "vscode": {
     "languageId": "r"
    }
   },
   "outputs": [],
   "source": [
    "df[1:5, ]"
   ]
  },
  {
   "cell_type": "markdown",
   "metadata": {},
   "source": [
    "## Cautionary notes about assignment operator in R"
   ]
  },
  {
   "cell_type": "code",
   "execution_count": null,
   "metadata": {
    "vscode": {
     "languageId": "r"
    }
   },
   "outputs": [],
   "source": [
    "x <- -3\n",
    "x"
   ]
  },
  {
   "cell_type": "code",
   "execution_count": null,
   "metadata": {
    "vscode": {
     "languageId": "r"
    }
   },
   "outputs": [],
   "source": [
    "x <- 3\n",
    "x"
   ]
  },
  {
   "cell_type": "code",
   "execution_count": null,
   "metadata": {
    "vscode": {
     "languageId": "r"
    }
   },
   "outputs": [],
   "source": [
    "(x<-3)"
   ]
  },
  {
   "cell_type": "code",
   "execution_count": null,
   "metadata": {
    "vscode": {
     "languageId": "r"
    }
   },
   "outputs": [],
   "source": [
    "(x < -3)"
   ]
  },
  {
   "cell_type": "code",
   "execution_count": null,
   "metadata": {
    "vscode": {
     "languageId": "r"
    }
   },
   "outputs": [],
   "source": []
  }
 ],
 "metadata": {
  "kernelspec": {
   "display_name": "R",
   "language": "R",
   "name": "ir"
  },
  "language_info": {
   "codemirror_mode": "r",
   "file_extension": ".r",
   "mimetype": "text/x-r-source",
   "name": "R",
   "pygments_lexer": "r",
   "version": "4.3.1"
  }
 },
 "nbformat": 4,
 "nbformat_minor": 2
}
