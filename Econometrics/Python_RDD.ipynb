{
 "cells": [
  {
   "cell_type": "markdown",
   "metadata": {},
   "source": [
    "# Implementing Regression Discontinuity Design in Python\n",
    "### by [Jason DeBacker](http://jasondebacker.com), September 2025\n",
    "\n",
    "This notebook provides an example of an regression discontinuity design in Python.\n",
    "\n",
    "## Example: Lee (*Journal of Econometrics*, 2008)\n",
    "\n",
    "[Lee (2008)](https://www.princeton.edu/~davidlee/wp/RDrand.pdf) seeks to answer an empirical question - how big is the incumbency advantage in the U.S. House? - and provide a methodological contribution - can we use regression discontinuity design to identify causal effects if the running variable is endogenous?\n",
    "\n",
    "Economists and political scientists have studied the incumbency advantage for decades.  The main empirical challenge here is obvious: incumbents are from a selected sample - they were elected to office in the first place!  So simply looking at the rate at which incumbents win elections doesn't tell you anything about the causal impact of incumbency on elections.  Rather, it could just be evidence that good candidates do better than poorer candidates.  There have been a number of interesting approaches to tackle this problem, including [Levitt (*Journal of Political Economy*, 1994)](http://pricetheory.uchicago.edu/levitt/Papers/LevittUsingRepeatChallengers1994.pdf) who uses elections where the challenging candidate is the same.\n",
    "\n",
    "Lee's important idea: let's look at close elections.  These could have gone either way, so the candidates who were running were of similar quality, but one just one.  And that narrow victor of the election at time $t$ now has the advantage of incumbency at $t+1$.  So we should be able to identify the incumbency advantage by looking at how candidates who narrowly won the election at time $t$ perform at time $t+1$.  More specifically, Lee (2008) looks at the incumbency advantage accruing to the party (and not to a specific candidate).  But the idea is the same (and in fact, since most incumbents run again, the effects on the party and the individual and quantitatively similar as well).\n",
    "\n",
    "We'll replicate Lee's analysis here.  To begin, I've downloaded the Election Table data from the the ICPSR's [Database of United States Congressional Historical Statistics](http://www.icpsr.umich.edu/icpsrweb/ICPSR/studies/3371?q=congressional+election) as a Stata datafile, renamed `Election_Data.dta` and placed it in `./data/`.\n",
    "\n",
    "With these data we won't have all the elections considered by Lee (2008) and so won't be able to replicate his analysis exactly, but these are close enough.\n",
    "\n",
    "We'll need to do a bit of cleaning to these data.  Let's load the libraries we neeed and do the cleaning first.\n",
    "\n",
    "### Cleaning data"
   ]
  },
  {
   "cell_type": "code",
   "execution_count": 14,
   "metadata": {},
   "outputs": [],
   "source": [
    "import numpy as np\n",
    "import pandas as pd\n",
    "import matplotlib.pyplot as plt\n",
    "import plotly.express as px\n",
    "import statsmodels.formula.api as smf\n",
    "import os\n",
    "from rdd import rdd"
   ]
  },
  {
   "cell_type": "code",
   "execution_count": 15,
   "metadata": {},
   "outputs": [],
   "source": [
    "# find current directory\n",
    "current_dir = os.getcwd()\n",
    "# read in data from ./data/Election_Data.dta\n",
    "df = pd.read_stata(os.path.join(current_dir, \"data\", \"Election_Data.dta\"), convert_categoricals=False)\n",
    "# make all variable names lower case\n",
    "df.columns = df.columns.str.lower()\n",
    "\n",
    "# clean election data\n",
    "# keep only years 1946+ and House general elections\n",
    "elec_data = df[(df.year >= 1946) & (df.electype == \"G\") & (df.office == 3)]\n",
    "# keep only columns will use\n",
    "elec_data = elec_data[[\"cand_id\",\"year\",\"congress\", \"state\",\n",
    "                       \"district\", \"candpct\", \"party\", \"outcome\",\n",
    "                       \"incumb\"]]"
   ]
  },
  {
   "cell_type": "markdown",
   "metadata": {},
   "source": [
    "### Setup data for analysis\n",
    "\n",
    "Create dataset on candidates:\n",
    "1. Number of election wins prior to year t\n",
    "2. Number of elections campaigned in prior to year t"
   ]
  },
  {
   "cell_type": "code",
   "execution_count": 16,
   "metadata": {},
   "outputs": [],
   "source": [
    "# sort by year and candidate\n",
    "elec_data.sort_values(by=['year', 'cand_id'], inplace=True)\n",
    "# create indicator if ran in election\n",
    "elec_data[\"ran_for_office\"] = 1\n",
    "\n",
    "# create electoral experience by summing previous times ran for office\n",
    "elec_data['elec_experience'] = elec_data.groupby(['cand_id'])['ran_for_office'].cumsum() - 1  # minus 1 so don't count current election\n",
    "# create political experience by summing previous times won office\n",
    "elec_data.sort_values(by=['year', 'cand_id'], inplace=True)\n",
    "elec_data['pol_experience'] = elec_data.groupby(['cand_id'])['outcome'].cumsum()\n",
    "elec_data['pol_experience'] = elec_data['pol_experience'] - elec_data['outcome']  # so don't count current election outcome\n",
    "\n",
    "rd_data = elec_data.copy()"
   ]
  },
  {
   "cell_type": "markdown",
   "metadata": {},
   "source": [
    "### More data prep\n",
    "\n",
    "Here, we keep just the top vote getting candidates, reshape the data for analysis, and create lags of relevant variables."
   ]
  },
  {
   "cell_type": "code",
   "execution_count": 17,
   "metadata": {},
   "outputs": [],
   "source": [
    "# rank by percent of vote share (with in each race)\n",
    "rd_data['ranking'] = elec_data.groupby(\n",
    "    ['congress', 'state', 'district'])['candpct'].rank(method='first', ascending=False)\n",
    "\n",
    "# keep only top 2 per race\n",
    "rd_data = rd_data[rd_data.ranking < 3]\n",
    "\n",
    "# drop cand_id\n",
    "rd_data.drop(columns='cand_id', inplace=True)\n",
    "\n",
    "# reshape data to wide - so one row per race\n",
    "rd_data.set_index(['congress', 'year', 'state', 'district', 'ranking'], inplace=True)\n",
    "rd_wide = rd_data.unstack(level=-1).rename_axis((None,None), axis=1)\n",
    "#reset MultiIndex in columns with list comprehension\n",
    "rd_wide.columns = [col[0] + '_' + str(int(col[1])) for col in rd_wide.columns]\n",
    "rd_wide['dem_win'] = ((rd_wide['party_1'] == 100) & (rd_wide['outcome_1'] == 1)).astype('int')\n",
    "rd_wide['dem_share'] = (\n",
    "    (rd_wide['party_1'] == 100) * rd_wide['candpct_1'] +\n",
    "    (rd_wide['party_2'] == 100) * rd_wide['candpct_2'])\n",
    "\n",
    "# Create variable for Democratic margin of victory.  This will be running variable in RDD\n",
    "# set to missing if dem if isn't one of two parties in top 2\n",
    "rd_wide['margin'] = ((rd_wide['party_1'] == 100) * (rd_wide['candpct_1'] - rd_wide['candpct_2']) +\n",
    "                     (rd_wide['party_2'] == 100) * (rd_wide['candpct_2'] - rd_wide['candpct_1']))\n",
    "\n",
    "# Create variables for Democratic candidate experience\n",
    "rd_wide['dem_elec_exp'] = (((rd_wide['party_1'] == 100) * rd_wide['elec_experience_1']) +\n",
    "                           ((rd_wide['party_2'] == 100) * rd_wide['elec_experience_2']))\n",
    "rd_wide['dem_pol_exp'] = (((rd_wide['party_1'] == 100) * rd_wide['pol_experience_1']) +\n",
    "                           ((rd_wide['party_2'] == 100) * rd_wide['pol_experience_2']))\n",
    "\n",
    "# drop obs with missing values for margin\n",
    "rd_wide.drop(rd_wide[(rd_wide['margin'] == np.nan) | (rd_wide['margin'] == \"\")].index, inplace=True)\n",
    "# drop those where margin is 0, but candidate shares are above 51 pct\n",
    "# I don't know what such a case could be but there are about 400 in the data\n",
    "rd_wide.drop(rd_wide[(rd_wide['margin'] == 0.0) & (rd_wide['candpct_1'] > 51)].index, inplace=True)\n",
    "\n",
    "# Create leads and lags of vote share and wins\n",
    "rd_wide['dem_win_m1'] = rd_wide.groupby(['state', 'district'])['dem_win'].shift(1)\n",
    "rd_wide['dem_win_p1'] = rd_wide.groupby(['state', 'district'])['dem_win'].shift(-1)\n",
    "# create leads for dem win and dem vote share\n",
    "rd_wide['dem_share_m1'] = rd_wide.groupby(['state', 'district'])['dem_share'].shift(1)\n",
    "rd_wide['dem_share_p1'] = rd_wide.groupby(['state', 'district'])['dem_share'].shift(-1)\n",
    "\n",
    "\n",
    "# drop if missing values for leads (e.g. if year > 1986)\n",
    "rd_wide = rd_wide[rd_wide.index.get_level_values(1) < 1987]\n",
    "# drop if dem share >= 100\n",
    "rd_wide = rd_wide[rd_wide.dem_share < 100]\n",
    "rd_wide['gt0'] = (rd_wide['margin'] > 51).astype('int')"
   ]
  },
  {
   "cell_type": "code",
   "execution_count": 18,
   "metadata": {},
   "outputs": [],
   "source": [
    "# create bins for running variable (margin)\n",
    "rd_wide['margin_bin'] = pd.cut(rd_wide['margin'],\n",
    "                               np.arange(start=-100, stop=102, step=2),\n",
    "                               right=True,\n",
    "                               labels=False, include_lowest=False)\n",
    "\n",
    "# collapse data so have means by bin\n",
    "binned_data = rd_wide.groupby('margin_bin').mean().reset_index()\n",
    "\n",
    "binned_data = binned_data[binned_data['margin_bin'] < 100] # first one outliers?\n",
    "# create variable for over 50%\n",
    "binned_data['gt0'] = binned_data['margin_bin'] > 51"
   ]
  },
  {
   "cell_type": "code",
   "execution_count": 19,
   "metadata": {},
   "outputs": [
    {
     "data": {
      "application/vnd.plotly.v1+json": {
       "config": {
        "plotlyServerURL": "https://plot.ly"
       },
       "data": [
        {
         "hovertemplate": "Democrat's margin of victory at time t=%{x}<br>Democrat's vote share at time t+1=%{y}<extra></extra>",
         "legendgroup": "",
         "marker": {
          "color": "#636efa",
          "symbol": "circle"
         },
         "mode": "markers",
         "name": "",
         "orientation": "v",
         "showlegend": false,
         "type": "scatter",
         "x": {
          "bdata": "AAAAAABAVcAAAAAAAABUwAAAAAAAQFPAVVVVVVWVUsDNzMzMzIxRwAAAAAAAAFHAAAAAAACQUMAAAAAAAABQwAAAAAAAAE/AO7ETO7ETTsDoeZ7neR5NwNFFF110EUzAq6qqqqoaS8DT0tLS0hJKwCVqV6J2JUnAip3YiZ0YSMAxUMIbTR1HwOpNb3rTG0bAnm7ND4sURcBkamDvmBpEwJ7neZ7nGUPAgynyWTcYQsA4pXnxJxJBwOaMOWPOGEDADqbIZ90gPsCuR+F6FC48wPMt3/ItHzrAMFn+kuUvOMBb3IT5XS02wDmO4ziOMzTApZRSSiklMsCx3NMIyz0wwIxEqbGHWSzAFrKQhSxkKMA4hEM4hEMkwFVVVVVVVSDAHfrN1qHfGMDmhhiQjqUQwHxyuAz45ADA/a4WN2F+x7+/VNDqSwX9P4TMS4ngkQ5AI6p19kVUF0BGF1100UUfQOfFn0g4pSNAa8qasqasJ0DH380jVJ8rQK2eHQI3li9AoBBn5SfEMUCKndiJndgzQBX5rBtM0TVAHh4eHh6+N0AAAAAAAMQ5QCV+Romf0TtAMmfMGXPGPUBfvXr16tU/QD4n01cJ40BAlnsaYbnnQUDkKUGeEuRCQL733nvv3UNAvoT2EtrrREClVmqlVupFQNbiJszv6kZA4uHh4eHhR0AndmInduJIQDMzMzMz80lAip3YiZ3YSkBba6211tpLQAAAAAAA4ExA7SW0l9DeTUAAAAAAANBOQEMWspCF7E9AxU7sxE5sUEC0bjBFPutQQKiDOqiDelFAMzMzMzPzUUBVVVVVVXVSQEtLS0tL61JA9xLaS2hvU0DpoosuuuhTQD3P8zzPc1RA27Zt27btVECrqqqqqmpVQAAAAAAAAFZAt23btm17VkAAAAAAAABXQDw8PDw8fFdAlNdQXkP5V0AXXXTRRXdYQA==",
          "dtype": "f8"
         },
         "xaxis": "x",
         "y": {
          "bdata": "AAAAAAAAOUAAAAAAAABGQAAAAAAAAPh/q6qqqqqqNUCamZmZmZkvQAAAAAAAADFAAAAAAAAANkAAAAAAAAA+QGZmZmZmZjlAq6qqqqoqPkCO4ziO4zg9QLdt27Zt2z5Aq6qqqqqqPEB3d3d3d/c/QAAAAAAAAEBApHA9CtcjQEAb6LSBThtBQEtLS0tLi0BAlY7sGYjKQECivIbyGkpBQMIbTZ1f+0FAUy7lUi5lQkAhC1nIQtZBQPjLer+s90JA60sFrb7UQkAs3RtQJi5DQM7Nzc3NTUNAe8fUwN5xQ0DSy5+20ABEQMIpzYs/EURAul0rJzxTREAcx3Ecx6FEQMvGN0Nrd0RA8h7v8R5vRUBQ+qRP+iRFQMRlwCeHS0VA8xrKaygvRkAxUMIbTd1FQGX5S5a/5EZANpTXUF7zRkAAAAAAAPhKQEEmxQtk0ktAlNwpWjiDTEDNzMzMzIxMQB4eHh4e/kxA+hicj8F5TUAPzLUDc+1MQAIjMAIjsE1AcODAgQOHTUAAAAAAAO1OQCchir/ImU5Asskmm2zyT0Cv67qu63pPQBh6oRd6gVBATIZgHW1eUEDjK77iKy5QQHsUrkfhelBAV/Y5pCaYUEBKp+ZB7npQQN5vlN1vFFFAoNavFKj1UUAAAAAAAEhRQGwor6G8RlFAWMb2O3rlUUCJTMN2szxSQE/sxE7sFFNAUHHJEKwjUkCY0F5Ce+lSQNmJndiJ3VJAdNFFF11kU0DJZ91givxSQHkN5TWU91JAAAAAAADOUkAAAAAAAIBTQCmllFJKKVRAAAAAAAAGVEC1tLS0tHRVQCa0l9BeQlRAq6qqqqpyVEAxDMMwDINTQPHw8PDwsFJAtbS0tLT0VECSJEmSJClUQEN5DeU11FNAAAAAAABAU0DFTuzETuxVQAAAAAAAwFVAq6qqqqqKVkAAAAAAAEBUQA==",
          "dtype": "f8"
         },
         "yaxis": "y"
        }
       ],
       "layout": {
        "legend": {
         "tracegroupgap": 0
        },
        "template": {
         "data": {
          "bar": [
           {
            "error_x": {
             "color": "#2a3f5f"
            },
            "error_y": {
             "color": "#2a3f5f"
            },
            "marker": {
             "line": {
              "color": "white",
              "width": 0.5
             },
             "pattern": {
              "fillmode": "overlay",
              "size": 10,
              "solidity": 0.2
             }
            },
            "type": "bar"
           }
          ],
          "barpolar": [
           {
            "marker": {
             "line": {
              "color": "white",
              "width": 0.5
             },
             "pattern": {
              "fillmode": "overlay",
              "size": 10,
              "solidity": 0.2
             }
            },
            "type": "barpolar"
           }
          ],
          "carpet": [
           {
            "aaxis": {
             "endlinecolor": "#2a3f5f",
             "gridcolor": "#C8D4E3",
             "linecolor": "#C8D4E3",
             "minorgridcolor": "#C8D4E3",
             "startlinecolor": "#2a3f5f"
            },
            "baxis": {
             "endlinecolor": "#2a3f5f",
             "gridcolor": "#C8D4E3",
             "linecolor": "#C8D4E3",
             "minorgridcolor": "#C8D4E3",
             "startlinecolor": "#2a3f5f"
            },
            "type": "carpet"
           }
          ],
          "choropleth": [
           {
            "colorbar": {
             "outlinewidth": 0,
             "ticks": ""
            },
            "type": "choropleth"
           }
          ],
          "contour": [
           {
            "colorbar": {
             "outlinewidth": 0,
             "ticks": ""
            },
            "colorscale": [
             [
              0,
              "#0d0887"
             ],
             [
              0.1111111111111111,
              "#46039f"
             ],
             [
              0.2222222222222222,
              "#7201a8"
             ],
             [
              0.3333333333333333,
              "#9c179e"
             ],
             [
              0.4444444444444444,
              "#bd3786"
             ],
             [
              0.5555555555555556,
              "#d8576b"
             ],
             [
              0.6666666666666666,
              "#ed7953"
             ],
             [
              0.7777777777777778,
              "#fb9f3a"
             ],
             [
              0.8888888888888888,
              "#fdca26"
             ],
             [
              1,
              "#f0f921"
             ]
            ],
            "type": "contour"
           }
          ],
          "contourcarpet": [
           {
            "colorbar": {
             "outlinewidth": 0,
             "ticks": ""
            },
            "type": "contourcarpet"
           }
          ],
          "heatmap": [
           {
            "colorbar": {
             "outlinewidth": 0,
             "ticks": ""
            },
            "colorscale": [
             [
              0,
              "#0d0887"
             ],
             [
              0.1111111111111111,
              "#46039f"
             ],
             [
              0.2222222222222222,
              "#7201a8"
             ],
             [
              0.3333333333333333,
              "#9c179e"
             ],
             [
              0.4444444444444444,
              "#bd3786"
             ],
             [
              0.5555555555555556,
              "#d8576b"
             ],
             [
              0.6666666666666666,
              "#ed7953"
             ],
             [
              0.7777777777777778,
              "#fb9f3a"
             ],
             [
              0.8888888888888888,
              "#fdca26"
             ],
             [
              1,
              "#f0f921"
             ]
            ],
            "type": "heatmap"
           }
          ],
          "histogram": [
           {
            "marker": {
             "pattern": {
              "fillmode": "overlay",
              "size": 10,
              "solidity": 0.2
             }
            },
            "type": "histogram"
           }
          ],
          "histogram2d": [
           {
            "colorbar": {
             "outlinewidth": 0,
             "ticks": ""
            },
            "colorscale": [
             [
              0,
              "#0d0887"
             ],
             [
              0.1111111111111111,
              "#46039f"
             ],
             [
              0.2222222222222222,
              "#7201a8"
             ],
             [
              0.3333333333333333,
              "#9c179e"
             ],
             [
              0.4444444444444444,
              "#bd3786"
             ],
             [
              0.5555555555555556,
              "#d8576b"
             ],
             [
              0.6666666666666666,
              "#ed7953"
             ],
             [
              0.7777777777777778,
              "#fb9f3a"
             ],
             [
              0.8888888888888888,
              "#fdca26"
             ],
             [
              1,
              "#f0f921"
             ]
            ],
            "type": "histogram2d"
           }
          ],
          "histogram2dcontour": [
           {
            "colorbar": {
             "outlinewidth": 0,
             "ticks": ""
            },
            "colorscale": [
             [
              0,
              "#0d0887"
             ],
             [
              0.1111111111111111,
              "#46039f"
             ],
             [
              0.2222222222222222,
              "#7201a8"
             ],
             [
              0.3333333333333333,
              "#9c179e"
             ],
             [
              0.4444444444444444,
              "#bd3786"
             ],
             [
              0.5555555555555556,
              "#d8576b"
             ],
             [
              0.6666666666666666,
              "#ed7953"
             ],
             [
              0.7777777777777778,
              "#fb9f3a"
             ],
             [
              0.8888888888888888,
              "#fdca26"
             ],
             [
              1,
              "#f0f921"
             ]
            ],
            "type": "histogram2dcontour"
           }
          ],
          "mesh3d": [
           {
            "colorbar": {
             "outlinewidth": 0,
             "ticks": ""
            },
            "type": "mesh3d"
           }
          ],
          "parcoords": [
           {
            "line": {
             "colorbar": {
              "outlinewidth": 0,
              "ticks": ""
             }
            },
            "type": "parcoords"
           }
          ],
          "pie": [
           {
            "automargin": true,
            "type": "pie"
           }
          ],
          "scatter": [
           {
            "fillpattern": {
             "fillmode": "overlay",
             "size": 10,
             "solidity": 0.2
            },
            "type": "scatter"
           }
          ],
          "scatter3d": [
           {
            "line": {
             "colorbar": {
              "outlinewidth": 0,
              "ticks": ""
             }
            },
            "marker": {
             "colorbar": {
              "outlinewidth": 0,
              "ticks": ""
             }
            },
            "type": "scatter3d"
           }
          ],
          "scattercarpet": [
           {
            "marker": {
             "colorbar": {
              "outlinewidth": 0,
              "ticks": ""
             }
            },
            "type": "scattercarpet"
           }
          ],
          "scattergeo": [
           {
            "marker": {
             "colorbar": {
              "outlinewidth": 0,
              "ticks": ""
             }
            },
            "type": "scattergeo"
           }
          ],
          "scattergl": [
           {
            "marker": {
             "colorbar": {
              "outlinewidth": 0,
              "ticks": ""
             }
            },
            "type": "scattergl"
           }
          ],
          "scattermap": [
           {
            "marker": {
             "colorbar": {
              "outlinewidth": 0,
              "ticks": ""
             }
            },
            "type": "scattermap"
           }
          ],
          "scattermapbox": [
           {
            "marker": {
             "colorbar": {
              "outlinewidth": 0,
              "ticks": ""
             }
            },
            "type": "scattermapbox"
           }
          ],
          "scatterpolar": [
           {
            "marker": {
             "colorbar": {
              "outlinewidth": 0,
              "ticks": ""
             }
            },
            "type": "scatterpolar"
           }
          ],
          "scatterpolargl": [
           {
            "marker": {
             "colorbar": {
              "outlinewidth": 0,
              "ticks": ""
             }
            },
            "type": "scatterpolargl"
           }
          ],
          "scatterternary": [
           {
            "marker": {
             "colorbar": {
              "outlinewidth": 0,
              "ticks": ""
             }
            },
            "type": "scatterternary"
           }
          ],
          "surface": [
           {
            "colorbar": {
             "outlinewidth": 0,
             "ticks": ""
            },
            "colorscale": [
             [
              0,
              "#0d0887"
             ],
             [
              0.1111111111111111,
              "#46039f"
             ],
             [
              0.2222222222222222,
              "#7201a8"
             ],
             [
              0.3333333333333333,
              "#9c179e"
             ],
             [
              0.4444444444444444,
              "#bd3786"
             ],
             [
              0.5555555555555556,
              "#d8576b"
             ],
             [
              0.6666666666666666,
              "#ed7953"
             ],
             [
              0.7777777777777778,
              "#fb9f3a"
             ],
             [
              0.8888888888888888,
              "#fdca26"
             ],
             [
              1,
              "#f0f921"
             ]
            ],
            "type": "surface"
           }
          ],
          "table": [
           {
            "cells": {
             "fill": {
              "color": "#EBF0F8"
             },
             "line": {
              "color": "white"
             }
            },
            "header": {
             "fill": {
              "color": "#C8D4E3"
             },
             "line": {
              "color": "white"
             }
            },
            "type": "table"
           }
          ]
         },
         "layout": {
          "annotationdefaults": {
           "arrowcolor": "#2a3f5f",
           "arrowhead": 0,
           "arrowwidth": 1
          },
          "autotypenumbers": "strict",
          "coloraxis": {
           "colorbar": {
            "outlinewidth": 0,
            "ticks": ""
           }
          },
          "colorscale": {
           "diverging": [
            [
             0,
             "#8e0152"
            ],
            [
             0.1,
             "#c51b7d"
            ],
            [
             0.2,
             "#de77ae"
            ],
            [
             0.3,
             "#f1b6da"
            ],
            [
             0.4,
             "#fde0ef"
            ],
            [
             0.5,
             "#f7f7f7"
            ],
            [
             0.6,
             "#e6f5d0"
            ],
            [
             0.7,
             "#b8e186"
            ],
            [
             0.8,
             "#7fbc41"
            ],
            [
             0.9,
             "#4d9221"
            ],
            [
             1,
             "#276419"
            ]
           ],
           "sequential": [
            [
             0,
             "#0d0887"
            ],
            [
             0.1111111111111111,
             "#46039f"
            ],
            [
             0.2222222222222222,
             "#7201a8"
            ],
            [
             0.3333333333333333,
             "#9c179e"
            ],
            [
             0.4444444444444444,
             "#bd3786"
            ],
            [
             0.5555555555555556,
             "#d8576b"
            ],
            [
             0.6666666666666666,
             "#ed7953"
            ],
            [
             0.7777777777777778,
             "#fb9f3a"
            ],
            [
             0.8888888888888888,
             "#fdca26"
            ],
            [
             1,
             "#f0f921"
            ]
           ],
           "sequentialminus": [
            [
             0,
             "#0d0887"
            ],
            [
             0.1111111111111111,
             "#46039f"
            ],
            [
             0.2222222222222222,
             "#7201a8"
            ],
            [
             0.3333333333333333,
             "#9c179e"
            ],
            [
             0.4444444444444444,
             "#bd3786"
            ],
            [
             0.5555555555555556,
             "#d8576b"
            ],
            [
             0.6666666666666666,
             "#ed7953"
            ],
            [
             0.7777777777777778,
             "#fb9f3a"
            ],
            [
             0.8888888888888888,
             "#fdca26"
            ],
            [
             1,
             "#f0f921"
            ]
           ]
          },
          "colorway": [
           "#636efa",
           "#EF553B",
           "#00cc96",
           "#ab63fa",
           "#FFA15A",
           "#19d3f3",
           "#FF6692",
           "#B6E880",
           "#FF97FF",
           "#FECB52"
          ],
          "font": {
           "color": "#2a3f5f"
          },
          "geo": {
           "bgcolor": "white",
           "lakecolor": "white",
           "landcolor": "white",
           "showlakes": true,
           "showland": true,
           "subunitcolor": "#C8D4E3"
          },
          "hoverlabel": {
           "align": "left"
          },
          "hovermode": "closest",
          "mapbox": {
           "style": "light"
          },
          "paper_bgcolor": "white",
          "plot_bgcolor": "white",
          "polar": {
           "angularaxis": {
            "gridcolor": "#EBF0F8",
            "linecolor": "#EBF0F8",
            "ticks": ""
           },
           "bgcolor": "white",
           "radialaxis": {
            "gridcolor": "#EBF0F8",
            "linecolor": "#EBF0F8",
            "ticks": ""
           }
          },
          "scene": {
           "xaxis": {
            "backgroundcolor": "white",
            "gridcolor": "#DFE8F3",
            "gridwidth": 2,
            "linecolor": "#EBF0F8",
            "showbackground": true,
            "ticks": "",
            "zerolinecolor": "#EBF0F8"
           },
           "yaxis": {
            "backgroundcolor": "white",
            "gridcolor": "#DFE8F3",
            "gridwidth": 2,
            "linecolor": "#EBF0F8",
            "showbackground": true,
            "ticks": "",
            "zerolinecolor": "#EBF0F8"
           },
           "zaxis": {
            "backgroundcolor": "white",
            "gridcolor": "#DFE8F3",
            "gridwidth": 2,
            "linecolor": "#EBF0F8",
            "showbackground": true,
            "ticks": "",
            "zerolinecolor": "#EBF0F8"
           }
          },
          "shapedefaults": {
           "line": {
            "color": "#2a3f5f"
           }
          },
          "ternary": {
           "aaxis": {
            "gridcolor": "#DFE8F3",
            "linecolor": "#A2B1C6",
            "ticks": ""
           },
           "baxis": {
            "gridcolor": "#DFE8F3",
            "linecolor": "#A2B1C6",
            "ticks": ""
           },
           "bgcolor": "white",
           "caxis": {
            "gridcolor": "#DFE8F3",
            "linecolor": "#A2B1C6",
            "ticks": ""
           }
          },
          "title": {
           "x": 0.05
          },
          "xaxis": {
           "automargin": true,
           "gridcolor": "#EBF0F8",
           "linecolor": "#EBF0F8",
           "ticks": "",
           "title": {
            "standoff": 15
           },
           "zerolinecolor": "#EBF0F8",
           "zerolinewidth": 2
          },
          "yaxis": {
           "automargin": true,
           "gridcolor": "#EBF0F8",
           "linecolor": "#EBF0F8",
           "ticks": "",
           "title": {
            "standoff": 15
           },
           "zerolinecolor": "#EBF0F8",
           "zerolinewidth": 2
          }
         }
        },
        "title": {
         "text": "Visual Evidence of a Discontinuity in Vote Share"
        },
        "xaxis": {
         "anchor": "y",
         "domain": [
          0,
          1
         ],
         "title": {
          "text": "Democrat's margin of victory at time t"
         }
        },
        "yaxis": {
         "anchor": "x",
         "domain": [
          0,
          1
         ],
         "title": {
          "text": "Democrat's vote share at time t+1"
         }
        }
       }
      }
     },
     "metadata": {},
     "output_type": "display_data"
    }
   ],
   "source": [
    "# Plot Democratic share at t+1 over Dem margin at t\n",
    "px.scatter(binned_data, x='margin', y='dem_share_p1',\n",
    "           title='Visual Evidence of a Discontinuity in Vote Share',\n",
    "           labels={'margin':\"Democrat's margin of victory at time t\",\n",
    "                   'dem_share_p1': \"Democrat's vote share at time t+1\"},\n",
    "           template=\"plotly_white\")"
   ]
  },
  {
   "cell_type": "code",
   "execution_count": 20,
   "metadata": {},
   "outputs": [
    {
     "data": {
      "application/vnd.plotly.v1+json": {
       "config": {
        "plotlyServerURL": "https://plot.ly"
       },
       "data": [
        {
         "hovertemplate": "Democrat's margin of victory at time t=%{x}<br>Democrat's probability of victory time t+1=%{y}<extra></extra>",
         "legendgroup": "",
         "marker": {
          "color": "#636efa",
          "symbol": "circle"
         },
         "mode": "markers",
         "name": "",
         "orientation": "v",
         "showlegend": false,
         "type": "scatter",
         "x": {
          "bdata": "AAAAAABAVcAAAAAAAABUwAAAAAAAQFPAVVVVVVWVUsDNzMzMzIxRwAAAAAAAAFHAAAAAAACQUMAAAAAAAABQwAAAAAAAAE/AO7ETO7ETTsDoeZ7neR5NwNFFF110EUzAq6qqqqoaS8DT0tLS0hJKwCVqV6J2JUnAip3YiZ0YSMAxUMIbTR1HwOpNb3rTG0bAnm7ND4sURcBkamDvmBpEwJ7neZ7nGUPAgynyWTcYQsA4pXnxJxJBwOaMOWPOGEDADqbIZ90gPsCuR+F6FC48wPMt3/ItHzrAMFn+kuUvOMBb3IT5XS02wDmO4ziOMzTApZRSSiklMsCx3NMIyz0wwIxEqbGHWSzAFrKQhSxkKMA4hEM4hEMkwFVVVVVVVSDAHfrN1qHfGMDmhhiQjqUQwHxyuAz45ADA/a4WN2F+x7+/VNDqSwX9P4TMS4ngkQ5AI6p19kVUF0BGF1100UUfQOfFn0g4pSNAa8qasqasJ0DH380jVJ8rQK2eHQI3li9AoBBn5SfEMUCKndiJndgzQBX5rBtM0TVAHh4eHh6+N0AAAAAAAMQ5QCV+Romf0TtAMmfMGXPGPUBfvXr16tU/QD4n01cJ40BAlnsaYbnnQUDkKUGeEuRCQL733nvv3UNAvoT2EtrrREClVmqlVupFQNbiJszv6kZA4uHh4eHhR0AndmInduJIQDMzMzMz80lAip3YiZ3YSkBba6211tpLQAAAAAAA4ExA7SW0l9DeTUAAAAAAANBOQEMWspCF7E9AxU7sxE5sUEC0bjBFPutQQKiDOqiDelFAMzMzMzPzUUBVVVVVVXVSQEtLS0tL61JA9xLaS2hvU0DpoosuuuhTQD3P8zzPc1RA27Zt27btVECrqqqqqmpVQAAAAAAAAFZAt23btm17VkAAAAAAAABXQDw8PDw8fFdAlNdQXkP5V0AXXXTRRXdYQA==",
          "dtype": "f8"
         },
         "xaxis": "x",
         "y": {
          "bdata": "AAAAAAAAAAAAAAAAAAAAAAAAAAAAAPA/AAAAAAAAAAAAAAAAAAAAAAAAAAAAAAAAAAAAAAAAAAAAAAAAAAAAAAAAAAAAAAAAFDuxEzuxsz8YhmEYhmGoP0YXXXTRRbc/AAAAAAAAAABGF1100UW3PxqkQRqkQao/ntiJndiJrT9oL6G9hPayPx4eHh4eHo4/aC+hvYT2oj++Y2pg75iqP5TwRlPn164/0LrBFPmsuz8WX/EVX/GlPwAAAAAAAMA/HEyRz7rBtD8cTJHPusG0PysSryLxKrI/ux2q26G6rT+y7xE5Qbi7P5d6Mn671LM/FrKQhSxkwT+rqqqqqqrCP9Mv/dIv/cI/1lzN1VzNxT9VVVVVVVXFP+vsi6jW2cc/+bjvlkJ/0j9TJsGuwpfLP4M0SIM0SNM/HMdxHMdx3D85juM4juPkP0YXXXTRRec/MzMzMzMz6D/yd/MI1WfqP9u2bdu2bes/AAAAAAAA7D96+mg1CVHsP10TgVwTgew/6CH0EHoI7T9f6IVe6IXuPxxMkc+6wew/ss6VByTr7D8AAAAAAADvP7JZUO05me4/Im/IG/KG7D9xwOMPBzzuP87RN0ffHO0/W1jpqYWV7j+u7HNITTDuP+v9st4v6+0/eqeu5eBm7z8AAAAAAIDuP77lW77lW+4/89iKoOGk7j+42hia7mDvPwAAAAAAAPA/P/ADP/AD7z9877333nvvP1cEDSd1X+4/AAAAAAAA8D9mZmZmZmbuP+pNb3rTm+4/U+SzbjBF7j991g2myGftPwAAAAAAAPA/vuIrvuIr7j8AAAAAAADwPw8PDw8PD+8/AAAAAAAA8D+MLrrooovuPwAAAAAAAPA/AAAAAAAA8D+e53me53nuP7gehetRuO4/btu2bdu27T8AAAAAAADwPwAAAAAAAPA/AAAAAAAA8D8XXXTRRRftPw==",
          "dtype": "f8"
         },
         "yaxis": "y"
        }
       ],
       "layout": {
        "legend": {
         "tracegroupgap": 0
        },
        "template": {
         "data": {
          "bar": [
           {
            "error_x": {
             "color": "#2a3f5f"
            },
            "error_y": {
             "color": "#2a3f5f"
            },
            "marker": {
             "line": {
              "color": "white",
              "width": 0.5
             },
             "pattern": {
              "fillmode": "overlay",
              "size": 10,
              "solidity": 0.2
             }
            },
            "type": "bar"
           }
          ],
          "barpolar": [
           {
            "marker": {
             "line": {
              "color": "white",
              "width": 0.5
             },
             "pattern": {
              "fillmode": "overlay",
              "size": 10,
              "solidity": 0.2
             }
            },
            "type": "barpolar"
           }
          ],
          "carpet": [
           {
            "aaxis": {
             "endlinecolor": "#2a3f5f",
             "gridcolor": "#C8D4E3",
             "linecolor": "#C8D4E3",
             "minorgridcolor": "#C8D4E3",
             "startlinecolor": "#2a3f5f"
            },
            "baxis": {
             "endlinecolor": "#2a3f5f",
             "gridcolor": "#C8D4E3",
             "linecolor": "#C8D4E3",
             "minorgridcolor": "#C8D4E3",
             "startlinecolor": "#2a3f5f"
            },
            "type": "carpet"
           }
          ],
          "choropleth": [
           {
            "colorbar": {
             "outlinewidth": 0,
             "ticks": ""
            },
            "type": "choropleth"
           }
          ],
          "contour": [
           {
            "colorbar": {
             "outlinewidth": 0,
             "ticks": ""
            },
            "colorscale": [
             [
              0,
              "#0d0887"
             ],
             [
              0.1111111111111111,
              "#46039f"
             ],
             [
              0.2222222222222222,
              "#7201a8"
             ],
             [
              0.3333333333333333,
              "#9c179e"
             ],
             [
              0.4444444444444444,
              "#bd3786"
             ],
             [
              0.5555555555555556,
              "#d8576b"
             ],
             [
              0.6666666666666666,
              "#ed7953"
             ],
             [
              0.7777777777777778,
              "#fb9f3a"
             ],
             [
              0.8888888888888888,
              "#fdca26"
             ],
             [
              1,
              "#f0f921"
             ]
            ],
            "type": "contour"
           }
          ],
          "contourcarpet": [
           {
            "colorbar": {
             "outlinewidth": 0,
             "ticks": ""
            },
            "type": "contourcarpet"
           }
          ],
          "heatmap": [
           {
            "colorbar": {
             "outlinewidth": 0,
             "ticks": ""
            },
            "colorscale": [
             [
              0,
              "#0d0887"
             ],
             [
              0.1111111111111111,
              "#46039f"
             ],
             [
              0.2222222222222222,
              "#7201a8"
             ],
             [
              0.3333333333333333,
              "#9c179e"
             ],
             [
              0.4444444444444444,
              "#bd3786"
             ],
             [
              0.5555555555555556,
              "#d8576b"
             ],
             [
              0.6666666666666666,
              "#ed7953"
             ],
             [
              0.7777777777777778,
              "#fb9f3a"
             ],
             [
              0.8888888888888888,
              "#fdca26"
             ],
             [
              1,
              "#f0f921"
             ]
            ],
            "type": "heatmap"
           }
          ],
          "histogram": [
           {
            "marker": {
             "pattern": {
              "fillmode": "overlay",
              "size": 10,
              "solidity": 0.2
             }
            },
            "type": "histogram"
           }
          ],
          "histogram2d": [
           {
            "colorbar": {
             "outlinewidth": 0,
             "ticks": ""
            },
            "colorscale": [
             [
              0,
              "#0d0887"
             ],
             [
              0.1111111111111111,
              "#46039f"
             ],
             [
              0.2222222222222222,
              "#7201a8"
             ],
             [
              0.3333333333333333,
              "#9c179e"
             ],
             [
              0.4444444444444444,
              "#bd3786"
             ],
             [
              0.5555555555555556,
              "#d8576b"
             ],
             [
              0.6666666666666666,
              "#ed7953"
             ],
             [
              0.7777777777777778,
              "#fb9f3a"
             ],
             [
              0.8888888888888888,
              "#fdca26"
             ],
             [
              1,
              "#f0f921"
             ]
            ],
            "type": "histogram2d"
           }
          ],
          "histogram2dcontour": [
           {
            "colorbar": {
             "outlinewidth": 0,
             "ticks": ""
            },
            "colorscale": [
             [
              0,
              "#0d0887"
             ],
             [
              0.1111111111111111,
              "#46039f"
             ],
             [
              0.2222222222222222,
              "#7201a8"
             ],
             [
              0.3333333333333333,
              "#9c179e"
             ],
             [
              0.4444444444444444,
              "#bd3786"
             ],
             [
              0.5555555555555556,
              "#d8576b"
             ],
             [
              0.6666666666666666,
              "#ed7953"
             ],
             [
              0.7777777777777778,
              "#fb9f3a"
             ],
             [
              0.8888888888888888,
              "#fdca26"
             ],
             [
              1,
              "#f0f921"
             ]
            ],
            "type": "histogram2dcontour"
           }
          ],
          "mesh3d": [
           {
            "colorbar": {
             "outlinewidth": 0,
             "ticks": ""
            },
            "type": "mesh3d"
           }
          ],
          "parcoords": [
           {
            "line": {
             "colorbar": {
              "outlinewidth": 0,
              "ticks": ""
             }
            },
            "type": "parcoords"
           }
          ],
          "pie": [
           {
            "automargin": true,
            "type": "pie"
           }
          ],
          "scatter": [
           {
            "fillpattern": {
             "fillmode": "overlay",
             "size": 10,
             "solidity": 0.2
            },
            "type": "scatter"
           }
          ],
          "scatter3d": [
           {
            "line": {
             "colorbar": {
              "outlinewidth": 0,
              "ticks": ""
             }
            },
            "marker": {
             "colorbar": {
              "outlinewidth": 0,
              "ticks": ""
             }
            },
            "type": "scatter3d"
           }
          ],
          "scattercarpet": [
           {
            "marker": {
             "colorbar": {
              "outlinewidth": 0,
              "ticks": ""
             }
            },
            "type": "scattercarpet"
           }
          ],
          "scattergeo": [
           {
            "marker": {
             "colorbar": {
              "outlinewidth": 0,
              "ticks": ""
             }
            },
            "type": "scattergeo"
           }
          ],
          "scattergl": [
           {
            "marker": {
             "colorbar": {
              "outlinewidth": 0,
              "ticks": ""
             }
            },
            "type": "scattergl"
           }
          ],
          "scattermap": [
           {
            "marker": {
             "colorbar": {
              "outlinewidth": 0,
              "ticks": ""
             }
            },
            "type": "scattermap"
           }
          ],
          "scattermapbox": [
           {
            "marker": {
             "colorbar": {
              "outlinewidth": 0,
              "ticks": ""
             }
            },
            "type": "scattermapbox"
           }
          ],
          "scatterpolar": [
           {
            "marker": {
             "colorbar": {
              "outlinewidth": 0,
              "ticks": ""
             }
            },
            "type": "scatterpolar"
           }
          ],
          "scatterpolargl": [
           {
            "marker": {
             "colorbar": {
              "outlinewidth": 0,
              "ticks": ""
             }
            },
            "type": "scatterpolargl"
           }
          ],
          "scatterternary": [
           {
            "marker": {
             "colorbar": {
              "outlinewidth": 0,
              "ticks": ""
             }
            },
            "type": "scatterternary"
           }
          ],
          "surface": [
           {
            "colorbar": {
             "outlinewidth": 0,
             "ticks": ""
            },
            "colorscale": [
             [
              0,
              "#0d0887"
             ],
             [
              0.1111111111111111,
              "#46039f"
             ],
             [
              0.2222222222222222,
              "#7201a8"
             ],
             [
              0.3333333333333333,
              "#9c179e"
             ],
             [
              0.4444444444444444,
              "#bd3786"
             ],
             [
              0.5555555555555556,
              "#d8576b"
             ],
             [
              0.6666666666666666,
              "#ed7953"
             ],
             [
              0.7777777777777778,
              "#fb9f3a"
             ],
             [
              0.8888888888888888,
              "#fdca26"
             ],
             [
              1,
              "#f0f921"
             ]
            ],
            "type": "surface"
           }
          ],
          "table": [
           {
            "cells": {
             "fill": {
              "color": "#EBF0F8"
             },
             "line": {
              "color": "white"
             }
            },
            "header": {
             "fill": {
              "color": "#C8D4E3"
             },
             "line": {
              "color": "white"
             }
            },
            "type": "table"
           }
          ]
         },
         "layout": {
          "annotationdefaults": {
           "arrowcolor": "#2a3f5f",
           "arrowhead": 0,
           "arrowwidth": 1
          },
          "autotypenumbers": "strict",
          "coloraxis": {
           "colorbar": {
            "outlinewidth": 0,
            "ticks": ""
           }
          },
          "colorscale": {
           "diverging": [
            [
             0,
             "#8e0152"
            ],
            [
             0.1,
             "#c51b7d"
            ],
            [
             0.2,
             "#de77ae"
            ],
            [
             0.3,
             "#f1b6da"
            ],
            [
             0.4,
             "#fde0ef"
            ],
            [
             0.5,
             "#f7f7f7"
            ],
            [
             0.6,
             "#e6f5d0"
            ],
            [
             0.7,
             "#b8e186"
            ],
            [
             0.8,
             "#7fbc41"
            ],
            [
             0.9,
             "#4d9221"
            ],
            [
             1,
             "#276419"
            ]
           ],
           "sequential": [
            [
             0,
             "#0d0887"
            ],
            [
             0.1111111111111111,
             "#46039f"
            ],
            [
             0.2222222222222222,
             "#7201a8"
            ],
            [
             0.3333333333333333,
             "#9c179e"
            ],
            [
             0.4444444444444444,
             "#bd3786"
            ],
            [
             0.5555555555555556,
             "#d8576b"
            ],
            [
             0.6666666666666666,
             "#ed7953"
            ],
            [
             0.7777777777777778,
             "#fb9f3a"
            ],
            [
             0.8888888888888888,
             "#fdca26"
            ],
            [
             1,
             "#f0f921"
            ]
           ],
           "sequentialminus": [
            [
             0,
             "#0d0887"
            ],
            [
             0.1111111111111111,
             "#46039f"
            ],
            [
             0.2222222222222222,
             "#7201a8"
            ],
            [
             0.3333333333333333,
             "#9c179e"
            ],
            [
             0.4444444444444444,
             "#bd3786"
            ],
            [
             0.5555555555555556,
             "#d8576b"
            ],
            [
             0.6666666666666666,
             "#ed7953"
            ],
            [
             0.7777777777777778,
             "#fb9f3a"
            ],
            [
             0.8888888888888888,
             "#fdca26"
            ],
            [
             1,
             "#f0f921"
            ]
           ]
          },
          "colorway": [
           "#636efa",
           "#EF553B",
           "#00cc96",
           "#ab63fa",
           "#FFA15A",
           "#19d3f3",
           "#FF6692",
           "#B6E880",
           "#FF97FF",
           "#FECB52"
          ],
          "font": {
           "color": "#2a3f5f"
          },
          "geo": {
           "bgcolor": "white",
           "lakecolor": "white",
           "landcolor": "white",
           "showlakes": true,
           "showland": true,
           "subunitcolor": "#C8D4E3"
          },
          "hoverlabel": {
           "align": "left"
          },
          "hovermode": "closest",
          "mapbox": {
           "style": "light"
          },
          "paper_bgcolor": "white",
          "plot_bgcolor": "white",
          "polar": {
           "angularaxis": {
            "gridcolor": "#EBF0F8",
            "linecolor": "#EBF0F8",
            "ticks": ""
           },
           "bgcolor": "white",
           "radialaxis": {
            "gridcolor": "#EBF0F8",
            "linecolor": "#EBF0F8",
            "ticks": ""
           }
          },
          "scene": {
           "xaxis": {
            "backgroundcolor": "white",
            "gridcolor": "#DFE8F3",
            "gridwidth": 2,
            "linecolor": "#EBF0F8",
            "showbackground": true,
            "ticks": "",
            "zerolinecolor": "#EBF0F8"
           },
           "yaxis": {
            "backgroundcolor": "white",
            "gridcolor": "#DFE8F3",
            "gridwidth": 2,
            "linecolor": "#EBF0F8",
            "showbackground": true,
            "ticks": "",
            "zerolinecolor": "#EBF0F8"
           },
           "zaxis": {
            "backgroundcolor": "white",
            "gridcolor": "#DFE8F3",
            "gridwidth": 2,
            "linecolor": "#EBF0F8",
            "showbackground": true,
            "ticks": "",
            "zerolinecolor": "#EBF0F8"
           }
          },
          "shapedefaults": {
           "line": {
            "color": "#2a3f5f"
           }
          },
          "ternary": {
           "aaxis": {
            "gridcolor": "#DFE8F3",
            "linecolor": "#A2B1C6",
            "ticks": ""
           },
           "baxis": {
            "gridcolor": "#DFE8F3",
            "linecolor": "#A2B1C6",
            "ticks": ""
           },
           "bgcolor": "white",
           "caxis": {
            "gridcolor": "#DFE8F3",
            "linecolor": "#A2B1C6",
            "ticks": ""
           }
          },
          "title": {
           "x": 0.05
          },
          "xaxis": {
           "automargin": true,
           "gridcolor": "#EBF0F8",
           "linecolor": "#EBF0F8",
           "ticks": "",
           "title": {
            "standoff": 15
           },
           "zerolinecolor": "#EBF0F8",
           "zerolinewidth": 2
          },
          "yaxis": {
           "automargin": true,
           "gridcolor": "#EBF0F8",
           "linecolor": "#EBF0F8",
           "ticks": "",
           "title": {
            "standoff": 15
           },
           "zerolinecolor": "#EBF0F8",
           "zerolinewidth": 2
          }
         }
        },
        "title": {
         "text": "Visual Evidence of a Discontinuity in Vote Share"
        },
        "xaxis": {
         "anchor": "y",
         "domain": [
          0,
          1
         ],
         "title": {
          "text": "Democrat's margin of victory at time t"
         }
        },
        "yaxis": {
         "anchor": "x",
         "domain": [
          0,
          1
         ],
         "title": {
          "text": "Democrat's probability of victory time t+1"
         }
        }
       }
      }
     },
     "metadata": {},
     "output_type": "display_data"
    }
   ],
   "source": [
    "# Plot Democratic prob of victory at t+1 over Dem margin at t\n",
    "px.scatter(binned_data, x='margin', y='dem_win_p1',\n",
    "           title='Visual Evidence of a Discontinuity in Vote Share',\n",
    "           labels={'margin':\"Democrat's margin of victory at time t\",\n",
    "                   'dem_win_p1': \"Democrat's probability of victory time t+1\"},\n",
    "           template=\"plotly_white\")"
   ]
  },
  {
   "cell_type": "markdown",
   "metadata": {},
   "source": [
    "### Regression Discontinuity Design\n",
    "\n",
    "The two plots above give us a pretty clear picture of the incumbency advantage.  RDD is built around this discontinuity at zero and we can essentailly measure the effect here by the jump in the level of the point on the scatter plot at the cut point (i.e., a margin of victory of 0).\n",
    "\n",
    "But if we want to be more precise, find the confidence intervals around this estimate, and control for covariates, we want to use regression analysis here.\n",
    "\n",
    "Some notation to help describe what we are going to do:\n",
    "* $Y$ is our outcome variable of interest (e.g., the probability a democrat wins the election at $t+1$). $Y(0)$ represents the outcome with no treatment and $Y(1)$ represents the outcome with treatment.\n",
    "* $X$ is our running variable.  That is, this is the variable in which there is a discontinuity in the treatment (e.g., the margin of victory for a Democrat in election $t$)\n",
    "* $c$ is the cut-point.  This is the point of the discontinuity in $X$ (e.g., just winning a margin of victory of 0)\n",
    "\n",
    "In the data, we never observe $E[Y(0)|X=c]$, that is there are no units at the cutoff that don't get the treatment, but in principle it can be approximated arbitrarily well by $E[Y(0)|X=c-\\varepsilon]$.  Therefore we estimate: $E[Y|X=c+\\varepsilon]-E[Y|X=c-\\varepsilon]$\n",
    "\n",
    "We now need a functional form for $E[Y|X]$.  Suppose that $Y=\\alpha+\\tau T+ \\beta f(X) +\\eta$ and that $f(X)$ is a smooth function of $X$. A flexible way to do this is to modeling $f(X)$ with a pth-order polynomial in this way leads to \n",
    "$$Y=\\alpha + \\beta_{01}X + \\beta_{02}X^{2}+...+\\beta_{0p}X^{p}+\\tau T + \\beta_{1}TX + \\beta_{2}TX^{2} + ... + \\beta_{p}TX^{p}+\\eta$$\n",
    "\n",
    "We still have some choices here.  First off, what order is the polynomial we use?  Second, and relatedly, how far from the cut point do we look at the data?  \n",
    "\n",
    "As with everything, this is a trade off.  If you look closer to the cut point, the data is more likely to be well approximated by a linear function, so you can use a lower order polynomial.  If you consider data farther from the cut point, a higher order polynomial may be necessary to fit the data better.  The distance from the cutpoint that you use in estimating the model is termed the \"bandwidth\" of the estimator.\n",
    "\n",
    "There are a few formal ways to find that you have an appropriately flexible polynomial.  A couple of these are:\n",
    "1. Use the Akaike information criterion (AIC) for model selection: $AIC = N ln(\\hat{\\sigma}^{2}) + 2p$, where $\\hat{\\sigma}^{2}$ is the mean squared error of the regression and $p$ is the number of model parameters (want to pick model with lowest AIC - i.e., lowest info loss)\n",
    "2. Select a natural set of bins (as you would for an RD graph) and add bin dummies to the model and test their joint significance. Add higher order terms to the polynomial until the bin dummies are no longer jointly significant. (FYI, This also turns out to be a test for the presence of discontinuities in the regression function at points other then the cutoff, which you'll want to do anyway.)\n",
    "\n",
    "There are also ways to determine that the bandwidth chosen is appropriate.  Again, this will depend on the functional form of your model.  There are two general methods for selecting bandwidth:\n",
    "1. Ad hoc (e.g., elections between 48-52\\% are \"close\") or substantively derived (Data driven)\n",
    "2. Optimal bandwidth methods (Imbens and Kalyanaraman (*The Review of Economic Studies*, 2012))\n",
    "\n",
    "A rule of thumb seems to be to use a 4th degree polynomial for $f(X)$.  But here, to make it simpler, let's start by estimating the RDD on our data that we just plotted using a 2nd degree polynomial and the full bandwidth (i.e., all the data)."
   ]
  },
  {
   "cell_type": "code",
   "execution_count": 21,
   "metadata": {},
   "outputs": [
    {
     "name": "stdout",
     "output_type": "stream",
     "text": [
      "                            OLS Regression Results                            \n",
      "==============================================================================\n",
      "Dep. Variable:           dem_share_p1   R-squared:                       0.628\n",
      "Model:                            OLS   Adj. R-squared:                  0.628\n",
      "Method:                 Least Squares   F-statistic:                     2491.\n",
      "Date:                Mon, 22 Sep 2025   Prob (F-statistic):               0.00\n",
      "Time:                        14:27:18   Log-Likelihood:                -28126.\n",
      "No. Observations:                7382   AIC:                         5.626e+04\n",
      "Df Residuals:                    7376   BIC:                         5.631e+04\n",
      "Df Model:                           5                                         \n",
      "Covariance Type:            nonrobust                                         \n",
      "===========================================================================================\n",
      "                              coef    std err          t      P>|t|      [0.025      0.975]\n",
      "-------------------------------------------------------------------------------------------\n",
      "Intercept                  50.2954      0.134    375.393      0.000      50.033      50.558\n",
      "margin                      0.4472      0.005     91.360      0.000       0.438       0.457\n",
      "np.power(margin, 2)         0.0005   1.09e-05     49.229      0.000       0.001       0.001\n",
      "gt0                        12.7940     12.797      1.000      0.317     -12.292      37.880\n",
      "gt0:margin                 -0.2293      0.361     -0.636      0.525      -0.937       0.478\n",
      "gt0:np.power(margin, 2)    -0.0005      0.002     -0.200      0.842      -0.005       0.004\n",
      "==============================================================================\n",
      "Omnibus:                      688.048   Durbin-Watson:                   1.594\n",
      "Prob(Omnibus):                  0.000   Jarque-Bera (JB):             3339.423\n",
      "Skew:                           0.327   Prob(JB):                         0.00\n",
      "Kurtosis:                       6.229   Cond. No.                     1.37e+06\n",
      "==============================================================================\n",
      "\n",
      "Notes:\n",
      "[1] Standard Errors assume that the covariance matrix of the errors is correctly specified.\n",
      "[2] The condition number is large, 1.37e+06. This might indicate that there are\n",
      "strong multicollinearity or other numerical problems.\n"
     ]
    }
   ],
   "source": [
    "# In this RD use polynomial of order 2 that varies on either side of cut point\n",
    "# Define the model\n",
    "rdd1 = smf.ols(formula='dem_share_p1 ~ margin + np.power(margin, 2) + gt0 + gt0*margin + gt0*np.power(margin, 2)', data=rd_wide)\n",
    "# Estimate the model\n",
    "print(rdd1.fit().summary())"
   ]
  },
  {
   "cell_type": "markdown",
   "metadata": {},
   "source": [
    "The coefficient on the dummy variable for the cut point is the causal effect of treatment.  In this case this is the coefficient on the `gt0` variable, which denotes a more than 50% of the vote share.  We can do the same for the probability of victory."
   ]
  },
  {
   "cell_type": "code",
   "execution_count": 22,
   "metadata": {},
   "outputs": [
    {
     "name": "stdout",
     "output_type": "stream",
     "text": [
      "                            OLS Regression Results                            \n",
      "==============================================================================\n",
      "Dep. Variable:             dem_win_p1   R-squared:                       0.613\n",
      "Model:                            OLS   Adj. R-squared:                  0.613\n",
      "Method:                 Least Squares   F-statistic:                     2424.\n",
      "Date:                Mon, 22 Sep 2025   Prob (F-statistic):               0.00\n",
      "Time:                        14:27:18   Log-Likelihood:                -1890.5\n",
      "No. Observations:                7663   AIC:                             3793.\n",
      "Df Residuals:                    7657   BIC:                             3835.\n",
      "Df Model:                           5                                         \n",
      "Covariance Type:            nonrobust                                         \n",
      "===========================================================================================\n",
      "                              coef    std err          t      P>|t|      [0.025      0.975]\n",
      "-------------------------------------------------------------------------------------------\n",
      "Intercept                   0.2583      0.009     27.474      0.000       0.240       0.277\n",
      "margin                      0.0055      0.000     15.129      0.000       0.005       0.006\n",
      "np.power(margin, 2)      6.997e-06   4.83e-07     14.498      0.000    6.05e-06    7.94e-06\n",
      "gt0                         0.4857      0.016     31.307      0.000       0.455       0.516\n",
      "gt0:margin                  0.0027      0.001      3.511      0.000       0.001       0.004\n",
      "gt0:np.power(margin, 2) -7.476e-05   7.87e-06     -9.497      0.000   -9.02e-05   -5.93e-05\n",
      "==============================================================================\n",
      "Omnibus:                      633.234   Durbin-Watson:                   1.801\n",
      "Prob(Omnibus):                  0.000   Jarque-Bera (JB):             3619.748\n",
      "Skew:                           0.151   Prob(JB):                         0.00\n",
      "Kurtosis:                       6.353   Cond. No.                     6.36e+04\n",
      "==============================================================================\n",
      "\n",
      "Notes:\n",
      "[1] Standard Errors assume that the covariance matrix of the errors is correctly specified.\n",
      "[2] The condition number is large, 6.36e+04. This might indicate that there are\n",
      "strong multicollinearity or other numerical problems.\n"
     ]
    }
   ],
   "source": [
    "# In this RD use polynomial of order 2 that varies on either side of cut point\n",
    "# Define the model\n",
    "rd_wide['gt0'] = (rd_wide['margin'] > 0).astype('int')\n",
    "rdd2 = smf.ols(\n",
    "    formula='dem_win_p1 ~ margin + np.power(margin, 2) + gt0 + gt0*margin + gt0*np.power(margin, 2)',\n",
    "    data=rd_wide)\n",
    "# Estimate the model\n",
    "print(rdd2.fit().summary())"
   ]
  },
  {
   "cell_type": "markdown",
   "metadata": {},
   "source": [
    "We can also use `ggplot` to plot our fitted values along with the data."
   ]
  },
  {
   "cell_type": "code",
   "execution_count": 23,
   "metadata": {},
   "outputs": [
    {
     "data": {
      "application/vnd.plotly.v1+json": {
       "config": {
        "plotlyServerURL": "https://plot.ly"
       },
       "data": [
        {
         "hovertemplate": "Democrat's margin of victory at time t=%{x}<br>Democrat's probability of victory time t+1=%{y}<extra></extra>",
         "legendgroup": "",
         "marker": {
          "color": "#636efa",
          "symbol": "circle"
         },
         "mode": "markers",
         "name": "",
         "orientation": "v",
         "showlegend": false,
         "type": "scatter",
         "x": {
          "bdata": "AAAAAABAVcAAAAAAAABUwAAAAAAAQFPAVVVVVVWVUsDNzMzMzIxRwAAAAAAAAFHAAAAAAACQUMAAAAAAAABQwAAAAAAAAE/AO7ETO7ETTsDoeZ7neR5NwNFFF110EUzAq6qqqqoaS8DT0tLS0hJKwCVqV6J2JUnAip3YiZ0YSMAxUMIbTR1HwOpNb3rTG0bAnm7ND4sURcBkamDvmBpEwJ7neZ7nGUPAgynyWTcYQsA4pXnxJxJBwOaMOWPOGEDADqbIZ90gPsCuR+F6FC48wPMt3/ItHzrAMFn+kuUvOMBb3IT5XS02wDmO4ziOMzTApZRSSiklMsCx3NMIyz0wwIxEqbGHWSzAFrKQhSxkKMA4hEM4hEMkwFVVVVVVVSDAHfrN1qHfGMDmhhiQjqUQwHxyuAz45ADA/a4WN2F+x7+/VNDqSwX9P4TMS4ngkQ5AI6p19kVUF0BGF1100UUfQOfFn0g4pSNAa8qasqasJ0DH380jVJ8rQK2eHQI3li9AoBBn5SfEMUCKndiJndgzQBX5rBtM0TVAHh4eHh6+N0AAAAAAAMQ5QCV+Romf0TtAMmfMGXPGPUBfvXr16tU/QD4n01cJ40BAlnsaYbnnQUDkKUGeEuRCQL733nvv3UNAvoT2EtrrREClVmqlVupFQNbiJszv6kZA4uHh4eHhR0AndmInduJIQDMzMzMz80lAip3YiZ3YSkBba6211tpLQAAAAAAA4ExA7SW0l9DeTUAAAAAAANBOQEMWspCF7E9AxU7sxE5sUEC0bjBFPutQQKiDOqiDelFAMzMzMzPzUUBVVVVVVXVSQEtLS0tL61JA9xLaS2hvU0DpoosuuuhTQD3P8zzPc1RA27Zt27btVECrqqqqqmpVQAAAAAAAAFZAt23btm17VkAAAAAAAABXQDw8PDw8fFdAlNdQXkP5V0AXXXTRRXdYQA==",
          "dtype": "f8"
         },
         "xaxis": "x",
         "y": {
          "bdata": "AAAAAAAAAAAAAAAAAAAAAAAAAAAAAPA/AAAAAAAAAAAAAAAAAAAAAAAAAAAAAAAAAAAAAAAAAAAAAAAAAAAAAAAAAAAAAAAAFDuxEzuxsz8YhmEYhmGoP0YXXXTRRbc/AAAAAAAAAABGF1100UW3PxqkQRqkQao/ntiJndiJrT9oL6G9hPayPx4eHh4eHo4/aC+hvYT2oj++Y2pg75iqP5TwRlPn164/0LrBFPmsuz8WX/EVX/GlPwAAAAAAAMA/HEyRz7rBtD8cTJHPusG0PysSryLxKrI/ux2q26G6rT+y7xE5Qbi7P5d6Mn671LM/FrKQhSxkwT+rqqqqqqrCP9Mv/dIv/cI/1lzN1VzNxT9VVVVVVVXFP+vsi6jW2cc/+bjvlkJ/0j9TJsGuwpfLP4M0SIM0SNM/HMdxHMdx3D85juM4juPkP0YXXXTRRec/MzMzMzMz6D/yd/MI1WfqP9u2bdu2bes/AAAAAAAA7D96+mg1CVHsP10TgVwTgew/6CH0EHoI7T9f6IVe6IXuPxxMkc+6wew/ss6VByTr7D8AAAAAAADvP7JZUO05me4/Im/IG/KG7D9xwOMPBzzuP87RN0ffHO0/W1jpqYWV7j+u7HNITTDuP+v9st4v6+0/eqeu5eBm7z8AAAAAAIDuP77lW77lW+4/89iKoOGk7j+42hia7mDvPwAAAAAAAPA/P/ADP/AD7z9877333nvvP1cEDSd1X+4/AAAAAAAA8D9mZmZmZmbuP+pNb3rTm+4/U+SzbjBF7j991g2myGftPwAAAAAAAPA/vuIrvuIr7j8AAAAAAADwPw8PDw8PD+8/AAAAAAAA8D+MLrrooovuPwAAAAAAAPA/AAAAAAAA8D+e53me53nuP7gehetRuO4/btu2bdu27T8AAAAAAADwPwAAAAAAAPA/AAAAAAAA8D8XXXTRRRftPw==",
          "dtype": "f8"
         },
         "yaxis": "y"
        },
        {
         "name": "Fitted Values",
         "type": "scatter",
         "x": {
          "bdata": "AAAAAABAVcAAAAAAAABUwAAAAAAAQFPAVVVVVVWVUsDNzMzMzIxRwAAAAAAAAFHAAAAAAACQUMAAAAAAAABQwAAAAAAAAE/AO7ETO7ETTsDoeZ7neR5NwNFFF110EUzAq6qqqqoaS8DT0tLS0hJKwCVqV6J2JUnAip3YiZ0YSMAxUMIbTR1HwOpNb3rTG0bAnm7ND4sURcBkamDvmBpEwJ7neZ7nGUPAgynyWTcYQsA4pXnxJxJBwOaMOWPOGEDADqbIZ90gPsCuR+F6FC48wPMt3/ItHzrAMFn+kuUvOMBb3IT5XS02wDmO4ziOMzTApZRSSiklMsCx3NMIyz0wwIxEqbGHWSzAFrKQhSxkKMA4hEM4hEMkwFVVVVVVVSDAHfrN1qHfGMDmhhiQjqUQwHxyuAz45ADA/a4WN2F+x7+/VNDqSwX9P4TMS4ngkQ5AI6p19kVUF0BGF1100UUfQOfFn0g4pSNAa8qasqasJ0DH380jVJ8rQK2eHQI3li9AoBBn5SfEMUCKndiJndgzQBX5rBtM0TVAHh4eHh6+N0AAAAAAAMQ5QCV+Romf0TtAMmfMGXPGPUBfvXr16tU/QD4n01cJ40BAlnsaYbnnQUDkKUGeEuRCQL733nvv3UNAvoT2EtrrREClVmqlVupFQNbiJszv6kZA4uHh4eHhR0AndmInduJIQDMzMzMz80lAip3YiZ3YSkBba6211tpLQAAAAAAA4ExA7SW0l9DeTUAAAAAAANBOQEMWspCF7E9AxU7sxE5sUEC0bjBFPutQQKiDOqiDelFAMzMzMzPzUUBVVVVVVXVSQEtLS0tL61JA9xLaS2hvU0DpoosuuuhTQD3P8zzPc1RA27Zt27btVECrqqqqqmpVQAAAAAAAAFZAt23btm17VkAAAAAAAABXQDw8PDw8fFdAlNdQXkP5V0AXXXTRRXdYQA==",
          "dtype": "f8"
         },
         "y": {
          "bdata": "jNW9BYkxxL+tY+JoNWvBv2L+NfIEd7+/z0Sc2oVwvL/R1arAWbO3v1a1wWdMJ7W/71R3ak4ds790nXkqPnqwv1B88I1sPKy/Qr0Xjajap79F7PsrEkijv31coe1qeJy/zqLUzMgnk78EEsB93UaCvx6M/DP38BK/9GnkYbaAhD9Vp+FyBvaTPwAXKcY+950/D5WBecQgpD/XVx7ibQqpP5QaxNFJHa4/c2Z7G02esT971f0F4jy0P7wqiAaKvrY/BtGBAJ9quT8n0qdSj/O7P2H6oOrSpL4/AiE1ayeYwD8S20k2XOzBP8Eh4M+cPMM/fR8R1W+cxD/cwfto7ePFPz6a3+1EScc/uWF7qFyhyD8j3LjhDgrKP7fz1OVaY8s/wvASlm27zD8sMoxOhijOP2PC+U1Wls8/WuCItxx40D+H682wOkfoPyGnfKYFyOg/MA38Q5BE6T9DHZtfIbvpP+eULFRgLuo/4YTj8LSd6j/i83OTaQbrP+N5xWA0a+s/jKAxBTDL6z9R7hawvCvsP5Z19rXHguw/mDE0ypnT7D+ZD3UNISTtP7iDIOs5ce0/u2jNI0227T8984obfvrtP7d/YD9LNu4/wGKY8axw7j/aDrJbyKTuP9sOv+ce1O4/7BtG+I0C7z9p4POIxinvP6mJcJXiTO8/M4tAl29q7z/v70PSyYTvP6R/l+n0m+8/y4cyym6r7z+4eN+5qrjvP3tuo2Z2we8/uZRQ05PF7z9G0oH2ZcXvP7YQJag0wO8/njyJNqO37z9J4UjAQarvP5+44Gr9le8/y3kIYX2A7z8Ij6qg8WTvPxqz5SD0R+8/NEhUmRIj7z8jeA+sAP3uP8UGhsaEzO4/EV/cXaWd7j/XCmGRcGnuP6rRzquhJe4/GUP5hOLo7T/KOxeWHaPtP3tReThYXe0/c3PiIeoS7T8QEGk4n8PsPw==",
          "dtype": "f8"
         }
        }
       ],
       "layout": {
        "legend": {
         "tracegroupgap": 0
        },
        "template": {
         "data": {
          "bar": [
           {
            "error_x": {
             "color": "#2a3f5f"
            },
            "error_y": {
             "color": "#2a3f5f"
            },
            "marker": {
             "line": {
              "color": "white",
              "width": 0.5
             },
             "pattern": {
              "fillmode": "overlay",
              "size": 10,
              "solidity": 0.2
             }
            },
            "type": "bar"
           }
          ],
          "barpolar": [
           {
            "marker": {
             "line": {
              "color": "white",
              "width": 0.5
             },
             "pattern": {
              "fillmode": "overlay",
              "size": 10,
              "solidity": 0.2
             }
            },
            "type": "barpolar"
           }
          ],
          "carpet": [
           {
            "aaxis": {
             "endlinecolor": "#2a3f5f",
             "gridcolor": "#C8D4E3",
             "linecolor": "#C8D4E3",
             "minorgridcolor": "#C8D4E3",
             "startlinecolor": "#2a3f5f"
            },
            "baxis": {
             "endlinecolor": "#2a3f5f",
             "gridcolor": "#C8D4E3",
             "linecolor": "#C8D4E3",
             "minorgridcolor": "#C8D4E3",
             "startlinecolor": "#2a3f5f"
            },
            "type": "carpet"
           }
          ],
          "choropleth": [
           {
            "colorbar": {
             "outlinewidth": 0,
             "ticks": ""
            },
            "type": "choropleth"
           }
          ],
          "contour": [
           {
            "colorbar": {
             "outlinewidth": 0,
             "ticks": ""
            },
            "colorscale": [
             [
              0,
              "#0d0887"
             ],
             [
              0.1111111111111111,
              "#46039f"
             ],
             [
              0.2222222222222222,
              "#7201a8"
             ],
             [
              0.3333333333333333,
              "#9c179e"
             ],
             [
              0.4444444444444444,
              "#bd3786"
             ],
             [
              0.5555555555555556,
              "#d8576b"
             ],
             [
              0.6666666666666666,
              "#ed7953"
             ],
             [
              0.7777777777777778,
              "#fb9f3a"
             ],
             [
              0.8888888888888888,
              "#fdca26"
             ],
             [
              1,
              "#f0f921"
             ]
            ],
            "type": "contour"
           }
          ],
          "contourcarpet": [
           {
            "colorbar": {
             "outlinewidth": 0,
             "ticks": ""
            },
            "type": "contourcarpet"
           }
          ],
          "heatmap": [
           {
            "colorbar": {
             "outlinewidth": 0,
             "ticks": ""
            },
            "colorscale": [
             [
              0,
              "#0d0887"
             ],
             [
              0.1111111111111111,
              "#46039f"
             ],
             [
              0.2222222222222222,
              "#7201a8"
             ],
             [
              0.3333333333333333,
              "#9c179e"
             ],
             [
              0.4444444444444444,
              "#bd3786"
             ],
             [
              0.5555555555555556,
              "#d8576b"
             ],
             [
              0.6666666666666666,
              "#ed7953"
             ],
             [
              0.7777777777777778,
              "#fb9f3a"
             ],
             [
              0.8888888888888888,
              "#fdca26"
             ],
             [
              1,
              "#f0f921"
             ]
            ],
            "type": "heatmap"
           }
          ],
          "histogram": [
           {
            "marker": {
             "pattern": {
              "fillmode": "overlay",
              "size": 10,
              "solidity": 0.2
             }
            },
            "type": "histogram"
           }
          ],
          "histogram2d": [
           {
            "colorbar": {
             "outlinewidth": 0,
             "ticks": ""
            },
            "colorscale": [
             [
              0,
              "#0d0887"
             ],
             [
              0.1111111111111111,
              "#46039f"
             ],
             [
              0.2222222222222222,
              "#7201a8"
             ],
             [
              0.3333333333333333,
              "#9c179e"
             ],
             [
              0.4444444444444444,
              "#bd3786"
             ],
             [
              0.5555555555555556,
              "#d8576b"
             ],
             [
              0.6666666666666666,
              "#ed7953"
             ],
             [
              0.7777777777777778,
              "#fb9f3a"
             ],
             [
              0.8888888888888888,
              "#fdca26"
             ],
             [
              1,
              "#f0f921"
             ]
            ],
            "type": "histogram2d"
           }
          ],
          "histogram2dcontour": [
           {
            "colorbar": {
             "outlinewidth": 0,
             "ticks": ""
            },
            "colorscale": [
             [
              0,
              "#0d0887"
             ],
             [
              0.1111111111111111,
              "#46039f"
             ],
             [
              0.2222222222222222,
              "#7201a8"
             ],
             [
              0.3333333333333333,
              "#9c179e"
             ],
             [
              0.4444444444444444,
              "#bd3786"
             ],
             [
              0.5555555555555556,
              "#d8576b"
             ],
             [
              0.6666666666666666,
              "#ed7953"
             ],
             [
              0.7777777777777778,
              "#fb9f3a"
             ],
             [
              0.8888888888888888,
              "#fdca26"
             ],
             [
              1,
              "#f0f921"
             ]
            ],
            "type": "histogram2dcontour"
           }
          ],
          "mesh3d": [
           {
            "colorbar": {
             "outlinewidth": 0,
             "ticks": ""
            },
            "type": "mesh3d"
           }
          ],
          "parcoords": [
           {
            "line": {
             "colorbar": {
              "outlinewidth": 0,
              "ticks": ""
             }
            },
            "type": "parcoords"
           }
          ],
          "pie": [
           {
            "automargin": true,
            "type": "pie"
           }
          ],
          "scatter": [
           {
            "fillpattern": {
             "fillmode": "overlay",
             "size": 10,
             "solidity": 0.2
            },
            "type": "scatter"
           }
          ],
          "scatter3d": [
           {
            "line": {
             "colorbar": {
              "outlinewidth": 0,
              "ticks": ""
             }
            },
            "marker": {
             "colorbar": {
              "outlinewidth": 0,
              "ticks": ""
             }
            },
            "type": "scatter3d"
           }
          ],
          "scattercarpet": [
           {
            "marker": {
             "colorbar": {
              "outlinewidth": 0,
              "ticks": ""
             }
            },
            "type": "scattercarpet"
           }
          ],
          "scattergeo": [
           {
            "marker": {
             "colorbar": {
              "outlinewidth": 0,
              "ticks": ""
             }
            },
            "type": "scattergeo"
           }
          ],
          "scattergl": [
           {
            "marker": {
             "colorbar": {
              "outlinewidth": 0,
              "ticks": ""
             }
            },
            "type": "scattergl"
           }
          ],
          "scattermap": [
           {
            "marker": {
             "colorbar": {
              "outlinewidth": 0,
              "ticks": ""
             }
            },
            "type": "scattermap"
           }
          ],
          "scattermapbox": [
           {
            "marker": {
             "colorbar": {
              "outlinewidth": 0,
              "ticks": ""
             }
            },
            "type": "scattermapbox"
           }
          ],
          "scatterpolar": [
           {
            "marker": {
             "colorbar": {
              "outlinewidth": 0,
              "ticks": ""
             }
            },
            "type": "scatterpolar"
           }
          ],
          "scatterpolargl": [
           {
            "marker": {
             "colorbar": {
              "outlinewidth": 0,
              "ticks": ""
             }
            },
            "type": "scatterpolargl"
           }
          ],
          "scatterternary": [
           {
            "marker": {
             "colorbar": {
              "outlinewidth": 0,
              "ticks": ""
             }
            },
            "type": "scatterternary"
           }
          ],
          "surface": [
           {
            "colorbar": {
             "outlinewidth": 0,
             "ticks": ""
            },
            "colorscale": [
             [
              0,
              "#0d0887"
             ],
             [
              0.1111111111111111,
              "#46039f"
             ],
             [
              0.2222222222222222,
              "#7201a8"
             ],
             [
              0.3333333333333333,
              "#9c179e"
             ],
             [
              0.4444444444444444,
              "#bd3786"
             ],
             [
              0.5555555555555556,
              "#d8576b"
             ],
             [
              0.6666666666666666,
              "#ed7953"
             ],
             [
              0.7777777777777778,
              "#fb9f3a"
             ],
             [
              0.8888888888888888,
              "#fdca26"
             ],
             [
              1,
              "#f0f921"
             ]
            ],
            "type": "surface"
           }
          ],
          "table": [
           {
            "cells": {
             "fill": {
              "color": "#EBF0F8"
             },
             "line": {
              "color": "white"
             }
            },
            "header": {
             "fill": {
              "color": "#C8D4E3"
             },
             "line": {
              "color": "white"
             }
            },
            "type": "table"
           }
          ]
         },
         "layout": {
          "annotationdefaults": {
           "arrowcolor": "#2a3f5f",
           "arrowhead": 0,
           "arrowwidth": 1
          },
          "autotypenumbers": "strict",
          "coloraxis": {
           "colorbar": {
            "outlinewidth": 0,
            "ticks": ""
           }
          },
          "colorscale": {
           "diverging": [
            [
             0,
             "#8e0152"
            ],
            [
             0.1,
             "#c51b7d"
            ],
            [
             0.2,
             "#de77ae"
            ],
            [
             0.3,
             "#f1b6da"
            ],
            [
             0.4,
             "#fde0ef"
            ],
            [
             0.5,
             "#f7f7f7"
            ],
            [
             0.6,
             "#e6f5d0"
            ],
            [
             0.7,
             "#b8e186"
            ],
            [
             0.8,
             "#7fbc41"
            ],
            [
             0.9,
             "#4d9221"
            ],
            [
             1,
             "#276419"
            ]
           ],
           "sequential": [
            [
             0,
             "#0d0887"
            ],
            [
             0.1111111111111111,
             "#46039f"
            ],
            [
             0.2222222222222222,
             "#7201a8"
            ],
            [
             0.3333333333333333,
             "#9c179e"
            ],
            [
             0.4444444444444444,
             "#bd3786"
            ],
            [
             0.5555555555555556,
             "#d8576b"
            ],
            [
             0.6666666666666666,
             "#ed7953"
            ],
            [
             0.7777777777777778,
             "#fb9f3a"
            ],
            [
             0.8888888888888888,
             "#fdca26"
            ],
            [
             1,
             "#f0f921"
            ]
           ],
           "sequentialminus": [
            [
             0,
             "#0d0887"
            ],
            [
             0.1111111111111111,
             "#46039f"
            ],
            [
             0.2222222222222222,
             "#7201a8"
            ],
            [
             0.3333333333333333,
             "#9c179e"
            ],
            [
             0.4444444444444444,
             "#bd3786"
            ],
            [
             0.5555555555555556,
             "#d8576b"
            ],
            [
             0.6666666666666666,
             "#ed7953"
            ],
            [
             0.7777777777777778,
             "#fb9f3a"
            ],
            [
             0.8888888888888888,
             "#fdca26"
            ],
            [
             1,
             "#f0f921"
            ]
           ]
          },
          "colorway": [
           "#636efa",
           "#EF553B",
           "#00cc96",
           "#ab63fa",
           "#FFA15A",
           "#19d3f3",
           "#FF6692",
           "#B6E880",
           "#FF97FF",
           "#FECB52"
          ],
          "font": {
           "color": "#2a3f5f"
          },
          "geo": {
           "bgcolor": "white",
           "lakecolor": "white",
           "landcolor": "white",
           "showlakes": true,
           "showland": true,
           "subunitcolor": "#C8D4E3"
          },
          "hoverlabel": {
           "align": "left"
          },
          "hovermode": "closest",
          "mapbox": {
           "style": "light"
          },
          "paper_bgcolor": "white",
          "plot_bgcolor": "white",
          "polar": {
           "angularaxis": {
            "gridcolor": "#EBF0F8",
            "linecolor": "#EBF0F8",
            "ticks": ""
           },
           "bgcolor": "white",
           "radialaxis": {
            "gridcolor": "#EBF0F8",
            "linecolor": "#EBF0F8",
            "ticks": ""
           }
          },
          "scene": {
           "xaxis": {
            "backgroundcolor": "white",
            "gridcolor": "#DFE8F3",
            "gridwidth": 2,
            "linecolor": "#EBF0F8",
            "showbackground": true,
            "ticks": "",
            "zerolinecolor": "#EBF0F8"
           },
           "yaxis": {
            "backgroundcolor": "white",
            "gridcolor": "#DFE8F3",
            "gridwidth": 2,
            "linecolor": "#EBF0F8",
            "showbackground": true,
            "ticks": "",
            "zerolinecolor": "#EBF0F8"
           },
           "zaxis": {
            "backgroundcolor": "white",
            "gridcolor": "#DFE8F3",
            "gridwidth": 2,
            "linecolor": "#EBF0F8",
            "showbackground": true,
            "ticks": "",
            "zerolinecolor": "#EBF0F8"
           }
          },
          "shapedefaults": {
           "line": {
            "color": "#2a3f5f"
           }
          },
          "ternary": {
           "aaxis": {
            "gridcolor": "#DFE8F3",
            "linecolor": "#A2B1C6",
            "ticks": ""
           },
           "baxis": {
            "gridcolor": "#DFE8F3",
            "linecolor": "#A2B1C6",
            "ticks": ""
           },
           "bgcolor": "white",
           "caxis": {
            "gridcolor": "#DFE8F3",
            "linecolor": "#A2B1C6",
            "ticks": ""
           }
          },
          "title": {
           "x": 0.05
          },
          "xaxis": {
           "automargin": true,
           "gridcolor": "#EBF0F8",
           "linecolor": "#EBF0F8",
           "ticks": "",
           "title": {
            "standoff": 15
           },
           "zerolinecolor": "#EBF0F8",
           "zerolinewidth": 2
          },
          "yaxis": {
           "automargin": true,
           "gridcolor": "#EBF0F8",
           "linecolor": "#EBF0F8",
           "ticks": "",
           "title": {
            "standoff": 15
           },
           "zerolinecolor": "#EBF0F8",
           "zerolinewidth": 2
          }
         }
        },
        "title": {
         "text": "The Incumbency Advantage"
        },
        "xaxis": {
         "anchor": "y",
         "domain": [
          0,
          1
         ],
         "title": {
          "text": "Democrat's margin of victory at time t"
         }
        },
        "yaxis": {
         "anchor": "x",
         "domain": [
          0,
          1
         ],
         "title": {
          "text": "Democrat's probability of victory time t+1"
         }
        }
       }
      }
     },
     "metadata": {},
     "output_type": "display_data"
    }
   ],
   "source": [
    "# get predicted values and bin them so can put on same plot\n",
    "pred_rdd2 = rdd2.fit().predict(rd_wide)\n",
    "new_rd_wide = rd_wide.copy()\n",
    "new_rd_wide['pred_val'] = pred_rdd2\n",
    "binned_data_rdd2 = new_rd_wide.groupby('margin_bin').mean().reset_index()\n",
    "\n",
    "fig = px.scatter(binned_data, x='margin', y='dem_win_p1',\n",
    "           title='The Incumbency Advantage',\n",
    "           labels={'margin':\"Democrat's margin of victory at time t\",\n",
    "                   'dem_win_p1': \"Democrat's probability of victory time t+1\"},\n",
    "           template=\"plotly_white\")\n",
    "fig.add_scatter(x=binned_data['margin'], y=binned_data_rdd2['pred_val'],\n",
    "               name='Fitted Values')\n",
    "fig.show()"
   ]
  },
  {
   "cell_type": "markdown",
   "metadata": {},
   "source": [
    "### The Role of Covariates\n",
    "\n",
    "Notice that we didn't include any other controls in the models above, such as candidate experience.  In principle, covariates are not needed for identification in RD, but they can help reduce sampling variability in the estimator and improve precision if they are correlated with the potential outcomes.  Note that this is a standard argument which also supports inclusion of covariates in analyses of randomized trials.\n",
    "\n",
    "Adding covariates should not affect the point estimate of the effect (very much). If it does, there is likely a problem.  The wider the bandwidth the more important it may be to include covariates -  including additional covariates may eliminate some bias that is the result of the inclusion of these additional observations far from the cutoff point.\n",
    "\n",
    "The first and most important point is that the presence of these covariates rarely changes the identification strategy. Typically, the conditional distribution of the covariates $Z$ given $X$ is continuous at $x = c$. If such discontinuities in other covariates are found, the justification of the identification strategy may be questionable. If the conditional distribution of $Z$ given $X$ is continuous at $x = c$, then including Z in the regression. \n",
    "\n",
    "### Threats to the Validity of the RDD\n",
    "\n",
    "It is impossible to test the continuity assumption directly, but we can test some implications of it.  Namely, all observed predetermined characteristics should have identical distributions on either side of the cutoff, in the limit, as we approach smaller and smaller bandwidths. That is, there should be no discontinuities in the observables.\n",
    "\n",
    "Again there is an analogy to an experiment: we cannot test whether unobserved characteristics are balanced, but we can test the observables. Rejection calls the randomization into question.\n",
    "\n",
    "A subtle point in the RD context is that a finding a discontinuity in observable covariates indicates a violation of the continuity assumption, not a violation of unconfoundedness, which is satisfied by definition.\n",
    "\n",
    "To make sure that our RDD is valid, we'll want to have evidence that there are not discontinuities in the covariates at the cut point - or with any pre-determined variables  E.g., we can test for discontinuities in the Democrates vote share at t-1."
   ]
  },
  {
   "cell_type": "code",
   "execution_count": 24,
   "metadata": {},
   "outputs": [
    {
     "data": {
      "application/vnd.plotly.v1+json": {
       "config": {
        "plotlyServerURL": "https://plot.ly"
       },
       "data": [
        {
         "hovertemplate": "Democrat's margin of victory at time t=%{x}<br>dem_win_m1=%{y}<extra></extra>",
         "legendgroup": "",
         "marker": {
          "color": "#636efa",
          "symbol": "circle"
         },
         "mode": "markers",
         "name": "",
         "orientation": "v",
         "showlegend": false,
         "type": "scatter",
         "x": {
          "bdata": "AAAAAABAVcAAAAAAAABUwAAAAAAAQFPAVVVVVVWVUsDNzMzMzIxRwAAAAAAAAFHAAAAAAACQUMAAAAAAAABQwAAAAAAAAE/AO7ETO7ETTsDoeZ7neR5NwNFFF110EUzAq6qqqqoaS8DT0tLS0hJKwCVqV6J2JUnAip3YiZ0YSMAxUMIbTR1HwOpNb3rTG0bAnm7ND4sURcBkamDvmBpEwJ7neZ7nGUPAgynyWTcYQsA4pXnxJxJBwOaMOWPOGEDADqbIZ90gPsCuR+F6FC48wPMt3/ItHzrAMFn+kuUvOMBb3IT5XS02wDmO4ziOMzTApZRSSiklMsCx3NMIyz0wwIxEqbGHWSzAFrKQhSxkKMA4hEM4hEMkwFVVVVVVVSDAHfrN1qHfGMDmhhiQjqUQwHxyuAz45ADA/a4WN2F+x7+/VNDqSwX9P4TMS4ngkQ5AI6p19kVUF0BGF1100UUfQOfFn0g4pSNAa8qasqasJ0DH380jVJ8rQK2eHQI3li9AoBBn5SfEMUCKndiJndgzQBX5rBtM0TVAHh4eHh6+N0AAAAAAAMQ5QCV+Romf0TtAMmfMGXPGPUBfvXr16tU/QD4n01cJ40BAlnsaYbnnQUDkKUGeEuRCQL733nvv3UNAvoT2EtrrREClVmqlVupFQNbiJszv6kZA4uHh4eHhR0AndmInduJIQDMzMzMz80lAip3YiZ3YSkBba6211tpLQAAAAAAA4ExA7SW0l9DeTUAAAAAAANBOQEMWspCF7E9AxU7sxE5sUEC0bjBFPutQQKiDOqiDelFAMzMzMzPzUUBVVVVVVXVSQEtLS0tL61JA9xLaS2hvU0DpoosuuuhTQD3P8zzPc1RA27Zt27btVECrqqqqqmpVQAAAAAAAAFZAt23btm17VkAAAAAAAABXQDw8PDw8fFdAlNdQXkP5V0AXXXTRRXdYQA==",
          "dtype": "f8"
         },
         "xaxis": "x",
         "y": {
          "bdata": "AAAAAAAAAAAAAAAAAAAAAAAAAAAAAPA/AAAAAAAAAAAAAAAAAAAAAAAAAAAAAAAAAAAAAAAAAAAAAAAAAAAAAAAAAAAAAAAAFDuxEzuxsz8AAAAAAAAAAAAAAAAAAAAAZCELWchCpj8eHh4eHh6eP5qZmZmZmZk/AAAAAAAAAAAor6G8hvKaPwAAAAAAAAAAC5sDiVbYjD8cTJHPusGkPwubA4lW2Jw/vxArSuMjkz8AAAAAAAAAANjq2SFwY5k/uXV5Bxwpqj+QcUHGBRmnP3Icx3Ecx7E/0nmLIZ23qD/3BpSJK92rP/gz4c+EP6M/GIZhGIZhuD/ATTFq+Nu0Px2l21dW78I/OONaJKipwD8lSZIkSZLEP440R5ojzdE/4W7se0RO0D/mW77lW77VP2G5pxGWe9o/OY7jOI7j2D/ZLKj2nEzfP3YVvtwQA+I/OQUvp+Dl5D+ZvkoYmwXlP0kPVM5u4ec/U0oppZRS6j/hV2MiPVDpPyS4j+A+gus/YsSIESNG7D89z/M8z/PsP57YiZ3Yie0/VMfe2jDN7T+21lprrbXuPw3lNZTXUO4/9n5Z75f17j/jt0s9Gb/tPy/0Qi/0Qu8/BPcR3Edw7z/R47twED3uPzrnnHPOOe8/uNoYmu5g7z/g7/f7/X7vP5NfLPnFku8/9+uSyodx7z+/vr6+vr7uPwAAAAAAAPA/+N5777337j8AAAAAAADwPwAAAAAAAPA/hfYS2kto7z9mZmZmZmbuP9/0pje96e0/3/It3/It7z8q8lk3mCLvPxA++OCDD+4/X/EVX/EV7z8AAAAAAADwPwAAAAAAAPA/T+zETuzE7j+MLrrooovuPxzHcRzHcew/AAAAAAAA8D8AAAAAAADwPwAAAAAAAPA/AAAAAAAA8D8AAAAAAADwPwAAAAAAAPA/juM4juM47j8AAAAAAADwPw==",
          "dtype": "f8"
         },
         "yaxis": "y"
        }
       ],
       "layout": {
        "legend": {
         "tracegroupgap": 0
        },
        "template": {
         "data": {
          "bar": [
           {
            "error_x": {
             "color": "#2a3f5f"
            },
            "error_y": {
             "color": "#2a3f5f"
            },
            "marker": {
             "line": {
              "color": "white",
              "width": 0.5
             },
             "pattern": {
              "fillmode": "overlay",
              "size": 10,
              "solidity": 0.2
             }
            },
            "type": "bar"
           }
          ],
          "barpolar": [
           {
            "marker": {
             "line": {
              "color": "white",
              "width": 0.5
             },
             "pattern": {
              "fillmode": "overlay",
              "size": 10,
              "solidity": 0.2
             }
            },
            "type": "barpolar"
           }
          ],
          "carpet": [
           {
            "aaxis": {
             "endlinecolor": "#2a3f5f",
             "gridcolor": "#C8D4E3",
             "linecolor": "#C8D4E3",
             "minorgridcolor": "#C8D4E3",
             "startlinecolor": "#2a3f5f"
            },
            "baxis": {
             "endlinecolor": "#2a3f5f",
             "gridcolor": "#C8D4E3",
             "linecolor": "#C8D4E3",
             "minorgridcolor": "#C8D4E3",
             "startlinecolor": "#2a3f5f"
            },
            "type": "carpet"
           }
          ],
          "choropleth": [
           {
            "colorbar": {
             "outlinewidth": 0,
             "ticks": ""
            },
            "type": "choropleth"
           }
          ],
          "contour": [
           {
            "colorbar": {
             "outlinewidth": 0,
             "ticks": ""
            },
            "colorscale": [
             [
              0,
              "#0d0887"
             ],
             [
              0.1111111111111111,
              "#46039f"
             ],
             [
              0.2222222222222222,
              "#7201a8"
             ],
             [
              0.3333333333333333,
              "#9c179e"
             ],
             [
              0.4444444444444444,
              "#bd3786"
             ],
             [
              0.5555555555555556,
              "#d8576b"
             ],
             [
              0.6666666666666666,
              "#ed7953"
             ],
             [
              0.7777777777777778,
              "#fb9f3a"
             ],
             [
              0.8888888888888888,
              "#fdca26"
             ],
             [
              1,
              "#f0f921"
             ]
            ],
            "type": "contour"
           }
          ],
          "contourcarpet": [
           {
            "colorbar": {
             "outlinewidth": 0,
             "ticks": ""
            },
            "type": "contourcarpet"
           }
          ],
          "heatmap": [
           {
            "colorbar": {
             "outlinewidth": 0,
             "ticks": ""
            },
            "colorscale": [
             [
              0,
              "#0d0887"
             ],
             [
              0.1111111111111111,
              "#46039f"
             ],
             [
              0.2222222222222222,
              "#7201a8"
             ],
             [
              0.3333333333333333,
              "#9c179e"
             ],
             [
              0.4444444444444444,
              "#bd3786"
             ],
             [
              0.5555555555555556,
              "#d8576b"
             ],
             [
              0.6666666666666666,
              "#ed7953"
             ],
             [
              0.7777777777777778,
              "#fb9f3a"
             ],
             [
              0.8888888888888888,
              "#fdca26"
             ],
             [
              1,
              "#f0f921"
             ]
            ],
            "type": "heatmap"
           }
          ],
          "histogram": [
           {
            "marker": {
             "pattern": {
              "fillmode": "overlay",
              "size": 10,
              "solidity": 0.2
             }
            },
            "type": "histogram"
           }
          ],
          "histogram2d": [
           {
            "colorbar": {
             "outlinewidth": 0,
             "ticks": ""
            },
            "colorscale": [
             [
              0,
              "#0d0887"
             ],
             [
              0.1111111111111111,
              "#46039f"
             ],
             [
              0.2222222222222222,
              "#7201a8"
             ],
             [
              0.3333333333333333,
              "#9c179e"
             ],
             [
              0.4444444444444444,
              "#bd3786"
             ],
             [
              0.5555555555555556,
              "#d8576b"
             ],
             [
              0.6666666666666666,
              "#ed7953"
             ],
             [
              0.7777777777777778,
              "#fb9f3a"
             ],
             [
              0.8888888888888888,
              "#fdca26"
             ],
             [
              1,
              "#f0f921"
             ]
            ],
            "type": "histogram2d"
           }
          ],
          "histogram2dcontour": [
           {
            "colorbar": {
             "outlinewidth": 0,
             "ticks": ""
            },
            "colorscale": [
             [
              0,
              "#0d0887"
             ],
             [
              0.1111111111111111,
              "#46039f"
             ],
             [
              0.2222222222222222,
              "#7201a8"
             ],
             [
              0.3333333333333333,
              "#9c179e"
             ],
             [
              0.4444444444444444,
              "#bd3786"
             ],
             [
              0.5555555555555556,
              "#d8576b"
             ],
             [
              0.6666666666666666,
              "#ed7953"
             ],
             [
              0.7777777777777778,
              "#fb9f3a"
             ],
             [
              0.8888888888888888,
              "#fdca26"
             ],
             [
              1,
              "#f0f921"
             ]
            ],
            "type": "histogram2dcontour"
           }
          ],
          "mesh3d": [
           {
            "colorbar": {
             "outlinewidth": 0,
             "ticks": ""
            },
            "type": "mesh3d"
           }
          ],
          "parcoords": [
           {
            "line": {
             "colorbar": {
              "outlinewidth": 0,
              "ticks": ""
             }
            },
            "type": "parcoords"
           }
          ],
          "pie": [
           {
            "automargin": true,
            "type": "pie"
           }
          ],
          "scatter": [
           {
            "fillpattern": {
             "fillmode": "overlay",
             "size": 10,
             "solidity": 0.2
            },
            "type": "scatter"
           }
          ],
          "scatter3d": [
           {
            "line": {
             "colorbar": {
              "outlinewidth": 0,
              "ticks": ""
             }
            },
            "marker": {
             "colorbar": {
              "outlinewidth": 0,
              "ticks": ""
             }
            },
            "type": "scatter3d"
           }
          ],
          "scattercarpet": [
           {
            "marker": {
             "colorbar": {
              "outlinewidth": 0,
              "ticks": ""
             }
            },
            "type": "scattercarpet"
           }
          ],
          "scattergeo": [
           {
            "marker": {
             "colorbar": {
              "outlinewidth": 0,
              "ticks": ""
             }
            },
            "type": "scattergeo"
           }
          ],
          "scattergl": [
           {
            "marker": {
             "colorbar": {
              "outlinewidth": 0,
              "ticks": ""
             }
            },
            "type": "scattergl"
           }
          ],
          "scattermap": [
           {
            "marker": {
             "colorbar": {
              "outlinewidth": 0,
              "ticks": ""
             }
            },
            "type": "scattermap"
           }
          ],
          "scattermapbox": [
           {
            "marker": {
             "colorbar": {
              "outlinewidth": 0,
              "ticks": ""
             }
            },
            "type": "scattermapbox"
           }
          ],
          "scatterpolar": [
           {
            "marker": {
             "colorbar": {
              "outlinewidth": 0,
              "ticks": ""
             }
            },
            "type": "scatterpolar"
           }
          ],
          "scatterpolargl": [
           {
            "marker": {
             "colorbar": {
              "outlinewidth": 0,
              "ticks": ""
             }
            },
            "type": "scatterpolargl"
           }
          ],
          "scatterternary": [
           {
            "marker": {
             "colorbar": {
              "outlinewidth": 0,
              "ticks": ""
             }
            },
            "type": "scatterternary"
           }
          ],
          "surface": [
           {
            "colorbar": {
             "outlinewidth": 0,
             "ticks": ""
            },
            "colorscale": [
             [
              0,
              "#0d0887"
             ],
             [
              0.1111111111111111,
              "#46039f"
             ],
             [
              0.2222222222222222,
              "#7201a8"
             ],
             [
              0.3333333333333333,
              "#9c179e"
             ],
             [
              0.4444444444444444,
              "#bd3786"
             ],
             [
              0.5555555555555556,
              "#d8576b"
             ],
             [
              0.6666666666666666,
              "#ed7953"
             ],
             [
              0.7777777777777778,
              "#fb9f3a"
             ],
             [
              0.8888888888888888,
              "#fdca26"
             ],
             [
              1,
              "#f0f921"
             ]
            ],
            "type": "surface"
           }
          ],
          "table": [
           {
            "cells": {
             "fill": {
              "color": "#EBF0F8"
             },
             "line": {
              "color": "white"
             }
            },
            "header": {
             "fill": {
              "color": "#C8D4E3"
             },
             "line": {
              "color": "white"
             }
            },
            "type": "table"
           }
          ]
         },
         "layout": {
          "annotationdefaults": {
           "arrowcolor": "#2a3f5f",
           "arrowhead": 0,
           "arrowwidth": 1
          },
          "autotypenumbers": "strict",
          "coloraxis": {
           "colorbar": {
            "outlinewidth": 0,
            "ticks": ""
           }
          },
          "colorscale": {
           "diverging": [
            [
             0,
             "#8e0152"
            ],
            [
             0.1,
             "#c51b7d"
            ],
            [
             0.2,
             "#de77ae"
            ],
            [
             0.3,
             "#f1b6da"
            ],
            [
             0.4,
             "#fde0ef"
            ],
            [
             0.5,
             "#f7f7f7"
            ],
            [
             0.6,
             "#e6f5d0"
            ],
            [
             0.7,
             "#b8e186"
            ],
            [
             0.8,
             "#7fbc41"
            ],
            [
             0.9,
             "#4d9221"
            ],
            [
             1,
             "#276419"
            ]
           ],
           "sequential": [
            [
             0,
             "#0d0887"
            ],
            [
             0.1111111111111111,
             "#46039f"
            ],
            [
             0.2222222222222222,
             "#7201a8"
            ],
            [
             0.3333333333333333,
             "#9c179e"
            ],
            [
             0.4444444444444444,
             "#bd3786"
            ],
            [
             0.5555555555555556,
             "#d8576b"
            ],
            [
             0.6666666666666666,
             "#ed7953"
            ],
            [
             0.7777777777777778,
             "#fb9f3a"
            ],
            [
             0.8888888888888888,
             "#fdca26"
            ],
            [
             1,
             "#f0f921"
            ]
           ],
           "sequentialminus": [
            [
             0,
             "#0d0887"
            ],
            [
             0.1111111111111111,
             "#46039f"
            ],
            [
             0.2222222222222222,
             "#7201a8"
            ],
            [
             0.3333333333333333,
             "#9c179e"
            ],
            [
             0.4444444444444444,
             "#bd3786"
            ],
            [
             0.5555555555555556,
             "#d8576b"
            ],
            [
             0.6666666666666666,
             "#ed7953"
            ],
            [
             0.7777777777777778,
             "#fb9f3a"
            ],
            [
             0.8888888888888888,
             "#fdca26"
            ],
            [
             1,
             "#f0f921"
            ]
           ]
          },
          "colorway": [
           "#636efa",
           "#EF553B",
           "#00cc96",
           "#ab63fa",
           "#FFA15A",
           "#19d3f3",
           "#FF6692",
           "#B6E880",
           "#FF97FF",
           "#FECB52"
          ],
          "font": {
           "color": "#2a3f5f"
          },
          "geo": {
           "bgcolor": "white",
           "lakecolor": "white",
           "landcolor": "white",
           "showlakes": true,
           "showland": true,
           "subunitcolor": "#C8D4E3"
          },
          "hoverlabel": {
           "align": "left"
          },
          "hovermode": "closest",
          "mapbox": {
           "style": "light"
          },
          "paper_bgcolor": "white",
          "plot_bgcolor": "white",
          "polar": {
           "angularaxis": {
            "gridcolor": "#EBF0F8",
            "linecolor": "#EBF0F8",
            "ticks": ""
           },
           "bgcolor": "white",
           "radialaxis": {
            "gridcolor": "#EBF0F8",
            "linecolor": "#EBF0F8",
            "ticks": ""
           }
          },
          "scene": {
           "xaxis": {
            "backgroundcolor": "white",
            "gridcolor": "#DFE8F3",
            "gridwidth": 2,
            "linecolor": "#EBF0F8",
            "showbackground": true,
            "ticks": "",
            "zerolinecolor": "#EBF0F8"
           },
           "yaxis": {
            "backgroundcolor": "white",
            "gridcolor": "#DFE8F3",
            "gridwidth": 2,
            "linecolor": "#EBF0F8",
            "showbackground": true,
            "ticks": "",
            "zerolinecolor": "#EBF0F8"
           },
           "zaxis": {
            "backgroundcolor": "white",
            "gridcolor": "#DFE8F3",
            "gridwidth": 2,
            "linecolor": "#EBF0F8",
            "showbackground": true,
            "ticks": "",
            "zerolinecolor": "#EBF0F8"
           }
          },
          "shapedefaults": {
           "line": {
            "color": "#2a3f5f"
           }
          },
          "ternary": {
           "aaxis": {
            "gridcolor": "#DFE8F3",
            "linecolor": "#A2B1C6",
            "ticks": ""
           },
           "baxis": {
            "gridcolor": "#DFE8F3",
            "linecolor": "#A2B1C6",
            "ticks": ""
           },
           "bgcolor": "white",
           "caxis": {
            "gridcolor": "#DFE8F3",
            "linecolor": "#A2B1C6",
            "ticks": ""
           }
          },
          "title": {
           "x": 0.05
          },
          "xaxis": {
           "automargin": true,
           "gridcolor": "#EBF0F8",
           "linecolor": "#EBF0F8",
           "ticks": "",
           "title": {
            "standoff": 15
           },
           "zerolinecolor": "#EBF0F8",
           "zerolinewidth": 2
          },
          "yaxis": {
           "automargin": true,
           "gridcolor": "#EBF0F8",
           "linecolor": "#EBF0F8",
           "ticks": "",
           "title": {
            "standoff": 15
           },
           "zerolinecolor": "#EBF0F8",
           "zerolinewidth": 2
          }
         }
        },
        "title": {
         "text": "Validity Test - Pre-determined Variables"
        },
        "xaxis": {
         "anchor": "y",
         "domain": [
          0,
          1
         ],
         "title": {
          "text": "Democrat's margin of victory at time t"
         }
        },
        "yaxis": {
         "anchor": "x",
         "domain": [
          0,
          1
         ],
         "title": {
          "text": "dem_win_m1"
         }
        }
       }
      }
     },
     "metadata": {},
     "output_type": "display_data"
    }
   ],
   "source": [
    "# Now test if other covariates smooth through cut point\n",
    "px.scatter(binned_data, x='margin', y='dem_win_m1',\n",
    "           title='Validity Test - Pre-determined Variables',\n",
    "           labels={'margin':\"Democrat's margin of victory at time t\",\n",
    "                   'dem_win_p1': \"Democrat's margin of victory at time t-1\"},\n",
    "           template=\"plotly_white\")"
   ]
  },
  {
   "cell_type": "markdown",
   "metadata": {},
   "source": [
    "### The rdd Package\n",
    "\n",
    "For RDD in Python, on might consider the [`rdd` package](https://pypi.org/project/rdd/).  It supports a number of fucntions useful for RDD estimators, such as computing optimal bandwith (Imbens and Kalyanaraman (2012)).\n",
    "\n",
    "As an example, let's use the `rdd` package to find the RD estimate of the incumbency advantage on our full data:"
   ]
  },
  {
   "cell_type": "code",
   "execution_count": 25,
   "metadata": {},
   "outputs": [
    {
     "name": "stdout",
     "output_type": "stream",
     "text": [
      "Estimation Equation:\t dem_win_p1 ~ TREATED + margin\n",
      "                            WLS Regression Results                            \n",
      "==============================================================================\n",
      "Dep. Variable:             dem_win_p1   R-squared:                       0.077\n",
      "Model:                            WLS   Adj. R-squared:                  0.073\n",
      "Method:                 Least Squares   F-statistic:                     18.08\n",
      "Date:                Mon, 22 Sep 2025   Prob (F-statistic):           2.88e-08\n",
      "Time:                        14:27:18   Log-Likelihood:                -297.51\n",
      "No. Observations:                 435   AIC:                             601.0\n",
      "Df Residuals:                     432   BIC:                             613.3\n",
      "Df Model:                           2                                         \n",
      "Covariance Type:            nonrobust                                         \n",
      "==============================================================================\n",
      "                 coef    std err          t      P>|t|      [0.025      0.975]\n",
      "------------------------------------------------------------------------------\n",
      "Intercept      0.4125      0.066      6.297      0.000       0.284       0.541\n",
      "TREATED        0.1048      0.095      1.099      0.273      -0.083       0.292\n",
      "margin         0.0587      0.030      1.987      0.048       0.001       0.117\n",
      "==============================================================================\n",
      "Omnibus:                     2590.639   Durbin-Watson:                   1.743\n",
      "Prob(Omnibus):                  0.000   Jarque-Bera (JB):               50.806\n",
      "Skew:                           0.092   Prob(JB):                     9.28e-12\n",
      "Kurtosis:                       1.336   Cond. No.                         8.27\n",
      "==============================================================================\n",
      "\n",
      "Notes:\n",
      "[1] Standard Errors assume that the covariance matrix of the errors is correctly specified.\n"
     ]
    }
   ],
   "source": [
    "# find IK optimal bandwidth\n",
    "bandwidth_opt = rdd.optimal_bandwidth(rd_wide['dem_win_p1'], rd_wide['margin'], cut=0)\n",
    "# do restrict data to within opt bandwith -- seems too small here\n",
    "# use bandwidth of 20\n",
    "data_rdd = rdd.truncated_data(rd_wide, 'margin', bandwidth_opt, cut=0)\n",
    "# estimate model\n",
    "# In way written, using local linear regression\n",
    "model = rdd.rdd(data_rdd, 'margin', 'dem_win_p1', cut=0)\n",
    "print(model.fit().summary())"
   ]
  },
  {
   "cell_type": "code",
   "execution_count": 26,
   "metadata": {},
   "outputs": [
    {
     "name": "stdout",
     "output_type": "stream",
     "text": [
      "Optimal bandwidth =  2.520988384088068\n"
     ]
    }
   ],
   "source": [
    "print('Optimal bandwidth = ', bandwidth_opt)"
   ]
  },
  {
   "cell_type": "markdown",
   "metadata": {},
   "source": [
    "### Summary\n",
    "\n",
    "Lee (2008) finds incumbency advantage of 7-8% of vote share (if party won last time, this is effect), which translates to 35\\% increase in prob winning.  We find effects of similar magnitude with these data - about 4-5% and 40%, repsectively.  Of course a weakness of the design (and any non-structural approach) is that it doesn't tell us anything about what drives incumbency advantage.\n",
    "\n",
    "Also, recall that one of the main points of this paper is that RD is value even if the running variable can be endogenous - as long as it can not be perfectly chosen.  The means we can use RDD not just with elections, but also things like thresholds for test scores, etc.\n"
   ]
  }
 ],
 "metadata": {
  "kernelspec": {
   "display_name": "usitc-env",
   "language": "python",
   "name": "python3"
  },
  "language_info": {
   "codemirror_mode": {
    "name": "ipython",
    "version": 3
   },
   "file_extension": ".py",
   "mimetype": "text/x-python",
   "name": "python",
   "nbconvert_exporter": "python",
   "pygments_lexer": "ipython3",
   "version": "3.12.11"
  }
 },
 "nbformat": 4,
 "nbformat_minor": 2
}
